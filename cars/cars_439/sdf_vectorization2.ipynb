{
 "cells": [
  {
   "cell_type": "code",
   "execution_count": 1,
   "metadata": {},
   "outputs": [],
   "source": [
    "#kernel XingangLi on UT Windows\n",
    "import trimesh\n",
    "from trimesh import transformations as trf\n",
    "import mesh_to_sdf\n",
    "import numpy as np\n",
    "import time\n",
    "import os\n",
    "from tqdm import tqdm\n",
    "import matplotlib.pyplot as plt\n",
    "from mpl_toolkits.mplot3d import Axes3D\n",
    "%matplotlib inline"
   ]
  },
  {
   "attachments": {},
   "cell_type": "markdown",
   "metadata": {},
   "source": [
    "### Ray test method to vectorize mesh models"
   ]
  },
  {
   "cell_type": "code",
   "execution_count": 2,
   "metadata": {},
   "outputs": [],
   "source": [
    "#for rotation\n",
    "def trig(angle):\n",
    "    r = np.deg2rad(angle)\n",
    "    return r\n",
    "\n",
    "def rotation_matrix(alpha=-90, beta=0, gamma=0):\n",
    "    #rotate the mesh\n",
    "    alpha = trig(alpha)\n",
    "    beta = trig(beta)\n",
    "    gamma = trig(gamma)\n",
    "\n",
    "    origin, xaxis, yaxis, zaxis = [0, 0, 0], [1, 0, 0], [0, 1, 0], [0, 0, 1]\n",
    "\n",
    "    Rx = trf.rotation_matrix(alpha, xaxis)\n",
    "    Ry = trf.rotation_matrix(beta, yaxis)\n",
    "    Rz = trf.rotation_matrix(gamma, zaxis)\n",
    "\n",
    "    R = trf.concatenate_matrices(Rx, Ry, Rz)           \n",
    "    R2=R[:3,:3]\n",
    "\n",
    "    return R2\n",
    "\n",
    "def write_csv_file(file_name, folder_name_list, vector_list):\n",
    "    # Open a new CSV file for writing\n",
    "    with open(file_name, 'w') as f:\n",
    "        # Loop over the file_data list and write each row to the CSV file\n",
    "        if len(folder_name_list) == len(vector_list):\n",
    "            for i in range(len(vector_list)):\n",
    "                file_name = folder_name_list[i]\n",
    "                data = vector_list[i]\n",
    "                # Write the file name to the first column\n",
    "                f.write(file_name + ',')\n",
    "                # Write the NumPy array to the remaining columns\n",
    "                np.savetxt(f, data[np.newaxis], delimiter=',')\n",
    "\n",
    "def visualize_mesh_point_matrix(mesh, points):\n",
    "     #visualization\n",
    "    # Plot the trimesh object\n",
    "    fig = plt.figure()\n",
    "    ax = fig.add_subplot(111, projection='3d')\n",
    "    ax.plot_trisurf(mesh.vertices[:, 0], mesh.vertices[:, 1], mesh.vertices[:, 2], triangles=mesh.faces, color='red')\n",
    "\n",
    "    # Plot the point grid\n",
    "    ax.scatter(points[:, 0], points[:, 1], points[:, 2], color='blue', alpha=0.5)\n",
    "\n",
    "    # Set the axis limits\n",
    "    ax.set_xlim(-3, 3)\n",
    "    ax.set_ylim(-2, 2)\n",
    "    ax.set_zlim(-2, 2)\n",
    "\n",
    "    # Show the plot\n",
    "    plt.show()\n"
   ]
  },
  {
   "cell_type": "code",
   "execution_count": 3,
   "metadata": {},
   "outputs": [],
   "source": [
    "def mesh2sdf_vectorization(mesh, x=50, y=20, z=20):\n",
    "    '''\n",
    "    calculate binary representation vector of a car shape\n",
    "       input: mesh\n",
    "       output: vector representation of a mesh\n",
    "       [35, 12, 12] = 5040\n",
    "       [40, 16, 16] = 10240\n",
    "       [50, 20, 20] = 20000\n",
    "       '''\n",
    "    \n",
    "    start_time = time.time()\n",
    "    \n",
    "    #original mass center and bounding box\n",
    "    # print(mesh.center_mass)\n",
    "    # bbx_ex = mesh.bounding_box.primitive.extents\n",
    "    # print(bbx_ex)#bounding box size\n",
    "\n",
    "    R2 = rotation_matrix(alpha=-90, beta=0, gamma=0)\n",
    "    # The rotation matrix is applyed to the mesh\n",
    "    mesh.vertices = np.matmul(mesh.vertices, R2)\n",
    "    mesh.vertices -= mesh.center_mass\n",
    "    # print(mesh.center_mass)\n",
    "    mesh.vertices = mesh.vertices * 5 #scale to 5*2*2 box\n",
    "    # bbx_ex = mesh.bounding_box.primitive.extents\n",
    "    # print(bbx_ex) #bounding box size\n",
    "    \n",
    "    #construct points matrix \n",
    "    x_p = np.linspace(-2.5, 2.5, x) \n",
    "    y_p = np.linspace(-1.0, 1.0, y)\n",
    "    z_p = np.linspace(-1.0, 1.0, z)\n",
    "    points = np.vstack(np.meshgrid(x_p, y_p, z_p)).reshape(3,-1).T\n",
    "    \n",
    "   #  #if a point inside the watertight\n",
    "   #  sd = mesh.contains(points)\n",
    "   #  del mesh\n",
    "   #  sd = sd * 1 #convert boolean to int\n",
    "\n",
    "    sdf = mesh_to_sdf.mesh_to_sdf(mesh, points, \n",
    "                        surface_point_method='scan', sign_method='normal', \n",
    "                        bounding_radius=None, scan_count=50, scan_resolution=200, \n",
    "                        normal_sample_count=11) #scan_count=100, scan_resolution=400, sample_point_count=10000000 (when using 'sample' method)\n",
    "   \n",
    "    #convert to binary representation\n",
    "    b = np.where(sdf>0, 0, 1)\n",
    "\n",
    "    del mesh\n",
    "    #show execution time\n",
    "    execution_time = time.time() - start_time\n",
    "   #  print(\"execution time: %s\" %(execution_time))\n",
    "    \n",
    "   #  #visualize the mesh and point grid\n",
    "   #  visualize_mesh_point_matrix(mesh, points)\n",
    "    \n",
    "    return b, execution_time"
   ]
  },
  {
   "cell_type": "code",
   "execution_count": 4,
   "metadata": {},
   "outputs": [],
   "source": [
    "settings = [[35, 12, 12], [40, 16, 16], [50, 20, 20]]\n",
    "dimensions = ['5040', '10240', '20000']\n",
    "tar_folder = './cars2'\n",
    "folders = [f for f in os.listdir(tar_folder)]"
   ]
  },
  {
   "cell_type": "code",
   "execution_count": 5,
   "metadata": {},
   "outputs": [],
   "source": [
    "# settings = [[25, 10, 10]]\n",
    "# dimensions = ['2500']\n",
    "# folders = [f for f in os.listdir('./cars')]"
   ]
  },
  {
   "cell_type": "code",
   "execution_count": 6,
   "metadata": {
    "scrolled": false
   },
   "outputs": [
    {
     "name": "stderr",
     "output_type": "stream",
     "text": [
      "100%|██████████| 100/100 [28:27<00:00, 17.07s/it]\n"
     ]
    },
    {
     "name": "stdout",
     "output_type": "stream",
     "text": [
      "Average time for processing one mesh: 17.018093252182005\n"
     ]
    },
    {
     "name": "stderr",
     "output_type": "stream",
     "text": [
      "100%|██████████| 100/100 [29:24<00:00, 17.65s/it]\n"
     ]
    },
    {
     "name": "stdout",
     "output_type": "stream",
     "text": [
      "Average time for processing one mesh: 17.60379710674286\n"
     ]
    },
    {
     "name": "stderr",
     "output_type": "stream",
     "text": [
      "100%|██████████| 100/100 [28:57<00:00, 17.38s/it]\n"
     ]
    },
    {
     "name": "stdout",
     "output_type": "stream",
     "text": [
      "Average time for processing one mesh: 17.331560781002043\n"
     ]
    }
   ],
   "source": [
    "for i, setting in enumerate(settings[:]):\n",
    "    dim = dimensions[i]\n",
    "    vec_list = []\n",
    "    total_time = 0\n",
    "    x_pm, y_pm, z_pm = setting\n",
    "    for folder in tqdm(folders[:]):\n",
    "        mesh_file = os.path.join(tar_folder + '/' + folder + '/' + 'car_reg_water.obj')\n",
    "        mesh = trimesh.load(mesh_file)\n",
    "        try:\n",
    "            sd, exe_time = mesh2sdf_vectorization(mesh, x=x_pm, y=y_pm, z=z_pm)\n",
    "            vec_list.append(np.array(sd))\n",
    "            total_time += exe_time\n",
    "        except:\n",
    "            print(\"Error occurs:\", folder)\n",
    "            continue\n",
    "        \n",
    "    ave_time = total_time / len(folders)\n",
    "    print(f\"Average time for processing one mesh: {ave_time}\")\n",
    "    write_csv_file(f'../../../../{dim}_vectors_sdf_low_res_50200_2.csv', folders, vec_list)"
   ]
  }
 ],
 "metadata": {
  "kernelspec": {
   "display_name": "XingangLi",
   "language": "python",
   "name": "python3"
  },
  "language_info": {
   "codemirror_mode": {
    "name": "ipython",
    "version": 3
   },
   "file_extension": ".py",
   "mimetype": "text/x-python",
   "name": "python",
   "nbconvert_exporter": "python",
   "pygments_lexer": "ipython3",
   "version": "3.9.12"
  }
 },
 "nbformat": 4,
 "nbformat_minor": 2
}
