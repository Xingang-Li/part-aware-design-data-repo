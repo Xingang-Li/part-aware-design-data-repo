{
 "cells": [
  {
   "cell_type": "code",
   "execution_count": 88,
   "metadata": {},
   "outputs": [],
   "source": [
    "import trimesh\n",
    "from trimesh import transformations as trf\n",
    "import numpy as np\n",
    "import time\n",
    "import os\n",
    "import matplotlib.pyplot as plt\n",
    "from mpl_toolkits.mplot3d import Axes3D\n",
    "%matplotlib inline"
   ]
  },
  {
   "cell_type": "code",
   "execution_count": 89,
   "metadata": {},
   "outputs": [],
   "source": [
    "#for rotation\n",
    "def trig(angle):\n",
    "    r = np.deg2rad(angle)\n",
    "    return r\n",
    "\n",
    "def rotation_matrix(alpha=-90, beta=0, gamma=0):\n",
    "    #rotate the mesh\n",
    "    alpha = trig(alpha)\n",
    "    beta = trig(beta)\n",
    "    gamma = trig(gamma)\n",
    "\n",
    "    origin, xaxis, yaxis, zaxis = [0, 0, 0], [1, 0, 0], [0, 1, 0], [0, 0, 1]\n",
    "\n",
    "    Rx = trf.rotation_matrix(alpha, xaxis)\n",
    "    Ry = trf.rotation_matrix(beta, yaxis)\n",
    "    Rz = trf.rotation_matrix(gamma, zaxis)\n",
    "\n",
    "    R = trf.concatenate_matrices(Rx, Ry, Rz)           \n",
    "    R2=R[:3,:3]\n",
    "\n",
    "    return R2\n",
    "\n",
    "def write_csv_file(file_name, folder_name_list, vector_list):\n",
    "    # Open a new CSV file for writing\n",
    "    with open(file_name, 'w') as f:\n",
    "        # Loop over the file_data list and write each row to the CSV file\n",
    "        if len(folder_name_list) != len(vector_list):\n",
    "            for i in range(len(vector_list)):\n",
    "                file_name = folder_name_list[i]\n",
    "                data = vector_list[i]\n",
    "                # Write the file name to the first column\n",
    "                f.write(file_name + ',')\n",
    "                # Write the NumPy array to the remaining columns\n",
    "                np.savetxt(f, data[np.newaxis], delimiter=',')\n"
   ]
  },
  {
   "cell_type": "code",
   "execution_count": 90,
   "metadata": {},
   "outputs": [],
   "source": [
    "#Change the vectorization method to mesh.contains(points), \n",
    "#no need to calculate the sdf distance\n",
    "\n",
    "def sdf_binary(mesh, x=50, y=20, z=20):\n",
    "    '''\n",
    "    calculate binary representation vector of a car shape\n",
    "       input: mesh\n",
    "       output: vector representation of a mesh\n",
    "       [35, 12, 12] = 5040\n",
    "       [40, 16, 16] = 10240\n",
    "       [50, 20, 20] = 20000\n",
    "       '''\n",
    "    \n",
    "    start_time = time.time()\n",
    "    \n",
    "    #original mass center and bounding box\n",
    "    # print(mesh.center_mass)\n",
    "    # bbx_ex = mesh.bounding_box.primitive.extents\n",
    "    # print(bbx_ex)#bounding box size\n",
    "\n",
    "    #set mass center to (0,0,0)\n",
    "    mesh.vertices -= mesh.center_mass\n",
    "    # print(mesh.center_mass)\n",
    "\n",
    "    #rescale the mesh to real scale in meters\n",
    "    mesh.vertices = mesh.vertices * 5\n",
    "    # bbx_ex = mesh.bounding_box.primitive.extents\n",
    "    # print(bbx_ex) #bounding box size\n",
    "\n",
    "    R2 = rotation_matrix(alpha=-90, beta=0, gamma=0)\n",
    "\n",
    "    # The rotation matrix is applyed to the mesh\n",
    "    mesh.vertices = np.matmul(mesh.vertices,R2)\n",
    "    \n",
    "    #construct points matrix used to enclude the mesh\n",
    "    x_p = np.linspace(-2.5, 2.5, x) \n",
    "    y_p = np.linspace(-1.0, 1.0, y)\n",
    "    z_p = np.linspace(-1.0, 1.0, z)\n",
    "    points = np.vstack(np.meshgrid(x_p, y_p, z_p)).reshape(3,-1).T\n",
    "    \n",
    "    #if a point inside the mesh\n",
    "    sd = mesh.contains(points)\n",
    "    #convert boolean to int\n",
    "    sd = sd * 1\n",
    "    \n",
    "    #show execution time\n",
    "    print(\"execution time: %s\" %(time.time() - start_time))\n",
    "\n",
    "   #  #visualization\n",
    "   #  # Plot the trimesh object\n",
    "   #  fig = plt.figure()\n",
    "   #  ax = fig.add_subplot(111, projection='3d')\n",
    "   #  ax.plot_trisurf(mesh.vertices[:, 0], mesh.vertices[:, 1], mesh.vertices[:, 2], triangles=mesh.faces, color='red')\n",
    "\n",
    "   #  # Plot the point grid\n",
    "   #  ax.scatter(points[:, 0], points[:, 1], points[:, 2], color='blue', alpha=0.5)\n",
    "\n",
    "   #  # Set the axis limits\n",
    "   #  ax.set_xlim(-3, 3)\n",
    "   #  ax.set_ylim(-2, 2)\n",
    "   #  ax.set_zlim(-2, 2)\n",
    "\n",
    "   #  # Show the plot\n",
    "   #  plt.show()\n",
    "    \n",
    "    return sd"
   ]
  },
  {
   "cell_type": "code",
   "execution_count": 91,
   "metadata": {},
   "outputs": [],
   "source": [
    "settings = [[35, 12, 12], [40, 16, 16], [50, 20, 20]]\n",
    "dimensions = ['5040', '10240', '20000']\n",
    "folders = [f for f in os.listdir('./cars')]"
   ]
  },
  {
   "cell_type": "code",
   "execution_count": 92,
   "metadata": {
    "scrolled": false
   },
   "outputs": [
    {
     "name": "stdout",
     "output_type": "stream",
     "text": [
      "execution time: 0.01397252082824707\n",
      "./cars/1079efee042629d4ce28f0f1b509eda/car_reg.obj\n",
      "execution time: 0.01096796989440918\n",
      "./cars/10c19d45fed88e6984c322bbb3fe1ad/car_reg.obj\n",
      "execution time: 0.011968135833740234\n",
      "./cars/119464e186d8ef6f52aa494042b7c9db/car_reg.obj\n",
      "execution time: 0.010970830917358398\n",
      "./cars/1079efee042629d4ce28f0f1b509eda/car_reg.obj\n",
      "execution time: 0.011058807373046875\n",
      "./cars/10c19d45fed88e6984c322bbb3fe1ad/car_reg.obj\n",
      "execution time: 0.012934684753417969\n",
      "./cars/119464e186d8ef6f52aa494042b7c9db/car_reg.obj\n",
      "execution time: 0.012105464935302734\n",
      "./cars/1079efee042629d4ce28f0f1b509eda/car_reg.obj\n",
      "execution time: 0.01196742057800293\n",
      "./cars/10c19d45fed88e6984c322bbb3fe1ad/car_reg.obj\n",
      "execution time: 0.010969161987304688\n",
      "./cars/119464e186d8ef6f52aa494042b7c9db/car_reg.obj\n"
     ]
    }
   ],
   "source": [
    "vec_list = []\n",
    "for i, setting in enumerate(settings):\n",
    "    dim = dimensions[i]\n",
    "    for folder in folders[:3]:\n",
    "        mesh_file = os.path.join('./cars' + '/' + folder + '/' + 'car_reg.obj')\n",
    "        mesh = trimesh.load(mesh_file)\n",
    "        sd = sdf_binary(mesh, x=5, y=2, z=2)\n",
    "        vec_list.append(np.array(sd))\n",
    "        print(mesh_file)\n",
    "    write_csv_file(f'./v_rep_{dim}.csv', folders, vec_list)"
   ]
  },
  {
   "cell_type": "code",
   "execution_count": 93,
   "metadata": {},
   "outputs": [],
   "source": [
    "# np.savetxt(f'v_rep_{dim}.csv',sd_array, delimiter=',', fmt='%.2e')"
   ]
  }
 ],
 "metadata": {
  "kernelspec": {
   "display_name": "XingangLi",
   "language": "python",
   "name": "python3"
  },
  "language_info": {
   "codemirror_mode": {
    "name": "ipython",
    "version": 3
   },
   "file_extension": ".py",
   "mimetype": "text/x-python",
   "name": "python",
   "nbconvert_exporter": "python",
   "pygments_lexer": "ipython3",
   "version": "3.9.12"
  }
 },
 "nbformat": 4,
 "nbformat_minor": 2
}
