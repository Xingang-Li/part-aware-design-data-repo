{
 "cells": [
  {
   "cell_type": "code",
   "execution_count": 117,
   "metadata": {},
   "outputs": [],
   "source": [
    "import trimesh\n",
    "from trimesh import transformations as trf\n",
    "import numpy as np\n",
    "import time\n",
    "import os\n",
    "from tqdm import tqdm\n",
    "import matplotlib.pyplot as plt\n",
    "from mpl_toolkits.mplot3d import Axes3D\n",
    "%matplotlib inline"
   ]
  },
  {
   "attachments": {},
   "cell_type": "markdown",
   "metadata": {},
   "source": [
    "###ray test method to vectorize mesh models"
   ]
  },
  {
   "cell_type": "code",
   "execution_count": 118,
   "metadata": {},
   "outputs": [],
   "source": [
    "#for rotation\n",
    "def trig(angle):\n",
    "    r = np.deg2rad(angle)\n",
    "    return r\n",
    "\n",
    "def rotation_matrix(alpha=-90, beta=0, gamma=0):\n",
    "    #rotate the mesh\n",
    "    alpha = trig(alpha)\n",
    "    beta = trig(beta)\n",
    "    gamma = trig(gamma)\n",
    "\n",
    "    origin, xaxis, yaxis, zaxis = [0, 0, 0], [1, 0, 0], [0, 1, 0], [0, 0, 1]\n",
    "\n",
    "    Rx = trf.rotation_matrix(alpha, xaxis)\n",
    "    Ry = trf.rotation_matrix(beta, yaxis)\n",
    "    Rz = trf.rotation_matrix(gamma, zaxis)\n",
    "\n",
    "    R = trf.concatenate_matrices(Rx, Ry, Rz)           \n",
    "    R2=R[:3,:3]\n",
    "\n",
    "    return R2\n",
    "\n",
    "def write_csv_file(file_name, folder_name_list, vector_list):\n",
    "    # Open a new CSV file for writing\n",
    "    with open(file_name, 'w') as f:\n",
    "        # Loop over the file_data list and write each row to the CSV file\n",
    "        if len(folder_name_list) == len(vector_list):\n",
    "            for i in range(len(vector_list)):\n",
    "                file_name = folder_name_list[i]\n",
    "                data = vector_list[i]\n",
    "                # Write the file name to the first column\n",
    "                f.write(file_name + ',')\n",
    "                # Write the NumPy array to the remaining columns\n",
    "                np.savetxt(f, data[np.newaxis], delimiter=',')\n",
    "\n",
    "def visualize_mesh_point_matrix(mesh, points):\n",
    "     #visualization\n",
    "    # Plot the trimesh object\n",
    "    fig = plt.figure()\n",
    "    ax = fig.add_subplot(111, projection='3d')\n",
    "    ax.plot_trisurf(mesh.vertices[:, 0], mesh.vertices[:, 1], mesh.vertices[:, 2], triangles=mesh.faces, color='red')\n",
    "\n",
    "    # Plot the point grid\n",
    "    ax.scatter(points[:, 0], points[:, 1], points[:, 2], color='blue', alpha=0.5)\n",
    "\n",
    "    # Set the axis limits\n",
    "    ax.set_xlim(-3, 3)\n",
    "    ax.set_ylim(-2, 2)\n",
    "    ax.set_zlim(-2, 2)\n",
    "\n",
    "    # Show the plot\n",
    "    plt.show()\n"
   ]
  },
  {
   "cell_type": "code",
   "execution_count": 119,
   "metadata": {},
   "outputs": [],
   "source": [
    "#Change the vectorization method to mesh.contains(points), \n",
    "#no need to calculate the sdf distance\n",
    "\n",
    "def sdf_binary(mesh, x=50, y=20, z=20):\n",
    "    '''\n",
    "    calculate binary representation vector of a car shape\n",
    "       input: mesh\n",
    "       output: vector representation of a mesh\n",
    "       [35, 12, 12] = 5040\n",
    "       [40, 16, 16] = 10240\n",
    "       [50, 20, 20] = 20000\n",
    "       '''\n",
    "    \n",
    "    start_time = time.time()\n",
    "    \n",
    "    #original mass center and bounding box\n",
    "    # print(mesh.center_mass)\n",
    "    # bbx_ex = mesh.bounding_box.primitive.extents\n",
    "    # print(bbx_ex)#bounding box size\n",
    "\n",
    "    R2 = rotation_matrix(alpha=-90, beta=0, gamma=0)\n",
    "    # The rotation matrix is applyed to the mesh\n",
    "    mesh.vertices = np.matmul(mesh.vertices, R2)\n",
    "    mesh.vertices -= mesh.center_mass\n",
    "    # print(mesh.center_mass)\n",
    "    mesh.vertices = mesh.vertices * 5 #scale to 5*2*2 box\n",
    "    # bbx_ex = mesh.bounding_box.primitive.extents\n",
    "    # print(bbx_ex) #bounding box size\n",
    "    \n",
    "    #construct points matrix \n",
    "    x_p = np.linspace(-2.5, 2.5, x) \n",
    "    y_p = np.linspace(-1.0, 1.0, y)\n",
    "    z_p = np.linspace(-1.0, 1.0, z)\n",
    "    points = np.vstack(np.meshgrid(x_p, y_p, z_p)).reshape(3,-1).T\n",
    "    \n",
    "    #if a point inside the mesh\n",
    "    sd = mesh.contains(points)\n",
    "    sd = sd * 1 #convert boolean to int\n",
    "    \n",
    "    #show execution time\n",
    "    execution_time = time.time() - start_time\n",
    "   #  print(\"execution time: %s\" %(execution_time))\n",
    "    \n",
    "   #  #visualize the mesh and point grid\n",
    "   #  visualize_mesh_point_matrix(mesh, points)\n",
    "    \n",
    "    return sd, execution_time"
   ]
  },
  {
   "cell_type": "code",
   "execution_count": 120,
   "metadata": {},
   "outputs": [],
   "source": [
    "settings = [[35, 12, 12], [40, 16, 16], [50, 20, 20]]\n",
    "dimensions = ['5040', '10240', '20000']\n",
    "folders = [f for f in os.listdir('./cars')]"
   ]
  },
  {
   "cell_type": "code",
   "execution_count": 121,
   "metadata": {
    "scrolled": false
   },
   "outputs": [
    {
     "name": "stderr",
     "output_type": "stream",
     "text": [
      " 13%|█▎        | 58/439 [01:41<11:53,  1.87s/it]Mesh is non-watertight for contained point query!\n",
      " 17%|█▋        | 73/439 [02:07<10:41,  1.75s/it]\n"
     ]
    },
    {
     "ename": "KeyboardInterrupt",
     "evalue": "",
     "output_type": "error",
     "traceback": [
      "\u001b[1;31m---------------------------------------------------------------------------\u001b[0m",
      "\u001b[1;31mKeyboardInterrupt\u001b[0m                         Traceback (most recent call last)",
      "\u001b[1;32md:\\XingangLi\\Research\\part-aware-design-data-repo\\cars\\cars_439\\ray_test_vectorization.ipynb Cell 6\u001b[0m in \u001b[0;36m<cell line: 1>\u001b[1;34m()\u001b[0m\n\u001b[0;32m      <a href='vscode-notebook-cell:/d%3A/XingangLi/Research/part-aware-design-data-repo/cars/cars_439/ray_test_vectorization.ipynb#W3sZmlsZQ%3D%3D?line=6'>7</a>\u001b[0m mesh_file \u001b[39m=\u001b[39m os\u001b[39m.\u001b[39mpath\u001b[39m.\u001b[39mjoin(\u001b[39m'\u001b[39m\u001b[39m./cars\u001b[39m\u001b[39m'\u001b[39m \u001b[39m+\u001b[39m \u001b[39m'\u001b[39m\u001b[39m/\u001b[39m\u001b[39m'\u001b[39m \u001b[39m+\u001b[39m folder \u001b[39m+\u001b[39m \u001b[39m'\u001b[39m\u001b[39m/\u001b[39m\u001b[39m'\u001b[39m \u001b[39m+\u001b[39m \u001b[39m'\u001b[39m\u001b[39mcar_reg.obj\u001b[39m\u001b[39m'\u001b[39m)\n\u001b[0;32m      <a href='vscode-notebook-cell:/d%3A/XingangLi/Research/part-aware-design-data-repo/cars/cars_439/ray_test_vectorization.ipynb#W3sZmlsZQ%3D%3D?line=7'>8</a>\u001b[0m mesh \u001b[39m=\u001b[39m trimesh\u001b[39m.\u001b[39mload(mesh_file)\n\u001b[1;32m----> <a href='vscode-notebook-cell:/d%3A/XingangLi/Research/part-aware-design-data-repo/cars/cars_439/ray_test_vectorization.ipynb#W3sZmlsZQ%3D%3D?line=8'>9</a>\u001b[0m sd, exe_time \u001b[39m=\u001b[39m sdf_binary(mesh, x\u001b[39m=\u001b[39;49mx_pm, y\u001b[39m=\u001b[39;49my_pm, z\u001b[39m=\u001b[39;49mz_pm)\n\u001b[0;32m     <a href='vscode-notebook-cell:/d%3A/XingangLi/Research/part-aware-design-data-repo/cars/cars_439/ray_test_vectorization.ipynb#W3sZmlsZQ%3D%3D?line=9'>10</a>\u001b[0m vec_list\u001b[39m.\u001b[39mappend(np\u001b[39m.\u001b[39marray(sd))\n\u001b[0;32m     <a href='vscode-notebook-cell:/d%3A/XingangLi/Research/part-aware-design-data-repo/cars/cars_439/ray_test_vectorization.ipynb#W3sZmlsZQ%3D%3D?line=10'>11</a>\u001b[0m total_time \u001b[39m+\u001b[39m\u001b[39m=\u001b[39m exe_time\n",
      "\u001b[1;32md:\\XingangLi\\Research\\part-aware-design-data-repo\\cars\\cars_439\\ray_test_vectorization.ipynb Cell 6\u001b[0m in \u001b[0;36msdf_binary\u001b[1;34m(mesh, x, y, z)\u001b[0m\n\u001b[0;32m     <a href='vscode-notebook-cell:/d%3A/XingangLi/Research/part-aware-design-data-repo/cars/cars_439/ray_test_vectorization.ipynb#W3sZmlsZQ%3D%3D?line=33'>34</a>\u001b[0m points \u001b[39m=\u001b[39m np\u001b[39m.\u001b[39mvstack(np\u001b[39m.\u001b[39mmeshgrid(x_p, y_p, z_p))\u001b[39m.\u001b[39mreshape(\u001b[39m3\u001b[39m,\u001b[39m-\u001b[39m\u001b[39m1\u001b[39m)\u001b[39m.\u001b[39mT\n\u001b[0;32m     <a href='vscode-notebook-cell:/d%3A/XingangLi/Research/part-aware-design-data-repo/cars/cars_439/ray_test_vectorization.ipynb#W3sZmlsZQ%3D%3D?line=35'>36</a>\u001b[0m \u001b[39m#if a point inside the mesh\u001b[39;00m\n\u001b[1;32m---> <a href='vscode-notebook-cell:/d%3A/XingangLi/Research/part-aware-design-data-repo/cars/cars_439/ray_test_vectorization.ipynb#W3sZmlsZQ%3D%3D?line=36'>37</a>\u001b[0m sd \u001b[39m=\u001b[39m mesh\u001b[39m.\u001b[39;49mcontains(points)\n\u001b[0;32m     <a href='vscode-notebook-cell:/d%3A/XingangLi/Research/part-aware-design-data-repo/cars/cars_439/ray_test_vectorization.ipynb#W3sZmlsZQ%3D%3D?line=37'>38</a>\u001b[0m sd \u001b[39m=\u001b[39m sd \u001b[39m*\u001b[39m \u001b[39m1\u001b[39m \u001b[39m#convert boolean to int\u001b[39;00m\n\u001b[0;32m     <a href='vscode-notebook-cell:/d%3A/XingangLi/Research/part-aware-design-data-repo/cars/cars_439/ray_test_vectorization.ipynb#W3sZmlsZQ%3D%3D?line=39'>40</a>\u001b[0m \u001b[39m#show execution time\u001b[39;00m\n",
      "File \u001b[1;32mc:\\Software\\Anaconda3\\envs\\XingangLi\\lib\\site-packages\\trimesh\\base.py:2862\u001b[0m, in \u001b[0;36mTrimesh.contains\u001b[1;34m(self, points)\u001b[0m\n\u001b[0;32m   2860\u001b[0m \u001b[39mif\u001b[39;00m \u001b[39mnot\u001b[39;00m \u001b[39mself\u001b[39m\u001b[39m.\u001b[39mis_watertight:\n\u001b[0;32m   2861\u001b[0m     log\u001b[39m.\u001b[39mwarning(\u001b[39m'\u001b[39m\u001b[39mMesh is non-watertight for contained point query!\u001b[39m\u001b[39m'\u001b[39m)\n\u001b[1;32m-> 2862\u001b[0m contains \u001b[39m=\u001b[39m \u001b[39mself\u001b[39;49m\u001b[39m.\u001b[39;49mray\u001b[39m.\u001b[39;49mcontains_points(points)\n\u001b[0;32m   2863\u001b[0m \u001b[39mreturn\u001b[39;00m contains\n",
      "File \u001b[1;32mc:\\Software\\Anaconda3\\envs\\XingangLi\\lib\\site-packages\\trimesh\\ray\\ray_triangle.py:191\u001b[0m, in \u001b[0;36mRayMeshIntersector.contains_points\u001b[1;34m(self, points)\u001b[0m\n\u001b[0;32m    173\u001b[0m \u001b[39mdef\u001b[39;00m \u001b[39mcontains_points\u001b[39m(\u001b[39mself\u001b[39m, points):\n\u001b[0;32m    174\u001b[0m     \u001b[39m\"\"\"\u001b[39;00m\n\u001b[0;32m    175\u001b[0m \u001b[39m    Check if a mesh contains a list of points, using ray tests.\u001b[39;00m\n\u001b[0;32m    176\u001b[0m \n\u001b[1;32m   (...)\u001b[0m\n\u001b[0;32m    188\u001b[0m \u001b[39m      Whether point is inside mesh or not\u001b[39;00m\n\u001b[0;32m    189\u001b[0m \u001b[39m    \"\"\"\u001b[39;00m\n\u001b[1;32m--> 191\u001b[0m     \u001b[39mreturn\u001b[39;00m contains_points(\u001b[39mself\u001b[39;49m, points)\n",
      "File \u001b[1;32mc:\\Software\\Anaconda3\\envs\\XingangLi\\lib\\site-packages\\trimesh\\constants.py:153\u001b[0m, in \u001b[0;36mlog_time.<locals>.timed\u001b[1;34m(*args, **kwargs)\u001b[0m\n\u001b[0;32m    151\u001b[0m \u001b[39mdef\u001b[39;00m \u001b[39mtimed\u001b[39m(\u001b[39m*\u001b[39margs, \u001b[39m*\u001b[39m\u001b[39m*\u001b[39mkwargs):\n\u001b[0;32m    152\u001b[0m     tic \u001b[39m=\u001b[39m now()\n\u001b[1;32m--> 153\u001b[0m     result \u001b[39m=\u001b[39m method(\u001b[39m*\u001b[39margs, \u001b[39m*\u001b[39m\u001b[39m*\u001b[39mkwargs)\n\u001b[0;32m    154\u001b[0m     log\u001b[39m.\u001b[39mdebug(\u001b[39m'\u001b[39m\u001b[39m%s\u001b[39;00m\u001b[39m executed in \u001b[39m\u001b[39m%.4f\u001b[39;00m\u001b[39m seconds.\u001b[39m\u001b[39m'\u001b[39m,\n\u001b[0;32m    155\u001b[0m               method\u001b[39m.\u001b[39m\u001b[39m__name__\u001b[39m,\n\u001b[0;32m    156\u001b[0m               now() \u001b[39m-\u001b[39m tic)\n\u001b[0;32m    158\u001b[0m     \u001b[39mreturn\u001b[39;00m result\n",
      "File \u001b[1;32mc:\\Software\\Anaconda3\\envs\\XingangLi\\lib\\site-packages\\trimesh\\ray\\ray_util.py:62\u001b[0m, in \u001b[0;36mcontains_points\u001b[1;34m(intersector, points, check_direction)\u001b[0m\n\u001b[0;32m     57\u001b[0m     ray_directions \u001b[39m=\u001b[39m np\u001b[39m.\u001b[39mtile(\n\u001b[0;32m     58\u001b[0m         np\u001b[39m.\u001b[39marray(check_direction)\u001b[39m.\u001b[39mreshape(\u001b[39m3\u001b[39m),\n\u001b[0;32m     59\u001b[0m         (inside_aabb\u001b[39m.\u001b[39msum(), \u001b[39m1\u001b[39m))\n\u001b[0;32m     61\u001b[0m \u001b[39m# cast a ray both forwards and backwards\u001b[39;00m\n\u001b[1;32m---> 62\u001b[0m location, index_ray, c \u001b[39m=\u001b[39m intersector\u001b[39m.\u001b[39;49mintersects_location(\n\u001b[0;32m     63\u001b[0m     np\u001b[39m.\u001b[39;49mvstack(\n\u001b[0;32m     64\u001b[0m         (points[inside_aabb],\n\u001b[0;32m     65\u001b[0m          points[inside_aabb])),\n\u001b[0;32m     66\u001b[0m     np\u001b[39m.\u001b[39;49mvstack(\n\u001b[0;32m     67\u001b[0m         (ray_directions,\n\u001b[0;32m     68\u001b[0m          \u001b[39m-\u001b[39;49mray_directions)))\n\u001b[0;32m     70\u001b[0m \u001b[39m# if we hit nothing in either direction just return with no hits\u001b[39;00m\n\u001b[0;32m     71\u001b[0m \u001b[39mif\u001b[39;00m \u001b[39mlen\u001b[39m(index_ray) \u001b[39m==\u001b[39m \u001b[39m0\u001b[39m:\n",
      "File \u001b[1;32mc:\\Software\\Anaconda3\\envs\\XingangLi\\lib\\site-packages\\trimesh\\ray\\ray_triangle.py:103\u001b[0m, in \u001b[0;36mRayMeshIntersector.intersects_location\u001b[1;34m(self, ray_origins, ray_directions, **kwargs)\u001b[0m\n\u001b[0;32m     75\u001b[0m \u001b[39mdef\u001b[39;00m \u001b[39mintersects_location\u001b[39m(\u001b[39mself\u001b[39m,\n\u001b[0;32m     76\u001b[0m                         ray_origins,\n\u001b[0;32m     77\u001b[0m                         ray_directions,\n\u001b[0;32m     78\u001b[0m                         \u001b[39m*\u001b[39m\u001b[39m*\u001b[39mkwargs):\n\u001b[0;32m     79\u001b[0m     \u001b[39m\"\"\"\u001b[39;00m\n\u001b[0;32m     80\u001b[0m \u001b[39m    Return unique cartesian locations where rays hit the mesh.\u001b[39;00m\n\u001b[0;32m     81\u001b[0m \u001b[39m    If you are counting the number of hits a ray had, this method\u001b[39;00m\n\u001b[1;32m   (...)\u001b[0m\n\u001b[0;32m     99\u001b[0m \u001b[39m      Array of triangle (face) indexes\u001b[39;00m\n\u001b[0;32m    100\u001b[0m \u001b[39m    \"\"\"\u001b[39;00m\n\u001b[0;32m    101\u001b[0m     (index_tri,\n\u001b[0;32m    102\u001b[0m      index_ray,\n\u001b[1;32m--> 103\u001b[0m      locations) \u001b[39m=\u001b[39m \u001b[39mself\u001b[39m\u001b[39m.\u001b[39mintersects_id(\n\u001b[0;32m    104\u001b[0m          ray_origins\u001b[39m=\u001b[39mray_origins,\n\u001b[0;32m    105\u001b[0m          ray_directions\u001b[39m=\u001b[39mray_directions,\n\u001b[0;32m    106\u001b[0m          return_locations\u001b[39m=\u001b[39m\u001b[39mTrue\u001b[39;00m,\n\u001b[0;32m    107\u001b[0m          \u001b[39m*\u001b[39m\u001b[39m*\u001b[39mkwargs)\n\u001b[0;32m    108\u001b[0m     \u001b[39mreturn\u001b[39;00m locations, index_ray, index_tri\n",
      "File \u001b[1;32mc:\\Software\\Anaconda3\\envs\\XingangLi\\lib\\site-packages\\trimesh\\ray\\ray_triangle.py:60\u001b[0m, in \u001b[0;36mRayMeshIntersector.intersects_id\u001b[1;34m(self, ray_origins, ray_directions, return_locations, multiple_hits, **kwargs)\u001b[0m\n\u001b[0;32m     28\u001b[0m \u001b[39mdef\u001b[39;00m \u001b[39mintersects_id\u001b[39m(\u001b[39mself\u001b[39m,\n\u001b[0;32m     29\u001b[0m                   ray_origins,\n\u001b[0;32m     30\u001b[0m                   ray_directions,\n\u001b[0;32m     31\u001b[0m                   return_locations\u001b[39m=\u001b[39m\u001b[39mFalse\u001b[39;00m,\n\u001b[0;32m     32\u001b[0m                   multiple_hits\u001b[39m=\u001b[39m\u001b[39mTrue\u001b[39;00m,\n\u001b[0;32m     33\u001b[0m                   \u001b[39m*\u001b[39m\u001b[39m*\u001b[39mkwargs):\n\u001b[0;32m     34\u001b[0m     \u001b[39m\"\"\"\u001b[39;00m\n\u001b[0;32m     35\u001b[0m \u001b[39m    Find the intersections between the current mesh and an\u001b[39;00m\n\u001b[0;32m     36\u001b[0m \u001b[39m    array of rays.\u001b[39;00m\n\u001b[1;32m   (...)\u001b[0m\n\u001b[0;32m     56\u001b[0m \u001b[39m      [optional] Position of intersection in space\u001b[39;00m\n\u001b[0;32m     57\u001b[0m \u001b[39m    \"\"\"\u001b[39;00m\n\u001b[0;32m     58\u001b[0m     (index_tri,\n\u001b[0;32m     59\u001b[0m      index_ray,\n\u001b[1;32m---> 60\u001b[0m      locations) \u001b[39m=\u001b[39m ray_triangle_id(\n\u001b[0;32m     61\u001b[0m          triangles\u001b[39m=\u001b[39;49m\u001b[39mself\u001b[39;49m\u001b[39m.\u001b[39;49mmesh\u001b[39m.\u001b[39;49mtriangles,\n\u001b[0;32m     62\u001b[0m          ray_origins\u001b[39m=\u001b[39;49mray_origins,\n\u001b[0;32m     63\u001b[0m          ray_directions\u001b[39m=\u001b[39;49mray_directions,\n\u001b[0;32m     64\u001b[0m          tree\u001b[39m=\u001b[39;49m\u001b[39mself\u001b[39;49m\u001b[39m.\u001b[39;49mmesh\u001b[39m.\u001b[39;49mtriangles_tree,\n\u001b[0;32m     65\u001b[0m          multiple_hits\u001b[39m=\u001b[39;49mmultiple_hits,\n\u001b[0;32m     66\u001b[0m          triangles_normal\u001b[39m=\u001b[39;49m\u001b[39mself\u001b[39;49m\u001b[39m.\u001b[39;49mmesh\u001b[39m.\u001b[39;49mface_normals)\n\u001b[0;32m     67\u001b[0m     \u001b[39mif\u001b[39;00m return_locations:\n\u001b[0;32m     68\u001b[0m         \u001b[39mif\u001b[39;00m \u001b[39mlen\u001b[39m(index_tri) \u001b[39m==\u001b[39m \u001b[39m0\u001b[39m:\n",
      "File \u001b[1;32mc:\\Software\\Anaconda3\\envs\\XingangLi\\lib\\site-packages\\trimesh\\ray\\ray_triangle.py:237\u001b[0m, in \u001b[0;36mray_triangle_id\u001b[1;34m(triangles, ray_origins, ray_directions, triangles_normal, tree, multiple_hits)\u001b[0m\n\u001b[0;32m    233\u001b[0m     tree \u001b[39m=\u001b[39m triangles_mod\u001b[39m.\u001b[39mbounds_tree(triangles)\n\u001b[0;32m    235\u001b[0m \u001b[39m# find the list of likely triangles and which ray they\u001b[39;00m\n\u001b[0;32m    236\u001b[0m \u001b[39m# correspond with, via rtree queries\u001b[39;00m\n\u001b[1;32m--> 237\u001b[0m ray_candidates, ray_id \u001b[39m=\u001b[39m ray_triangle_candidates(\n\u001b[0;32m    238\u001b[0m     ray_origins\u001b[39m=\u001b[39;49mray_origins,\n\u001b[0;32m    239\u001b[0m     ray_directions\u001b[39m=\u001b[39;49mray_directions,\n\u001b[0;32m    240\u001b[0m     tree\u001b[39m=\u001b[39;49mtree)\n\u001b[0;32m    242\u001b[0m \u001b[39m# get subsets which are corresponding rays and triangles\u001b[39;00m\n\u001b[0;32m    243\u001b[0m \u001b[39m# (c,3,3) triangle candidates\u001b[39;00m\n\u001b[0;32m    244\u001b[0m triangle_candidates \u001b[39m=\u001b[39m triangles[ray_candidates]\n",
      "File \u001b[1;32mc:\\Software\\Anaconda3\\envs\\XingangLi\\lib\\site-packages\\trimesh\\ray\\ray_triangle.py:349\u001b[0m, in \u001b[0;36mray_triangle_candidates\u001b[1;34m(ray_origins, ray_directions, tree)\u001b[0m\n\u001b[0;32m    346\u001b[0m ray_id \u001b[39m=\u001b[39m [[]] \u001b[39m*\u001b[39m \u001b[39mlen\u001b[39m(ray_origins)\n\u001b[0;32m    348\u001b[0m \u001b[39mfor\u001b[39;00m i, bounds \u001b[39min\u001b[39;00m \u001b[39menumerate\u001b[39m(ray_bounding):\n\u001b[1;32m--> 349\u001b[0m     ray_candidates[i] \u001b[39m=\u001b[39m np\u001b[39m.\u001b[39marray(\u001b[39mlist\u001b[39m(tree\u001b[39m.\u001b[39;49mintersection(bounds)),\n\u001b[0;32m    350\u001b[0m                                  dtype\u001b[39m=\u001b[39mnp\u001b[39m.\u001b[39mint64)\n\u001b[0;32m    351\u001b[0m     ray_id[i] \u001b[39m=\u001b[39m np\u001b[39m.\u001b[39mones(\u001b[39mlen\u001b[39m(ray_candidates[i]), dtype\u001b[39m=\u001b[39mnp\u001b[39m.\u001b[39mint64) \u001b[39m*\u001b[39m i\n\u001b[0;32m    353\u001b[0m ray_id \u001b[39m=\u001b[39m np\u001b[39m.\u001b[39mhstack(ray_id)\n",
      "File \u001b[1;32mc:\\Software\\Anaconda3\\envs\\XingangLi\\lib\\site-packages\\rtree\\index.py:827\u001b[0m, in \u001b[0;36mIndex.intersection\u001b[1;34m(self, coordinates, objects)\u001b[0m\n\u001b[0;32m    823\u001b[0m p_num_results \u001b[39m=\u001b[39m ctypes\u001b[39m.\u001b[39mc_uint64(\u001b[39m0\u001b[39m)\n\u001b[0;32m    825\u001b[0m it \u001b[39m=\u001b[39m ctypes\u001b[39m.\u001b[39mpointer(ctypes\u001b[39m.\u001b[39mc_int64())\n\u001b[1;32m--> 827\u001b[0m core\u001b[39m.\u001b[39;49mrt\u001b[39m.\u001b[39;49mIndex_Intersects_id(\n\u001b[0;32m    828\u001b[0m     \u001b[39mself\u001b[39;49m\u001b[39m.\u001b[39;49mhandle,\n\u001b[0;32m    829\u001b[0m     p_mins,\n\u001b[0;32m    830\u001b[0m     p_maxs,\n\u001b[0;32m    831\u001b[0m     \u001b[39mself\u001b[39;49m\u001b[39m.\u001b[39;49mproperties\u001b[39m.\u001b[39;49mdimension,\n\u001b[0;32m    832\u001b[0m     ctypes\u001b[39m.\u001b[39;49mbyref(it),\n\u001b[0;32m    833\u001b[0m     ctypes\u001b[39m.\u001b[39;49mbyref(p_num_results),\n\u001b[0;32m    834\u001b[0m )\n\u001b[0;32m    835\u001b[0m \u001b[39mreturn\u001b[39;00m \u001b[39mself\u001b[39m\u001b[39m.\u001b[39m_get_ids(it, p_num_results\u001b[39m.\u001b[39mvalue)\n",
      "File \u001b[1;32mc:\\Software\\Anaconda3\\envs\\XingangLi\\lib\\site-packages\\rtree\\core.py:7\u001b[0m, in \u001b[0;36mcheck_return\u001b[1;34m(result, func, cargs)\u001b[0m\n\u001b[0;32m      3\u001b[0m \u001b[39mfrom\u001b[39;00m \u001b[39m.\u001b[39;00m \u001b[39mimport\u001b[39;00m finder\n\u001b[0;32m      4\u001b[0m \u001b[39mfrom\u001b[39;00m \u001b[39m.\u001b[39;00m\u001b[39mexceptions\u001b[39;00m \u001b[39mimport\u001b[39;00m RTreeError\n\u001b[1;32m----> 7\u001b[0m \u001b[39mdef\u001b[39;00m \u001b[39mcheck_return\u001b[39m(result, func, cargs):\n\u001b[0;32m      8\u001b[0m     \u001b[39m\"\u001b[39m\u001b[39mError checking for Error calls\u001b[39m\u001b[39m\"\u001b[39m\n\u001b[0;32m      9\u001b[0m     \u001b[39mif\u001b[39;00m result \u001b[39m!=\u001b[39m \u001b[39m0\u001b[39m:\n",
      "\u001b[1;31mKeyboardInterrupt\u001b[0m: "
     ]
    }
   ],
   "source": [
    "for i, setting in enumerate(settings):\n",
    "    dim = dimensions[i]\n",
    "    vec_list = []\n",
    "    total_time = 0\n",
    "    x_pm, y_pm, z_pm = setting\n",
    "    for folder in tqdm(folders):\n",
    "        mesh_file = os.path.join('./cars' + '/' + folder + '/' + 'car_reg.obj')\n",
    "        mesh = trimesh.load(mesh_file)\n",
    "        sd, exe_time = sdf_binary(mesh, x=x_pm, y=y_pm, z=z_pm)\n",
    "        vec_list.append(np.array(sd))\n",
    "        total_time += exe_time\n",
    "        # print(mesh_file)\n",
    "    ave_time = total_time / len(folders)\n",
    "    print(f\"Average time for processing one mesh: {ave_time}\")\n",
    "    write_csv_file(f'./v_rep_{dim}.csv', folders, vec_list)"
   ]
  }
 ],
 "metadata": {
  "kernelspec": {
   "display_name": "XingangLi",
   "language": "python",
   "name": "python3"
  },
  "language_info": {
   "codemirror_mode": {
    "name": "ipython",
    "version": 3
   },
   "file_extension": ".py",
   "mimetype": "text/x-python",
   "name": "python",
   "nbconvert_exporter": "python",
   "pygments_lexer": "ipython3",
   "version": "3.9.12"
  }
 },
 "nbformat": 4,
 "nbformat_minor": 2
}
