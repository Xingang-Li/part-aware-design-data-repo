{
 "cells": [
  {
   "cell_type": "code",
   "execution_count": 1,
   "metadata": {},
   "outputs": [],
   "source": [
    "import trimesh\n",
    "from trimesh import transformations as trf\n",
    "import numpy as np\n",
    "import time\n",
    "import os\n",
    "from tqdm import tqdm\n",
    "import matplotlib.pyplot as plt\n",
    "from mpl_toolkits.mplot3d import Axes3D\n",
    "%matplotlib inline"
   ]
  },
  {
   "attachments": {},
   "cell_type": "markdown",
   "metadata": {},
   "source": [
    "### Ray test method to vectorize mesh models"
   ]
  },
  {
   "cell_type": "code",
   "execution_count": 2,
   "metadata": {},
   "outputs": [],
   "source": [
    "#for rotation\n",
    "def trig(angle):\n",
    "    r = np.deg2rad(angle)\n",
    "    return r\n",
    "\n",
    "def rotation_matrix(alpha=-90, beta=0, gamma=0):\n",
    "    #rotate the mesh\n",
    "    alpha = trig(alpha)\n",
    "    beta = trig(beta)\n",
    "    gamma = trig(gamma)\n",
    "\n",
    "    origin, xaxis, yaxis, zaxis = [0, 0, 0], [1, 0, 0], [0, 1, 0], [0, 0, 1]\n",
    "\n",
    "    Rx = trf.rotation_matrix(alpha, xaxis)\n",
    "    Ry = trf.rotation_matrix(beta, yaxis)\n",
    "    Rz = trf.rotation_matrix(gamma, zaxis)\n",
    "\n",
    "    R = trf.concatenate_matrices(Rx, Ry, Rz)           \n",
    "    R2=R[:3,:3]\n",
    "\n",
    "    return R2\n",
    "\n",
    "def write_csv_file(file_name, folder_name_list, vector_list):\n",
    "    # Open a new CSV file for writing\n",
    "    with open(file_name, 'w') as f:\n",
    "        # Loop over the file_data list and write each row to the CSV file\n",
    "        if len(folder_name_list) != len(vector_list):\n",
    "            for i in range(len(vector_list)):\n",
    "                file_name = folder_name_list[i]\n",
    "                data = vector_list[i]\n",
    "                # Write the file name to the first column\n",
    "                f.write(file_name + ',')\n",
    "                # Write the NumPy array to the remaining columns\n",
    "                np.savetxt(f, data[np.newaxis], delimiter=',')\n",
    "\n",
    "def visualize_mesh_point_matrix(mesh, points):\n",
    "     #visualization\n",
    "    # Plot the trimesh object\n",
    "    fig = plt.figure()\n",
    "    ax = fig.add_subplot(111, projection='3d')\n",
    "    ax.plot_trisurf(mesh.vertices[:, 0], mesh.vertices[:, 1], mesh.vertices[:, 2], triangles=mesh.faces, color='red')\n",
    "\n",
    "    # Plot the point grid\n",
    "    ax.scatter(points[:, 0], points[:, 1], points[:, 2], color='blue', alpha=0.5)\n",
    "\n",
    "    # Set the axis limits\n",
    "    ax.set_xlim(-3, 3)\n",
    "    ax.set_ylim(-2, 2)\n",
    "    ax.set_zlim(-2, 2)\n",
    "\n",
    "    # Show the plot\n",
    "    plt.show()\n"
   ]
  },
  {
   "cell_type": "code",
   "execution_count": 3,
   "metadata": {},
   "outputs": [],
   "source": [
    "#Change the vectorization method to mesh.contains(points), \n",
    "#no need to calculate the sdf distance\n",
    "\n",
    "def ray_test_vectorization(mesh, x=50, y=20, z=20):\n",
    "    '''\n",
    "    calculate binary representation vector of a car shape\n",
    "       input: mesh\n",
    "       output: vector representation of a mesh\n",
    "       [35, 12, 12] = 5040\n",
    "       [40, 16, 16] = 10240\n",
    "       [50, 20, 20] = 20000\n",
    "       '''\n",
    "    \n",
    "    start_time = time.time()\n",
    "    \n",
    "    #original mass center and bounding box\n",
    "    # print(mesh.center_mass)\n",
    "    # bbx_ex = mesh.bounding_box.primitive.extents\n",
    "    # print(bbx_ex)#bounding box size\n",
    "\n",
    "    R2 = rotation_matrix(alpha=-90, beta=0, gamma=0)\n",
    "    # The rotation matrix is applyed to the mesh\n",
    "    mesh.vertices = np.matmul(mesh.vertices, R2)\n",
    "    mesh.vertices -= mesh.center_mass\n",
    "    # print(mesh.center_mass)\n",
    "    mesh.vertices = mesh.vertices * 5 #scale to 5*2*2 box\n",
    "    # bbx_ex = mesh.bounding_box.primitive.extents\n",
    "    # print(bbx_ex) #bounding box size\n",
    "    \n",
    "    #construct points matrix \n",
    "    x_p = np.linspace(-2.5, 2.5, x) \n",
    "    y_p = np.linspace(-1.0, 1.0, y)\n",
    "    z_p = np.linspace(-1.0, 1.0, z)\n",
    "    points = np.vstack(np.meshgrid(x_p, y_p, z_p)).reshape(3,-1).T\n",
    "    \n",
    "    #if a point inside the mesh\n",
    "    sd = mesh.contains(points)\n",
    "    del mesh\n",
    "    sd = sd * 1 #convert boolean to int\n",
    "    \n",
    "    #show execution time\n",
    "    execution_time = time.time() - start_time\n",
    "   #  print(\"execution time: %s\" %(execution_time))\n",
    "    \n",
    "   #  #visualize the mesh and point grid\n",
    "   #  visualize_mesh_point_matrix(mesh, points)\n",
    "    \n",
    "    return sd, execution_time"
   ]
  },
  {
   "cell_type": "code",
   "execution_count": 4,
   "metadata": {},
   "outputs": [],
   "source": [
    "settings =  [[25, 10, 10]] #[[35, 12, 12], [40, 16, 16], [50, 20, 20]] \n",
    "dimensions = ['2500'] # ['5040', '10240', '20000']\n",
    "folders = [f for f in os.listdir('./cars')]"
   ]
  },
  {
   "cell_type": "code",
   "execution_count": 5,
   "metadata": {
    "scrolled": false
   },
   "outputs": [
    {
     "name": "stderr",
     "output_type": "stream",
     "text": [
      "  1%|▏         | 6/439 [00:00<00:18, 23.62it/s]"
     ]
    },
    {
     "name": "stdout",
     "output_type": "stream",
     "text": [
      "True\n",
      "True\n",
      "True\n",
      "True\n",
      "True\n",
      "True\n"
     ]
    },
    {
     "name": "stderr",
     "output_type": "stream",
     "text": [
      "  3%|▎         | 12/439 [00:00<00:17, 24.81it/s]"
     ]
    },
    {
     "name": "stdout",
     "output_type": "stream",
     "text": [
      "True\n",
      "True\n",
      "True\n",
      "True\n",
      "True\n",
      "True\n"
     ]
    },
    {
     "name": "stderr",
     "output_type": "stream",
     "text": [
      "  3%|▎         | 15/439 [00:00<00:16, 25.17it/s]"
     ]
    },
    {
     "name": "stdout",
     "output_type": "stream",
     "text": [
      "True\n",
      "True\n",
      "True\n",
      "True\n",
      "True\n",
      "True\n"
     ]
    },
    {
     "name": "stderr",
     "output_type": "stream",
     "text": [
      "  5%|▌         | 24/439 [00:00<00:16, 24.97it/s]"
     ]
    },
    {
     "name": "stdout",
     "output_type": "stream",
     "text": [
      "True\n",
      "True\n",
      "True\n",
      "True\n",
      "True\n",
      "True\n"
     ]
    },
    {
     "name": "stderr",
     "output_type": "stream",
     "text": [
      "  7%|▋         | 30/439 [00:01<00:16, 24.99it/s]"
     ]
    },
    {
     "name": "stdout",
     "output_type": "stream",
     "text": [
      "True\n",
      "True\n",
      "True\n",
      "True\n",
      "True\n",
      "True\n"
     ]
    },
    {
     "name": "stderr",
     "output_type": "stream",
     "text": [
      "  8%|▊         | 36/439 [00:01<00:16, 24.79it/s]"
     ]
    },
    {
     "name": "stdout",
     "output_type": "stream",
     "text": [
      "True\n",
      "True\n",
      "True\n",
      "True\n",
      "True\n",
      "True\n"
     ]
    },
    {
     "name": "stderr",
     "output_type": "stream",
     "text": [
      " 10%|▉         | 42/439 [00:01<00:15, 25.72it/s]"
     ]
    },
    {
     "name": "stdout",
     "output_type": "stream",
     "text": [
      "True\n",
      "True\n",
      "True\n",
      "True\n",
      "True\n",
      "True\n"
     ]
    },
    {
     "name": "stderr",
     "output_type": "stream",
     "text": [
      " 11%|█         | 48/439 [00:01<00:14, 26.16it/s]"
     ]
    },
    {
     "name": "stdout",
     "output_type": "stream",
     "text": [
      "True\n",
      "True\n",
      "True\n",
      "True\n",
      "True\n",
      "True\n"
     ]
    },
    {
     "name": "stderr",
     "output_type": "stream",
     "text": [
      " 12%|█▏        | 51/439 [00:02<00:15, 25.06it/s]"
     ]
    },
    {
     "name": "stdout",
     "output_type": "stream",
     "text": [
      "True\n",
      "True\n",
      "True\n",
      "True\n",
      "True\n"
     ]
    },
    {
     "name": "stderr",
     "output_type": "stream",
     "text": [
      " 13%|█▎        | 57/439 [00:02<00:14, 25.63it/s]"
     ]
    },
    {
     "name": "stdout",
     "output_type": "stream",
     "text": [
      "True\n",
      "True\n",
      "True\n",
      "True\n",
      "True\n",
      "False\n"
     ]
    },
    {
     "name": "stderr",
     "output_type": "stream",
     "text": [
      " 14%|█▍        | 63/439 [00:02<00:14, 25.32it/s]"
     ]
    },
    {
     "name": "stdout",
     "output_type": "stream",
     "text": [
      "True\n",
      "True\n",
      "True\n",
      "True\n",
      "True\n",
      "True\n"
     ]
    },
    {
     "name": "stderr",
     "output_type": "stream",
     "text": [
      " 16%|█▌        | 69/439 [00:02<00:14, 25.11it/s]"
     ]
    },
    {
     "name": "stdout",
     "output_type": "stream",
     "text": [
      "True\n",
      "True\n",
      "True\n",
      "True\n",
      "True\n",
      "True\n"
     ]
    },
    {
     "name": "stderr",
     "output_type": "stream",
     "text": [
      " 17%|█▋        | 75/439 [00:02<00:14, 25.08it/s]"
     ]
    },
    {
     "name": "stdout",
     "output_type": "stream",
     "text": [
      "True\n",
      "True\n",
      "True\n",
      "True\n",
      "True\n",
      "True\n"
     ]
    },
    {
     "name": "stderr",
     "output_type": "stream",
     "text": [
      " 18%|█▊        | 81/439 [00:03<00:14, 25.55it/s]"
     ]
    },
    {
     "name": "stdout",
     "output_type": "stream",
     "text": [
      "True\n",
      "True\n",
      "True\n",
      "True\n",
      "True\n"
     ]
    },
    {
     "name": "stderr",
     "output_type": "stream",
     "text": [
      " 20%|█▉        | 87/439 [00:03<00:13, 25.72it/s]"
     ]
    },
    {
     "name": "stdout",
     "output_type": "stream",
     "text": [
      "True\n",
      "True\n",
      "True\n",
      "True\n",
      "True\n",
      "True\n"
     ]
    },
    {
     "name": "stderr",
     "output_type": "stream",
     "text": [
      " 21%|██        | 93/439 [00:03<00:13, 25.52it/s]"
     ]
    },
    {
     "name": "stdout",
     "output_type": "stream",
     "text": [
      "True\n",
      "False\n",
      "True\n",
      "True\n",
      "True\n",
      "True\n"
     ]
    },
    {
     "name": "stderr",
     "output_type": "stream",
     "text": [
      " 23%|██▎       | 99/439 [00:03<00:13, 25.84it/s]"
     ]
    },
    {
     "name": "stdout",
     "output_type": "stream",
     "text": [
      "True\n",
      "True\n",
      "True\n",
      "True\n",
      "True\n",
      "True\n"
     ]
    },
    {
     "name": "stderr",
     "output_type": "stream",
     "text": [
      " 24%|██▍       | 105/439 [00:04<00:12, 25.84it/s]"
     ]
    },
    {
     "name": "stdout",
     "output_type": "stream",
     "text": [
      "True\n",
      "True\n",
      "True\n",
      "True\n",
      "True\n",
      "True\n"
     ]
    },
    {
     "name": "stderr",
     "output_type": "stream",
     "text": [
      " 25%|██▌       | 111/439 [00:04<00:12, 25.68it/s]"
     ]
    },
    {
     "name": "stdout",
     "output_type": "stream",
     "text": [
      "True\n",
      "True\n",
      "True\n",
      "True\n",
      "True\n",
      "True\n"
     ]
    },
    {
     "name": "stderr",
     "output_type": "stream",
     "text": [
      " 27%|██▋       | 117/439 [00:04<00:12, 25.10it/s]"
     ]
    },
    {
     "name": "stdout",
     "output_type": "stream",
     "text": [
      "True\n",
      "True\n",
      "True\n",
      "True\n",
      "True\n",
      "True\n"
     ]
    },
    {
     "name": "stderr",
     "output_type": "stream",
     "text": [
      " 28%|██▊       | 123/439 [00:04<00:12, 25.81it/s]"
     ]
    },
    {
     "name": "stdout",
     "output_type": "stream",
     "text": [
      "True\n",
      "True\n",
      "True\n",
      "True\n",
      "True\n",
      "True\n"
     ]
    },
    {
     "name": "stderr",
     "output_type": "stream",
     "text": [
      " 29%|██▉       | 129/439 [00:05<00:11, 25.89it/s]"
     ]
    },
    {
     "name": "stdout",
     "output_type": "stream",
     "text": [
      "True\n",
      "True\n",
      "True\n",
      "True\n",
      "True\n",
      "True\n"
     ]
    },
    {
     "name": "stderr",
     "output_type": "stream",
     "text": [
      " 31%|███       | 135/439 [00:05<00:11, 25.57it/s]"
     ]
    },
    {
     "name": "stdout",
     "output_type": "stream",
     "text": [
      "True\n",
      "True\n",
      "True\n",
      "True\n",
      "True\n",
      "True\n"
     ]
    },
    {
     "name": "stderr",
     "output_type": "stream",
     "text": [
      " 32%|███▏      | 141/439 [00:05<00:11, 25.98it/s]"
     ]
    },
    {
     "name": "stdout",
     "output_type": "stream",
     "text": [
      "True\n",
      "True\n",
      "True\n",
      "True\n",
      "True\n",
      "True\n"
     ]
    },
    {
     "name": "stderr",
     "output_type": "stream",
     "text": [
      " 33%|███▎      | 147/439 [00:05<00:11, 26.12it/s]"
     ]
    },
    {
     "name": "stdout",
     "output_type": "stream",
     "text": [
      "True\n",
      "True\n",
      "True\n",
      "True\n",
      "True\n",
      "True\n"
     ]
    },
    {
     "name": "stderr",
     "output_type": "stream",
     "text": [
      " 35%|███▍      | 153/439 [00:06<00:11, 25.69it/s]"
     ]
    },
    {
     "name": "stdout",
     "output_type": "stream",
     "text": [
      "True\n",
      "True\n",
      "True\n",
      "True\n",
      "True\n",
      "True\n"
     ]
    },
    {
     "name": "stderr",
     "output_type": "stream",
     "text": [
      " 36%|███▌      | 159/439 [00:06<00:10, 25.60it/s]"
     ]
    },
    {
     "name": "stdout",
     "output_type": "stream",
     "text": [
      "True\n",
      "True\n",
      "True\n",
      "True\n",
      "True\n",
      "True\n"
     ]
    },
    {
     "name": "stderr",
     "output_type": "stream",
     "text": [
      " 38%|███▊      | 165/439 [00:06<00:10, 25.66it/s]"
     ]
    },
    {
     "name": "stdout",
     "output_type": "stream",
     "text": [
      "True\n",
      "True\n",
      "True\n",
      "True\n",
      "True\n",
      "True\n"
     ]
    },
    {
     "name": "stderr",
     "output_type": "stream",
     "text": [
      " 39%|███▉      | 171/439 [00:06<00:10, 25.32it/s]"
     ]
    },
    {
     "name": "stdout",
     "output_type": "stream",
     "text": [
      "True\n",
      "True\n",
      "True\n",
      "True\n",
      "True\n"
     ]
    },
    {
     "name": "stderr",
     "output_type": "stream",
     "text": [
      " 40%|████      | 177/439 [00:06<00:10, 25.52it/s]"
     ]
    },
    {
     "name": "stdout",
     "output_type": "stream",
     "text": [
      "True\n",
      "True\n",
      "True\n",
      "True\n",
      "True\n",
      "True\n"
     ]
    },
    {
     "name": "stderr",
     "output_type": "stream",
     "text": [
      " 42%|████▏     | 183/439 [00:07<00:09, 25.70it/s]"
     ]
    },
    {
     "name": "stdout",
     "output_type": "stream",
     "text": [
      "True\n",
      "True\n",
      "True\n",
      "True\n",
      "True\n",
      "True\n"
     ]
    },
    {
     "name": "stderr",
     "output_type": "stream",
     "text": [
      " 43%|████▎     | 189/439 [00:07<00:09, 25.84it/s]"
     ]
    },
    {
     "name": "stdout",
     "output_type": "stream",
     "text": [
      "True\n",
      "True\n",
      "True\n",
      "True\n",
      "True\n",
      "False\n"
     ]
    },
    {
     "name": "stderr",
     "output_type": "stream",
     "text": [
      " 44%|████▍     | 195/439 [00:07<00:09, 25.88it/s]"
     ]
    },
    {
     "name": "stdout",
     "output_type": "stream",
     "text": [
      "True\n",
      "True\n",
      "True\n",
      "True\n",
      "True\n",
      "True\n"
     ]
    },
    {
     "name": "stderr",
     "output_type": "stream",
     "text": [
      " 46%|████▌     | 201/439 [00:07<00:09, 26.38it/s]"
     ]
    },
    {
     "name": "stdout",
     "output_type": "stream",
     "text": [
      "True\n",
      "True\n",
      "True\n",
      "True\n",
      "True\n",
      "True\n"
     ]
    },
    {
     "name": "stderr",
     "output_type": "stream",
     "text": [
      " 47%|████▋     | 207/439 [00:08<00:08, 26.41it/s]"
     ]
    },
    {
     "name": "stdout",
     "output_type": "stream",
     "text": [
      "True\n",
      "True\n",
      "True\n",
      "True\n",
      "True\n",
      "True\n"
     ]
    },
    {
     "name": "stderr",
     "output_type": "stream",
     "text": [
      " 49%|████▊     | 213/439 [00:08<00:08, 25.95it/s]"
     ]
    },
    {
     "name": "stdout",
     "output_type": "stream",
     "text": [
      "True\n",
      "True\n",
      "True\n",
      "True\n",
      "True\n",
      "True\n"
     ]
    },
    {
     "name": "stderr",
     "output_type": "stream",
     "text": [
      " 50%|████▉     | 219/439 [00:08<00:08, 26.07it/s]"
     ]
    },
    {
     "name": "stdout",
     "output_type": "stream",
     "text": [
      "True\n",
      "True\n",
      "True\n",
      "True\n",
      "True\n",
      "True\n"
     ]
    },
    {
     "name": "stderr",
     "output_type": "stream",
     "text": [
      " 51%|█████▏    | 225/439 [00:08<00:08, 26.06it/s]"
     ]
    },
    {
     "name": "stdout",
     "output_type": "stream",
     "text": [
      "True\n",
      "True\n",
      "True\n",
      "True\n",
      "True\n",
      "True\n"
     ]
    },
    {
     "name": "stderr",
     "output_type": "stream",
     "text": [
      " 53%|█████▎    | 231/439 [00:09<00:08, 25.80it/s]"
     ]
    },
    {
     "name": "stdout",
     "output_type": "stream",
     "text": [
      "True\n",
      "True\n",
      "True\n",
      "True\n",
      "True\n",
      "True\n"
     ]
    },
    {
     "name": "stderr",
     "output_type": "stream",
     "text": [
      " 54%|█████▍    | 237/439 [00:09<00:07, 26.38it/s]"
     ]
    },
    {
     "name": "stdout",
     "output_type": "stream",
     "text": [
      "True\n",
      "True\n",
      "True\n",
      "True\n",
      "True\n",
      "True\n"
     ]
    },
    {
     "name": "stderr",
     "output_type": "stream",
     "text": [
      " 55%|█████▌    | 243/439 [00:09<00:07, 26.38it/s]"
     ]
    },
    {
     "name": "stdout",
     "output_type": "stream",
     "text": [
      "True\n",
      "True\n",
      "True\n",
      "True\n",
      "True\n",
      "True\n"
     ]
    },
    {
     "name": "stderr",
     "output_type": "stream",
     "text": [
      " 57%|█████▋    | 249/439 [00:09<00:07, 25.69it/s]"
     ]
    },
    {
     "name": "stdout",
     "output_type": "stream",
     "text": [
      "True\n",
      "True\n",
      "True\n",
      "True\n",
      "True\n",
      "True\n"
     ]
    },
    {
     "name": "stderr",
     "output_type": "stream",
     "text": [
      " 58%|█████▊    | 255/439 [00:09<00:07, 25.88it/s]"
     ]
    },
    {
     "name": "stdout",
     "output_type": "stream",
     "text": [
      "True\n",
      "True\n",
      "True\n",
      "True\n",
      "True\n",
      "True\n"
     ]
    },
    {
     "name": "stderr",
     "output_type": "stream",
     "text": [
      " 59%|█████▉    | 261/439 [00:10<00:06, 26.28it/s]"
     ]
    },
    {
     "name": "stdout",
     "output_type": "stream",
     "text": [
      "True\n",
      "True\n",
      "True\n",
      "True\n",
      "True\n",
      "True\n"
     ]
    },
    {
     "name": "stderr",
     "output_type": "stream",
     "text": [
      " 61%|██████    | 267/439 [00:10<00:06, 26.55it/s]"
     ]
    },
    {
     "name": "stdout",
     "output_type": "stream",
     "text": [
      "True\n",
      "True\n",
      "True\n",
      "True\n",
      "True\n",
      "True\n"
     ]
    },
    {
     "name": "stderr",
     "output_type": "stream",
     "text": [
      " 62%|██████▏   | 273/439 [00:10<00:06, 26.43it/s]"
     ]
    },
    {
     "name": "stdout",
     "output_type": "stream",
     "text": [
      "True\n",
      "True\n",
      "True\n",
      "True\n",
      "True\n",
      "True\n"
     ]
    },
    {
     "name": "stderr",
     "output_type": "stream",
     "text": [
      " 64%|██████▎   | 279/439 [00:10<00:05, 26.76it/s]"
     ]
    },
    {
     "name": "stdout",
     "output_type": "stream",
     "text": [
      "True\n",
      "True\n",
      "True\n",
      "True\n",
      "True\n",
      "True\n"
     ]
    },
    {
     "name": "stderr",
     "output_type": "stream",
     "text": [
      " 65%|██████▍   | 284/439 [00:11<00:06, 25.70it/s]"
     ]
    },
    {
     "name": "stdout",
     "output_type": "stream",
     "text": [
      "False\n",
      "True\n",
      "True\n",
      "True\n",
      "True\n"
     ]
    },
    {
     "name": "stderr",
     "output_type": "stream",
     "text": [
      "\n"
     ]
    },
    {
     "ename": "KeyboardInterrupt",
     "evalue": "",
     "output_type": "error",
     "traceback": [
      "\u001b[1;31m---------------------------------------------------------------------------\u001b[0m",
      "\u001b[1;31mKeyboardInterrupt\u001b[0m                         Traceback (most recent call last)",
      "\u001b[1;32md:\\XingangLi\\Research\\part_aware_all\\part-aware-design-data-repo\\cars\\cars_439\\ray_test_vectorization.ipynb Cell 6\u001b[0m in \u001b[0;36m<cell line: 1>\u001b[1;34m()\u001b[0m\n\u001b[0;32m      <a href='vscode-notebook-cell:/d%3A/XingangLi/Research/part_aware_all/part-aware-design-data-repo/cars/cars_439/ray_test_vectorization.ipynb#W5sZmlsZQ%3D%3D?line=5'>6</a>\u001b[0m \u001b[39mfor\u001b[39;00m folder \u001b[39min\u001b[39;00m tqdm(folders[:]):\n\u001b[0;32m      <a href='vscode-notebook-cell:/d%3A/XingangLi/Research/part_aware_all/part-aware-design-data-repo/cars/cars_439/ray_test_vectorization.ipynb#W5sZmlsZQ%3D%3D?line=6'>7</a>\u001b[0m     mesh_file \u001b[39m=\u001b[39m os\u001b[39m.\u001b[39mpath\u001b[39m.\u001b[39mjoin(\u001b[39m'\u001b[39m\u001b[39m./cars\u001b[39m\u001b[39m'\u001b[39m \u001b[39m+\u001b[39m \u001b[39m'\u001b[39m\u001b[39m/\u001b[39m\u001b[39m'\u001b[39m \u001b[39m+\u001b[39m folder \u001b[39m+\u001b[39m \u001b[39m'\u001b[39m\u001b[39m/\u001b[39m\u001b[39m'\u001b[39m \u001b[39m+\u001b[39m \u001b[39m'\u001b[39m\u001b[39mcar_reg.obj\u001b[39m\u001b[39m'\u001b[39m)\n\u001b[1;32m----> <a href='vscode-notebook-cell:/d%3A/XingangLi/Research/part_aware_all/part-aware-design-data-repo/cars/cars_439/ray_test_vectorization.ipynb#W5sZmlsZQ%3D%3D?line=7'>8</a>\u001b[0m     mesh \u001b[39m=\u001b[39m trimesh\u001b[39m.\u001b[39;49mload(mesh_file)\n\u001b[0;32m      <a href='vscode-notebook-cell:/d%3A/XingangLi/Research/part_aware_all/part-aware-design-data-repo/cars/cars_439/ray_test_vectorization.ipynb#W5sZmlsZQ%3D%3D?line=8'>9</a>\u001b[0m     \u001b[39mprint\u001b[39m(mesh\u001b[39m.\u001b[39mis_watertight)\n\u001b[0;32m     <a href='vscode-notebook-cell:/d%3A/XingangLi/Research/part_aware_all/part-aware-design-data-repo/cars/cars_439/ray_test_vectorization.ipynb#W5sZmlsZQ%3D%3D?line=9'>10</a>\u001b[0m     \u001b[39m# if mesh.is_watertight:\u001b[39;00m\n\u001b[0;32m     <a href='vscode-notebook-cell:/d%3A/XingangLi/Research/part_aware_all/part-aware-design-data-repo/cars/cars_439/ray_test_vectorization.ipynb#W5sZmlsZQ%3D%3D?line=10'>11</a>\u001b[0m     \u001b[39m#     sd, exe_time = ray_test_vectorization(mesh, x=x_pm, y=y_pm, z=z_pm)\u001b[39;00m\n\u001b[0;32m     <a href='vscode-notebook-cell:/d%3A/XingangLi/Research/part_aware_all/part-aware-design-data-repo/cars/cars_439/ray_test_vectorization.ipynb#W5sZmlsZQ%3D%3D?line=11'>12</a>\u001b[0m     \u001b[39m#     vec_list.append(np.array(sd))\u001b[39;00m\n\u001b[0;32m     <a href='vscode-notebook-cell:/d%3A/XingangLi/Research/part_aware_all/part-aware-design-data-repo/cars/cars_439/ray_test_vectorization.ipynb#W5sZmlsZQ%3D%3D?line=12'>13</a>\u001b[0m     \u001b[39m#     total_time += exe_time\u001b[39;00m\n\u001b[0;32m     <a href='vscode-notebook-cell:/d%3A/XingangLi/Research/part_aware_all/part-aware-design-data-repo/cars/cars_439/ray_test_vectorization.ipynb#W5sZmlsZQ%3D%3D?line=13'>14</a>\u001b[0m     \u001b[39m# else: \u001b[39;00m\n\u001b[0;32m     <a href='vscode-notebook-cell:/d%3A/XingangLi/Research/part_aware_all/part-aware-design-data-repo/cars/cars_439/ray_test_vectorization.ipynb#W5sZmlsZQ%3D%3D?line=14'>15</a>\u001b[0m     \u001b[39m#     print(folder)\u001b[39;00m\n",
      "File \u001b[1;32mc:\\Software\\Anaconda3\\envs\\XingangLi\\lib\\site-packages\\trimesh\\exchange\\load.py:127\u001b[0m, in \u001b[0;36mload\u001b[1;34m(file_obj, file_type, resolver, force, **kwargs)\u001b[0m\n\u001b[0;32m    122\u001b[0m     loaded \u001b[39m=\u001b[39m load_path(file_obj,\n\u001b[0;32m    123\u001b[0m                        file_type\u001b[39m=\u001b[39mfile_type,\n\u001b[0;32m    124\u001b[0m                        \u001b[39m*\u001b[39m\u001b[39m*\u001b[39mkwargs)\n\u001b[0;32m    125\u001b[0m \u001b[39melif\u001b[39;00m file_type \u001b[39min\u001b[39;00m mesh_loaders:\n\u001b[0;32m    126\u001b[0m     \u001b[39m# mesh loaders use mesh loader\u001b[39;00m\n\u001b[1;32m--> 127\u001b[0m     loaded \u001b[39m=\u001b[39m load_mesh(file_obj,\n\u001b[0;32m    128\u001b[0m                        file_type\u001b[39m=\u001b[39mfile_type,\n\u001b[0;32m    129\u001b[0m                        resolver\u001b[39m=\u001b[39mresolver,\n\u001b[0;32m    130\u001b[0m                        \u001b[39m*\u001b[39m\u001b[39m*\u001b[39mkwargs)\n\u001b[0;32m    131\u001b[0m \u001b[39melif\u001b[39;00m file_type \u001b[39min\u001b[39;00m compressed_loaders:\n\u001b[0;32m    132\u001b[0m     \u001b[39m# for archives, like ZIP files\u001b[39;00m\n\u001b[0;32m    133\u001b[0m     loaded \u001b[39m=\u001b[39m load_compressed(file_obj,\n\u001b[0;32m    134\u001b[0m                              file_type\u001b[39m=\u001b[39mfile_type,\n\u001b[0;32m    135\u001b[0m                              \u001b[39m*\u001b[39m\u001b[39m*\u001b[39mkwargs)\n",
      "File \u001b[1;32mc:\\Software\\Anaconda3\\envs\\XingangLi\\lib\\site-packages\\trimesh\\constants.py:153\u001b[0m, in \u001b[0;36mlog_time.<locals>.timed\u001b[1;34m(*args, **kwargs)\u001b[0m\n\u001b[0;32m    151\u001b[0m \u001b[39mdef\u001b[39;00m \u001b[39mtimed\u001b[39m(\u001b[39m*\u001b[39margs, \u001b[39m*\u001b[39m\u001b[39m*\u001b[39mkwargs):\n\u001b[0;32m    152\u001b[0m     tic \u001b[39m=\u001b[39m now()\n\u001b[1;32m--> 153\u001b[0m     result \u001b[39m=\u001b[39m method(\u001b[39m*\u001b[39margs, \u001b[39m*\u001b[39m\u001b[39m*\u001b[39mkwargs)\n\u001b[0;32m    154\u001b[0m     log\u001b[39m.\u001b[39mdebug(\u001b[39m'\u001b[39m\u001b[39m%s\u001b[39;00m\u001b[39m executed in \u001b[39m\u001b[39m%.4f\u001b[39;00m\u001b[39m seconds.\u001b[39m\u001b[39m'\u001b[39m,\n\u001b[0;32m    155\u001b[0m               method\u001b[39m.\u001b[39m\u001b[39m__name__\u001b[39m,\n\u001b[0;32m    156\u001b[0m               now() \u001b[39m-\u001b[39m tic)\n\u001b[0;32m    158\u001b[0m     \u001b[39mreturn\u001b[39;00m result\n",
      "File \u001b[1;32mc:\\Software\\Anaconda3\\envs\\XingangLi\\lib\\site-packages\\trimesh\\exchange\\load.py:209\u001b[0m, in \u001b[0;36mload_mesh\u001b[1;34m(file_obj, file_type, resolver, **kwargs)\u001b[0m\n\u001b[0;32m    197\u001b[0m (file_obj,  \u001b[39m# file- like object\u001b[39;00m\n\u001b[0;32m    198\u001b[0m  file_type,  \u001b[39m# str, what kind of file\u001b[39;00m\n\u001b[0;32m    199\u001b[0m  metadata,  \u001b[39m# dict, any metadata from file name\u001b[39;00m\n\u001b[1;32m   (...)\u001b[0m\n\u001b[0;32m    203\u001b[0m                      file_type\u001b[39m=\u001b[39mfile_type,\n\u001b[0;32m    204\u001b[0m                      resolver\u001b[39m=\u001b[39mresolver)\n\u001b[0;32m    206\u001b[0m \u001b[39mtry\u001b[39;00m:\n\u001b[0;32m    207\u001b[0m     \u001b[39m# make sure we keep passed kwargs to loader\u001b[39;00m\n\u001b[0;32m    208\u001b[0m     \u001b[39m# but also make sure loader keys override passed keys\u001b[39;00m\n\u001b[1;32m--> 209\u001b[0m     results \u001b[39m=\u001b[39m mesh_loaders[file_type](file_obj,\n\u001b[0;32m    210\u001b[0m                                       file_type\u001b[39m=\u001b[39mfile_type,\n\u001b[0;32m    211\u001b[0m                                       resolver\u001b[39m=\u001b[39mresolver,\n\u001b[0;32m    212\u001b[0m                                       \u001b[39m*\u001b[39m\u001b[39m*\u001b[39mkwargs)\n\u001b[0;32m    213\u001b[0m     \u001b[39mif\u001b[39;00m \u001b[39mnot\u001b[39;00m \u001b[39misinstance\u001b[39m(results, \u001b[39mlist\u001b[39m):\n\u001b[0;32m    214\u001b[0m         results \u001b[39m=\u001b[39m [results]\n",
      "File \u001b[1;32mc:\\Software\\Anaconda3\\envs\\XingangLi\\lib\\site-packages\\trimesh\\exchange\\obj.py:93\u001b[0m, in \u001b[0;36mload_obj\u001b[1;34m(file_obj, resolver, split_object, group_material, skip_materials, maintain_order, **kwargs)\u001b[0m\n\u001b[0;32m     89\u001b[0m         log\u001b[39m.\u001b[39mwarning(\u001b[39m'\u001b[39m\u001b[39munable to load materials from: \u001b[39m\u001b[39m{}\u001b[39;00m\u001b[39m'\u001b[39m\u001b[39m.\u001b[39mformat(mtl_path),\n\u001b[0;32m     90\u001b[0m                     exc_info\u001b[39m=\u001b[39m\u001b[39mTrue\u001b[39;00m)\n\u001b[0;32m     92\u001b[0m \u001b[39m# extract vertices from raw text\u001b[39;00m\n\u001b[1;32m---> 93\u001b[0m v, vn, vt, vc \u001b[39m=\u001b[39m _parse_vertices(text\u001b[39m=\u001b[39;49mtext)\n\u001b[0;32m     95\u001b[0m \u001b[39m# get relevant chunks that have face data\u001b[39;00m\n\u001b[0;32m     96\u001b[0m \u001b[39m# in the form of (material, object, chunk)\u001b[39;00m\n\u001b[0;32m     97\u001b[0m face_tuples \u001b[39m=\u001b[39m _preprocess_faces(\n\u001b[0;32m     98\u001b[0m     text\u001b[39m=\u001b[39mtext, split_object\u001b[39m=\u001b[39msplit_object)\n",
      "File \u001b[1;32mc:\\Software\\Anaconda3\\envs\\XingangLi\\lib\\site-packages\\trimesh\\exchange\\obj.py:589\u001b[0m, in \u001b[0;36m_parse_vertices\u001b[1;34m(text)\u001b[0m\n\u001b[0;32m    586\u001b[0m result \u001b[39m=\u001b[39m defaultdict(\u001b[39mlambda\u001b[39;00m: \u001b[39mNone\u001b[39;00m)\n\u001b[0;32m    587\u001b[0m \u001b[39mfor\u001b[39;00m k, value \u001b[39min\u001b[39;00m data\u001b[39m.\u001b[39mitems():\n\u001b[0;32m    588\u001b[0m     \u001b[39m# use joining and fromstring to get as numpy array\u001b[39;00m\n\u001b[1;32m--> 589\u001b[0m     array \u001b[39m=\u001b[39m np\u001b[39m.\u001b[39;49mfromstring(\n\u001b[0;32m    590\u001b[0m         \u001b[39m'\u001b[39;49m\u001b[39m \u001b[39;49m\u001b[39m'\u001b[39;49m\u001b[39m.\u001b[39;49mjoin(value), sep\u001b[39m=\u001b[39;49m\u001b[39m'\u001b[39;49m\u001b[39m \u001b[39;49m\u001b[39m'\u001b[39;49m, dtype\u001b[39m=\u001b[39;49mnp\u001b[39m.\u001b[39;49mfloat64)\n\u001b[0;32m    591\u001b[0m     \u001b[39m# what should our shape be\u001b[39;00m\n\u001b[0;32m    592\u001b[0m     shape \u001b[39m=\u001b[39m (\u001b[39mlen\u001b[39m(value), per_row[k])\n",
      "\u001b[1;31mKeyboardInterrupt\u001b[0m: "
     ]
    }
   ],
   "source": [
    "for i, setting in enumerate(settings):\n",
    "    dim = dimensions[i]\n",
    "    vec_list = []\n",
    "    total_time = 0\n",
    "    x_pm, y_pm, z_pm = setting\n",
    "    for folder in tqdm(folders[:]):\n",
    "        mesh_file = os.path.join('./cars' + '/' + folder + '/' + 'car_reg.obj')\n",
    "        mesh = trimesh.load(mesh_file)\n",
    "        # print(mesh.is_watertight)\n",
    "        if mesh.is_watertight:\n",
    "            sd, exe_time = ray_test_vectorization(mesh, x=x_pm, y=y_pm, z=z_pm)\n",
    "            vec_list.append(np.array(sd))\n",
    "            total_time += exe_time\n",
    "        else: \n",
    "            print(folder)\n",
    "    ave_time = total_time / len(folders)\n",
    "    print(f\"Average time for processing one mesh: {ave_time}\")\n",
    "    write_csv_file(f'./{dim}_vectors.csv', folders, vec_list)"
   ]
  }
 ],
 "metadata": {
  "kernelspec": {
   "display_name": "XingangLi",
   "language": "python",
   "name": "python3"
  },
  "language_info": {
   "codemirror_mode": {
    "name": "ipython",
    "version": 3
   },
   "file_extension": ".py",
   "mimetype": "text/x-python",
   "name": "python",
   "nbconvert_exporter": "python",
   "pygments_lexer": "ipython3",
   "version": "3.9.12"
  }
 },
 "nbformat": 4,
 "nbformat_minor": 2
}
