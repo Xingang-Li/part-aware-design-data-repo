{
 "cells": [
  {
   "cell_type": "code",
   "execution_count": 3,
   "metadata": {},
   "outputs": [],
   "source": [
    "import numpy as np\n",
    "from sklearn.gaussian_process import GaussianProcessRegressor\n",
    "from sklearn.gaussian_process.kernels import ConstantKernel, RBF\n",
    "from sklearn.ensemble import BaggingRegressor\n",
    "from sklearn.model_selection import KFold"
   ]
  },
  {
   "cell_type": "code",
   "execution_count": 10,
   "metadata": {},
   "outputs": [],
   "source": [
    "from sklearn.model_selection import train_test_split\n",
    "import pandas as pd\n",
    "\n",
    "data_file = './body_vectors_drags.csv'\n",
    "df = pd.read_csv(data_file)\n",
    "\n",
    "train_df, test_df = train_test_split(df, test_size=0.2, random_state=777)\n",
    "\n",
    "#exclue the first two columns of train data\n",
    "train_data = train_df.drop(columns=['i', 'name'])\n",
    "# train_data.head()\n",
    "test_data = test_df.drop(columns=['i', 'name'])\n",
    "# test_data.head()\n",
    "X_train = train_data.drop(columns=['drag']).values\n",
    "y_train = train_data['drag'].values\n",
    "X_test = test_data.drop(columns=['drag']).values\n",
    "y_test = test_data['drag'].values"
   ]
  },
  {
   "cell_type": "code",
   "execution_count": 25,
   "metadata": {},
   "outputs": [],
   "source": [
    "# Define the Gaussian process kernel\n",
    "kernel = ConstantKernel(1.0, (1e-1,1e3)) * RBF(10.0, (1e-3, 1e3))\n",
    "\n",
    "# Create a Gaussian process regressor\n",
    "regressor = GaussianProcessRegressor(kernel=kernel)\n",
    "\n",
    "# Create a bagging regressor \n",
    "bagging = BaggingRegressor(estimator=regressor, n_estimators=2, max_samples=0.9) #num_of_bag_folds=10\n"
   ]
  },
  {
   "cell_type": "code",
   "execution_count": 26,
   "metadata": {},
   "outputs": [
    {
     "name": "stderr",
     "output_type": "stream",
     "text": [
      "/home/xli/anaconda3/envs/surrogate/lib/python3.10/site-packages/sklearn/gaussian_process/kernels.py:420: ConvergenceWarning: The optimal value found for dimension 0 of parameter k1__constant_value is close to the specified lower bound 0.1. Decreasing the bound and calling fit again may find a better value.\n",
      "  warnings.warn(\n",
      "/home/xli/anaconda3/envs/surrogate/lib/python3.10/site-packages/sklearn/gaussian_process/kernels.py:420: ConvergenceWarning: The optimal value found for dimension 0 of parameter k1__constant_value is close to the specified lower bound 0.1. Decreasing the bound and calling fit again may find a better value.\n",
      "  warnings.warn(\n",
      "/home/xli/anaconda3/envs/surrogate/lib/python3.10/site-packages/sklearn/gaussian_process/kernels.py:420: ConvergenceWarning: The optimal value found for dimension 0 of parameter k1__constant_value is close to the specified lower bound 0.1. Decreasing the bound and calling fit again may find a better value.\n",
      "  warnings.warn(\n",
      "/home/xli/anaconda3/envs/surrogate/lib/python3.10/site-packages/sklearn/gaussian_process/kernels.py:420: ConvergenceWarning: The optimal value found for dimension 0 of parameter k1__constant_value is close to the specified lower bound 0.1. Decreasing the bound and calling fit again may find a better value.\n",
      "  warnings.warn(\n",
      "/home/xli/anaconda3/envs/surrogate/lib/python3.10/site-packages/sklearn/gaussian_process/kernels.py:420: ConvergenceWarning: The optimal value found for dimension 0 of parameter k1__constant_value is close to the specified lower bound 0.1. Decreasing the bound and calling fit again may find a better value.\n",
      "  warnings.warn(\n",
      "/home/xli/anaconda3/envs/surrogate/lib/python3.10/site-packages/sklearn/gaussian_process/kernels.py:420: ConvergenceWarning: The optimal value found for dimension 0 of parameter k1__constant_value is close to the specified lower bound 0.1. Decreasing the bound and calling fit again may find a better value.\n",
      "  warnings.warn(\n",
      "/home/xli/anaconda3/envs/surrogate/lib/python3.10/site-packages/sklearn/gaussian_process/kernels.py:420: ConvergenceWarning: The optimal value found for dimension 0 of parameter k1__constant_value is close to the specified lower bound 0.1. Decreasing the bound and calling fit again may find a better value.\n",
      "  warnings.warn(\n",
      "/home/xli/anaconda3/envs/surrogate/lib/python3.10/site-packages/sklearn/gaussian_process/kernels.py:420: ConvergenceWarning: The optimal value found for dimension 0 of parameter k1__constant_value is close to the specified lower bound 0.1. Decreasing the bound and calling fit again may find a better value.\n",
      "  warnings.warn(\n",
      "/home/xli/anaconda3/envs/surrogate/lib/python3.10/site-packages/sklearn/gaussian_process/kernels.py:420: ConvergenceWarning: The optimal value found for dimension 0 of parameter k1__constant_value is close to the specified lower bound 0.1. Decreasing the bound and calling fit again may find a better value.\n",
      "  warnings.warn(\n"
     ]
    },
    {
     "name": "stdout",
     "output_type": "stream",
     "text": [
      "-0.07813360408109538\n"
     ]
    },
    {
     "name": "stderr",
     "output_type": "stream",
     "text": [
      "/home/xli/anaconda3/envs/surrogate/lib/python3.10/site-packages/sklearn/gaussian_process/kernels.py:420: ConvergenceWarning: The optimal value found for dimension 0 of parameter k1__constant_value is close to the specified lower bound 0.1. Decreasing the bound and calling fit again may find a better value.\n",
      "  warnings.warn(\n"
     ]
    }
   ],
   "source": [
    "bagging.fit(X_train, y_train)\n",
    "score = bagging.score(X_test, y_test)\n",
    "\n",
    "print(score)"
   ]
  },
  {
   "cell_type": "code",
   "execution_count": 30,
   "metadata": {},
   "outputs": [],
   "source": [
    "# Predict on the test set\n",
    "y_pred = bagging.predict(X_test)"
   ]
  },
  {
   "cell_type": "code",
   "execution_count": 34,
   "metadata": {},
   "outputs": [
    {
     "name": "stdout",
     "output_type": "stream",
     "text": [
      "Mean squared error: 0.00\n",
      "Mean absolute error: 0.04\n",
      "R-squared score: -0.08\n",
      "Predicted values for the test set: \n",
      " [0.3887946  0.38228449 0.41024166 0.35277966 0.38162925 0.40445679\n",
      " 0.41245201 0.51078955 0.41893717 0.32749378 0.3825325  0.42019822\n",
      " 0.34847265 0.42424826 0.4350013  0.37412684 0.40346836 0.38685893\n",
      " 0.37994569 0.36167888 0.42197174 0.41283474 0.38684633 0.43852262\n",
      " 0.41727988 0.35722751 0.41297735 0.36371476 0.42646839 0.3876802\n",
      " 0.43254485 0.37338681 0.35670031 0.46829915 0.46333803 0.35601469\n",
      " 0.37246376 0.33075217 0.39545375 0.39807923 0.36897576 0.35083804\n",
      " 0.49653424 0.38827944 0.40792767 0.41429535 0.41487797 0.37441261\n",
      " 0.34314341 0.37306515 0.380766   0.33281549 0.43790477 0.39227465\n",
      " 0.35079794 0.38344307 0.31216745 0.37879959 0.37978498 0.33863875\n",
      " 0.4102129  0.36397709 0.37197521 0.43602804 0.36105662 0.34072384\n",
      " 0.35845482 0.33277277 0.3638751  0.43595319 0.38292276 0.37569101\n",
      " 0.36755575 0.39387598 0.40310538 0.32935135 0.42223735 0.37648268\n",
      " 0.38359514 0.34872201 0.37225638 0.3460776  0.3675208  0.34930839\n",
      " 0.34438585 0.41837246 0.39649996 0.359533  ]\n",
      "[0.548 0.37  0.38  0.431 0.38  0.486 0.435 0.496 0.414 0.314 0.326 0.39\n",
      " 0.361 0.541 0.429 0.483 0.426 0.409 0.369 0.32  0.398 0.331 0.327 0.373\n",
      " 0.431 0.371 0.435 0.336 0.388 0.419 0.445 0.35  0.364 0.413 0.413 0.41\n",
      " 0.32  0.389 0.401 0.347 0.631 0.375 0.436 0.395 0.406 0.357 0.407 0.435\n",
      " 0.363 0.403 0.375 0.374 0.464 0.41  0.394 0.35  0.456 0.395 0.345 0.325\n",
      " 0.339 0.424 0.361 0.414 0.395 0.364 0.309 0.336 0.365 0.446 0.438 0.374\n",
      " 0.446 0.453 0.417 0.38  0.39  0.341 0.355 0.454 0.376 0.428 0.307 0.398\n",
      " 0.372 0.44  0.365 0.398]\n"
     ]
    }
   ],
   "source": [
    "from sklearn.metrics import mean_squared_error, mean_absolute_error, r2_score\n",
    "# Calculate mean squared error and mean absolute error\n",
    "mse = mean_squared_error(y_test, y_pred)\n",
    "mae = mean_absolute_error(y_test, y_pred)\n",
    "r2 = r2_score(y_test, y_pred)\n",
    "\n",
    "# Print the results\n",
    "print(\"Mean squared error: {:.2f}\".format(mse))\n",
    "print(\"Mean absolute error: {:.2f}\".format(mae))\n",
    "print(\"R-squared score: {:.2f}\".format(r2))\n",
    "print(\"Predicted values for the test set: \\n\", y_pred)\n",
    "print(y_test)"
   ]
  }
 ],
 "metadata": {
  "kernelspec": {
   "display_name": "surrogate",
   "language": "python",
   "name": "python3"
  },
  "language_info": {
   "codemirror_mode": {
    "name": "ipython",
    "version": 3
   },
   "file_extension": ".py",
   "mimetype": "text/x-python",
   "name": "python",
   "nbconvert_exporter": "python",
   "pygments_lexer": "ipython3",
   "version": "3.10.10"
  }
 },
 "nbformat": 4,
 "nbformat_minor": 0
}
