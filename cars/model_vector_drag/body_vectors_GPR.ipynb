{
 "cells": [
  {
   "cell_type": "code",
   "execution_count": 3,
   "metadata": {},
   "outputs": [],
   "source": [
    "import numpy as np\n",
    "from sklearn.gaussian_process import GaussianProcessRegressor\n",
    "from sklearn.gaussian_process.kernels import ConstantKernel, RBF\n",
    "from sklearn.ensemble import BaggingRegressor\n",
    "from sklearn.model_selection import KFold"
   ]
  },
  {
   "cell_type": "code",
   "execution_count": 10,
   "metadata": {},
   "outputs": [],
   "source": [
    "from sklearn.model_selection import train_test_split\n",
    "import pandas as pd\n",
    "\n",
    "data_file = './body_vectors_drags.csv'\n",
    "df = pd.read_csv(data_file)\n",
    "\n",
    "train_df, test_df = train_test_split(df, test_size=0.2, random_state=777)\n",
    "\n",
    "#exclue the first two columns of train data\n",
    "train_data = train_df.drop(columns=['i', 'name'])\n",
    "# train_data.head()\n",
    "test_data = test_df.drop(columns=['i', 'name'])\n",
    "# test_data.head()\n",
    "X_train = train_data.drop(columns=['drag']).values\n",
    "y_train = train_data['drag'].values\n",
    "X_test = test_data.drop(columns=['drag']).values\n",
    "y_test = test_data['drag'].values"
   ]
  },
  {
   "cell_type": "code",
   "execution_count": 37,
   "metadata": {},
   "outputs": [],
   "source": [
    "# Define the Gaussian process kernel\n",
    "kernel = ConstantKernel(1.0, (1e-1,1e3)) * RBF(10.0, (1e-3, 1e3))\n",
    "\n",
    "# Create a Gaussian process regressor\n",
    "regressor = GaussianProcessRegressor(kernel=kernel)\n",
    "\n",
    "# Create a bagging regressor \n",
    "bagging = BaggingRegressor(estimator=regressor, n_estimators=1, max_samples=0.9) #num_of_bag_folds=10\n"
   ]
  },
  {
   "cell_type": "code",
   "execution_count": 38,
   "metadata": {},
   "outputs": [
    {
     "name": "stdout",
     "output_type": "stream",
     "text": [
      "-0.00348748498405671\n"
     ]
    },
    {
     "name": "stderr",
     "output_type": "stream",
     "text": [
      "/home/xli/anaconda3/envs/surrogate/lib/python3.10/site-packages/sklearn/gaussian_process/kernels.py:420: ConvergenceWarning: The optimal value found for dimension 0 of parameter k1__constant_value is close to the specified lower bound 0.1. Decreasing the bound and calling fit again may find a better value.\n",
      "  warnings.warn(\n"
     ]
    }
   ],
   "source": [
    "bagging.fit(X_train, y_train)\n",
    "score = bagging.score(X_test, y_test)\n",
    "\n",
    "print(score)"
   ]
  },
  {
   "cell_type": "code",
   "execution_count": 40,
   "metadata": {},
   "outputs": [
    {
     "name": "stdout",
     "output_type": "stream",
     "text": [
      "Mean squared error: 0.00\n",
      "Mean absolute error: 0.04\n",
      "R-squared score: -0.00\n",
      "Predicted values for the test set: \n",
      " [0.39331189 0.43553162 0.42103127 0.37085905 0.38567656 0.34954057\n",
      " 0.45160629 0.52620509 0.43361125 0.37161845 0.33828377 0.39645471\n",
      " 0.29872165 0.46277638 0.45001071 0.49594642 0.39306591 0.40637405\n",
      " 0.34682706 0.33036146 0.42648211 0.44764149 0.35775133 0.41959537\n",
      " 0.47420464 0.34140918 0.44518702 0.39110708 0.38408145 0.440202\n",
      " 0.42011505 0.33348116 0.37182121 0.46762898 0.42055769 0.36474962\n",
      " 0.41807224 0.39965633 0.30957448 0.36848305 0.44427272 0.33020776\n",
      " 0.45942826 0.38661483 0.40567441 0.36212657 0.371219   0.3393408\n",
      " 0.34487602 0.37798141 0.3485789  0.34549011 0.50873658 0.40935867\n",
      " 0.35486385 0.38766276 0.31738153 0.40575724 0.37965511 0.36932747\n",
      " 0.4229962  0.41513743 0.39068135 0.40652576 0.34433015 0.34566929\n",
      " 0.38577453 0.3373296  0.42909842 0.41008028 0.36226532 0.36085703\n",
      " 0.37978488 0.36302165 0.39090818 0.40584127 0.44837786 0.41568631\n",
      " 0.34334682 0.41020391 0.38405247 0.38072585 0.3872214  0.39992924\n",
      " 0.39229489 0.43354994 0.40407569 0.39448936]\n",
      "[0.548 0.37  0.38  0.431 0.38  0.486 0.435 0.496 0.414 0.314 0.326 0.39\n",
      " 0.361 0.541 0.429 0.483 0.426 0.409 0.369 0.32  0.398 0.331 0.327 0.373\n",
      " 0.431 0.371 0.435 0.336 0.388 0.419 0.445 0.35  0.364 0.413 0.413 0.41\n",
      " 0.32  0.389 0.401 0.347 0.631 0.375 0.436 0.395 0.406 0.357 0.407 0.435\n",
      " 0.363 0.403 0.375 0.374 0.464 0.41  0.394 0.35  0.456 0.395 0.345 0.325\n",
      " 0.339 0.424 0.361 0.414 0.395 0.364 0.309 0.336 0.365 0.446 0.438 0.374\n",
      " 0.446 0.453 0.417 0.38  0.39  0.341 0.355 0.454 0.376 0.428 0.307 0.398\n",
      " 0.372 0.44  0.365 0.398]\n"
     ]
    }
   ],
   "source": [
    "from sklearn.metrics import mean_squared_error, mean_absolute_error, r2_score\n",
    "\n",
    "# Predict on the test set\n",
    "y_pred = bagging.predict(X_test)\n",
    "# Calculate mean squared error and mean absolute error\n",
    "mse = mean_squared_error(y_test, y_pred)\n",
    "mae = mean_absolute_error(y_test, y_pred)\n",
    "r2 = r2_score(y_test, y_pred)\n",
    "\n",
    "# Print the results\n",
    "print(\"Mean squared error: {:.2f}\".format(mse))\n",
    "print(\"Mean absolute error: {:.2f}\".format(mae))\n",
    "print(\"R-squared score: {:.2f}\".format(r2))\n",
    "print(\"Predicted values for the test set: \\n\", y_pred)\n",
    "print(y_test)"
   ]
  }
 ],
 "metadata": {
  "kernelspec": {
   "display_name": "surrogate",
   "language": "python",
   "name": "python3"
  },
  "language_info": {
   "codemirror_mode": {
    "name": "ipython",
    "version": 3
   },
   "file_extension": ".py",
   "mimetype": "text/x-python",
   "name": "python",
   "nbconvert_exporter": "python",
   "pygments_lexer": "ipython3",
   "version": "3.10.10"
  }
 },
 "nbformat": 4,
 "nbformat_minor": 0
}
