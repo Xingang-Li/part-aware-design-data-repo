{
 "cells": [
  {
   "cell_type": "code",
   "execution_count": 1,
   "metadata": {},
   "outputs": [],
   "source": [
    "import trimesh\n",
    "import os\n",
    "import numpy as np\n",
    "from trimesh import transformations as trf"
   ]
  },
  {
   "cell_type": "code",
   "execution_count": 6,
   "metadata": {},
   "outputs": [],
   "source": [
    "files = [f for f in os.listdir('./models_140/') if f.endswith('.obj')]"
   ]
  },
  {
   "cell_type": "code",
   "execution_count": 7,
   "metadata": {},
   "outputs": [
    {
     "name": "stdout",
     "output_type": "stream",
     "text": [
      "['11d1fdaedf3ab83b8fb28f8a689c8ba3.obj', '12cd99c20b1a5a932e877e82c90c24d.obj', '1399eab8ad7262eb7f3efc94c2d31dc5.obj', '15c3b923c85d22796d8b9531f93cc8de.obj', '15cc37ac9b3b756acfd826dd468a5497.obj', '165aec174bb93968a114c8c036e29a08.obj', '171c20ce4de5ee8730f65ce13e7c1910.obj', '1724ae84377e0b9ba6c2c95b41a5446d.obj', '18927999d0c5a9687ba2618ede0d52ff.obj', '18a9275b78be4b9ec6d3267fc5334296.obj', '1b85c850cb4b93a6e9415adaaf77fdbf.obj', '1ba30d64da90ea05283ffcfc40c29975.obj', '1ebb7511feac4d62381a9e1cee6d0b00.obj', '1ef8f98842f2a388a4dbb766064f8bbf.obj', '1fde8f41c6a39c07111f983eb293b51a.obj', '212685bfc2a32cd9fe8cfdfb3bfc3376.obj', '2205a3f2c102f180a134736201a79843.obj', '2236a1b9cde71eff13d31c5a107f3c4.obj', '23e8adb3bf1961f85332d3b92481b499.obj', '24dc3903b254fe41b448bf2dc92c4fab.obj', '286ce4a8390b317f93680c5a9a367b4a.obj', '2894449c2f1992bc3a65ca10b9ee2981.obj', '2a07432c2860b54becf71e2e014ff6f.obj', '2a554a704a27618ea37f3fc191551700.obj', '2b5a333c1a5aede3b5449ea1678de914.obj', '2ccc8183090b97cb21a66e8dfcce514a.obj', '2e27309be42276bebecf71e2e014ff6f.obj', '30f96aa701d4e088becf71e2e014ff6f.obj', '34211d29d94cbd52b7c4f0665aafbacd.obj', '3462d5da3654b52d4a47c09276b7f6b1.obj', '82b9bbf2c5c630d9acc1f3191aab65d4.obj', '82ede85c805bd5a85af609a73d2c2947.obj', '831a3689b2f48664473f10e6caaeca56.obj', '832a8f6cfe462e48402013bef9b89b74.obj', '85d04dc3f455bc56ceb5044e1e1e9739.obj', '8601cca4ddfd28af18bc22abef3f86ce.obj', '862a345b6328d641ef3ecc8551d2c1fa.obj', '87ee241d3d0d1dda4ff3c6764341833.obj', '89026c748b9cf721bda72093f9b5aa73.obj', '8aeeed96e4597ca6853c6f214c15e60f.obj', '8b7b6c2a5c664ca6efe5f291bc2f5fd0.obj', '8bb2ae81ca9e9a4ed14ae991e75ee782.obj', '8bd0d26352ea9de9becf71e2e014ff6f.obj', '8c01303b68d30be5b9ad5039d820c924.obj', '8c0fd2f204d6008da1b543d55837199.obj', '8c1664cc8771aa3fce95c44a0ed1e01b.obj', '8c346443d2feeaf916abce8cb03e7794.obj', '8c835911f332db4ca92a4cdad802b45.obj', '8efced0ecbd1dd99713391d1ea8d388.obj', '8f7520f908ee54e2391da6d66c78fad2.obj', '8f87755f22470873e6725f2a23469bfc.obj', '8fc3cde1054cc1aaceb4167db4d0e4de.obj', '8fe901ed95e115ed70a5d1d8432b5405.obj', '8ffc484a850350f916abce8cb03e7794.obj', '9009d75263e350ffb3b0f00a15b90e0a.obj', '903b043072a209ba8290d32865eb3245.obj', '92cc3ad1d3da26955fcb05674109534a.obj', '94edffd805dc965ca5626f7e1b38f05f.obj', '953531696c554fb275dadc997718614d.obj', '965000959c53a8612fdbcd3e1b829315.obj', '9698be0fd3516f01fbeda5389ab05f5f.obj', '96e3179460185d889130d420a26edb84.obj', '9752827fb7788c2d5c893a899536502e.obj', '9757fd5be93ee0fc82b157e7120744ea.obj', '97831a753d80d66dfd24692312e9de8c.obj', '98b30f0a29fe2a1ba7fd25564c2e888e.obj', '99efa2111f3be22d5fcb05674109534a.obj', '99f49d11dad8ee25e517b5f5894c76d9.obj', '9a22505d1e6221533c35e65001c8c258.obj', '9a2854600f24017949b12cf3977a48b.obj', '9abfdc63aa88be60733269057ed164db.obj', '9c27cdc4feb2fa5d4244558fce818712.obj', '9ca127580ac4f9712aba37016d02e162.obj', '9cd875a215c8806731b76be6623555e0.obj', '9d400df8825de9a62514ed2901e978de.obj', '9d5c0108ce2c848e977b27045b1d8055.obj', '9d82d5874349f623d834dead2eb68d68.obj', '9dd5fb440759181035fea498c4ba7c5a.obj', '9e136de952f33de0a1830153974050c.obj', '9e3a69fc219ef73d37c910d2f91b3d73.obj', '9f08e434ad95c4bbbc37558785e0529e.obj', '9f2721257bcbfc70dc1fa1f50eb490cc.obj', '9fb89a485c814f7e18f8769175b6766b.obj', '9fc18cf33ac91041425b2c354eccabaf.obj', 'a03c7c73c067afa9e5bf84cdd88910df.obj', 'a13fa4cf0dfdd5b58f7f0d2c9c57704b.obj', 'a1b7a3cc11b25b3a82c0a051a54c0e33.obj', 'a387407d49e209fdeea60824a43a0b.obj', 'a39ed639d1da66876d57cf36a7addb49.obj', 'a3d0bbca6bf8a565dc90bfc1d450ece8.obj', 'a421aeec78440e40d3a3ff116860ca63.obj', 'a471cdae8ec5df5c9e317a6cc797b629.obj', 'a532b61524432d454ed192f2298faac.obj', 'a54ce961d973443a0daf3e5400b95c.obj', 'a6a1c91c92f86c463a93df79ef2b80ef.obj', 'a88baf98bc73649fdd61bedeefabbeb6.obj', 'ac482136fc30fd5ad8f405c5ec4e8cb0.obj', 'ace409d84c89d7258a0683934fae3156.obj', 'add26d8f4f91ba04c84b95bddf75b22d.obj', 'ade5514c578e4bc27dc9e02a5c320eb.obj', 'ae9b244f9bee122ba35db63c2ad6fc71.obj', 'af2f10112f943f54c730b513773cf286.obj', 'afc23aacd3e166d9f513bf8e198d377a.obj', 'b06c5da878580bec3c0146ad3ea2d7d.obj', 'b18899d2b002ce0f80360680c1602c7d.obj', 'b18e5aaa86cd8716a7fd25564c2e888e.obj', 'b3047118a9b0d7b7e858db1dc3499392.obj', 'b36c9481f71c2428ca92a4cdad802b45.obj', 'b4715a33fe6d1bb7f63ee8a34069b7c5.obj', 'b5367bf3cb07b8ea593fee7ac9114e04.obj', 'b619910e7e51d8e176ad064d1c5fdd7c.obj', 'b61b7103e8d8af91fe21694bd5f519d1.obj', 'b6749c2b917d4aad949b12cf3977a48b.obj', 'b688cde1a09ea5d3b1bb46d2556ba67d.obj', 'b72355cdbf1127f4becf71e2e014ff6f.obj', 'b8599e22b152b96e55e3ad998a1ecb4.obj', 'b990ae1858bb82c133f84f942f9a2bf5.obj', 'be86ce7f7aec3ad4f9e07ddc212a2f71.obj', 'beedf39c8f5709bea9fe1734a6086750.obj', 'beef4a450e0d42db6436916a86a90ed7.obj', 'bef5b9686c2f93f46a2345809e2bb169.obj', 'bf8c14637ee36251ae3e053f6a533410.obj', 'c12a701bbdcb3df7473f10e6caaeca56.obj', 'c21cb9575910e30bf0174ad879a5b1cc.obj', 'c234638891f21417ec5e3fe5c33367cf.obj', 'c41580019d43348d3a3afd30f2e86bd7.obj', 'c4d49c0625be70c417da7541f1b2fa76.obj', 'c54dbefca6290ee8a3b392b986583.obj', 'c558c64b6b97a529658e57fd275f6bed.obj', 'c7c3736ad5f3b252e56947f054952694.obj', 'c8849755b29ad49b9af07fbc15eb8427.obj', 'c8ab7f11ecdbf873921cb81cb1632a5e.obj', 'c8fb314a1866d1d2428df271ebc70bc0.obj', 'c916164d0e5c667a75ef328fc121b1c5.obj', 'c9e555bb1a17cfbc5d918097f81825e3.obj', 'caa26e8b5033be6ac02f176e44f0fcec.obj', 'caa7b1a7dabd0fd3be0e4b4a1a900aa0.obj', 'cce33c56b1c83237c7b48e36e31209b9.obj', 'cd7feedd6041209131ac5fb37e6c8324.obj', 'cf4c819d9deb6533108499aad0a89b28.obj']\n"
     ]
    }
   ],
   "source": [
    "print(files)"
   ]
  },
  {
   "cell_type": "code",
   "execution_count": 8,
   "metadata": {},
   "outputs": [],
   "source": [
    "for f in files:\n",
    "    src_dir = os.path.join('./models_140/' + f)\n",
    "    mesh = trimesh.load_mesh(src_dir)  \n",
    "        # Angle conversion from degres to radian\n",
    "    def trig(angle):\n",
    "        r = np.deg2rad(angle)\n",
    "        return r\n",
    "\n",
    "    alpha = trig(0)\n",
    "    beta = trig(90)\n",
    "    gamma = trig(0)\n",
    "\n",
    "    origin, xaxis, yaxis, zaxis = [0, 0, 0], [1, 0, 0], [0, 1, 0], [0, 0, 1]\n",
    "\n",
    "    Rx = trf.rotation_matrix(alpha, xaxis)\n",
    "    Ry = trf.rotation_matrix(beta, yaxis)\n",
    "    Rz = trf.rotation_matrix(gamma, zaxis)\n",
    "\n",
    "    R = trf.concatenate_matrices(Rx, Ry, Rz)           \n",
    "    R2=R[:3,:3]\n",
    "\n",
    "\n",
    "    # The rotation matrix is applyed to the mesh\n",
    "    mesh.vertices = np.matmul(mesh.vertices,R2)\n",
    "    mesh.vertices /= 5\n",
    "    tar_dir = os.path.join('./rotated_scaled_models_140/' + f)\n",
    "    mesh.export(tar_dir)"
   ]
  }
 ],
 "metadata": {
  "kernelspec": {
   "display_name": "XingangLi",
   "language": "python",
   "name": "python3"
  },
  "language_info": {
   "codemirror_mode": {
    "name": "ipython",
    "version": 3
   },
   "file_extension": ".py",
   "mimetype": "text/x-python",
   "name": "python",
   "nbconvert_exporter": "python",
   "pygments_lexer": "ipython3",
   "version": "3.9.12"
  }
 },
 "nbformat": 4,
 "nbformat_minor": 2
}
