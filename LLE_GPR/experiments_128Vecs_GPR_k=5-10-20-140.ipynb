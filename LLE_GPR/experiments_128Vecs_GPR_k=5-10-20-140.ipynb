{
 "cells": [
  {
   "cell_type": "code",
   "execution_count": 35,
   "metadata": {
    "collapsed": true
   },
   "outputs": [],
   "source": [
    "import numpy as np\n",
    "import time\n",
    "import os\n",
    "import random\n",
    "import scipy.io as sio\n",
    "import sklearn.gaussian_process as gp\n",
    "from sklearn.model_selection import KFold, LeaveOneOut, cross_val_score"
   ]
  },
  {
   "cell_type": "code",
   "execution_count": 36,
   "outputs": [],
   "source": [
    "#read vectorization data and Cd data\n",
    "fmat = sio.loadmat('ex4_160_latentVecs_cds.mat')"
   ],
   "metadata": {
    "collapsed": false,
    "pycharm": {
     "name": "#%%\n"
    }
   }
  },
  {
   "cell_type": "code",
   "execution_count": 37,
   "outputs": [],
   "source": [
    "vec_dim = '128Vecs'\n",
    "\n",
    "y_tr = fmat['cds'][0][:140]\n",
    "x_tr = fmat['vecs'][:140]\n",
    "\n",
    "y_test = fmat['cds'][0][140:]\n",
    "x_test = fmat['vecs'][140:]"
   ],
   "metadata": {
    "collapsed": false,
    "pycharm": {
     "name": "#%%\n"
    }
   }
  },
  {
   "cell_type": "code",
   "execution_count": 38,
   "outputs": [
    {
     "name": "stderr",
     "output_type": "stream",
     "text": [
      "C:\\Users\\Xingang Li\\.conda\\envs\\sdf_lle\\lib\\site-packages\\sklearn\\utils\\validation.py:72: FutureWarning: Pass shuffle=True, random_state=123 as keyword args. From version 1.0 (renaming of 0.25) passing these as positional arguments will result in an error\n",
      "  \"will result in an error\", FutureWarning)\n"
     ]
    },
    {
     "name": "stdout",
     "output_type": "stream",
     "text": [
      "[1.45593364e-03 8.74944030e-03 2.77700434e-02 6.87595326e-02\n",
      " 1.33070341e-02 1.28280016e-02 2.97479948e-03 6.01018120e-03\n",
      " 1.97173098e-02 5.24073786e-02 1.70971679e-02 5.85496944e-03\n",
      " 9.09002219e-04 2.94951317e-02 6.22439939e-04 5.88954450e-02\n",
      " 1.64978618e-02 1.10235188e-02 1.29774574e-02 1.95098299e-03\n",
      " 5.25870236e-02 2.91884164e-03 9.90091231e-02 1.54832308e-02\n",
      " 3.66793863e-02 2.31958004e-02 1.45581048e-02 5.97378319e-03\n",
      " 7.38319046e-03 7.90481506e-03 3.82621513e-03 8.18525745e-03\n",
      " 4.71765743e-02 1.43868385e-02 2.13398071e-02 3.77519043e-02\n",
      " 2.85322782e-02 1.81802887e-02 6.40204599e-04 9.36730085e-03\n",
      " 1.36296526e-03 3.76767020e-02 2.26459673e-02 2.15963789e-05\n",
      " 1.42605116e-02 3.68030007e-02 5.88155325e-03 1.00627909e-02\n",
      " 9.05864081e-02 3.73924114e-02 5.33853461e-03 5.21523238e-02\n",
      " 5.12642025e-02 3.36464723e-02 1.44092338e-02 1.59823684e-02\n",
      " 3.83460585e-03 1.29781140e-02 3.40753708e-02 7.18296083e-02\n",
      " 8.66259037e-03 5.86786142e-03 7.27605397e-02 6.65818041e-04\n",
      " 2.41785566e-02 1.83705565e-02 2.93682899e-02 5.08883540e-03\n",
      " 7.73795225e-02 1.96203798e-02 2.14700410e-03 1.41421141e-03\n",
      " 2.14491621e-02 4.29956766e-02 3.66112892e-02 4.52432995e-02\n",
      " 4.50828670e-02 3.84327815e-03 4.69196872e-02 1.36994971e-02\n",
      " 7.50024702e-03 2.96534427e-02 7.21329185e-02 2.95690288e-03\n",
      " 1.28093043e-04 4.21794389e-02 4.82659443e-02 2.90746632e-03\n",
      " 3.03631098e-02 4.09391631e-03 5.83264969e-03 1.01143799e-02\n",
      " 4.45389091e-03 1.66475060e-02 1.91904942e-02 2.01198402e-03\n",
      " 2.12071425e-02 9.15760219e-03 1.07591135e-03 2.77585265e-03\n",
      " 9.57288607e-03 8.77658730e-03 6.98552645e-03 5.62108556e-02\n",
      " 1.05230823e-02 1.29547266e-02 1.48177317e-02 3.65751521e-02\n",
      " 8.63989429e-03 6.29661525e-03 5.60173667e-03 8.20487278e-03\n",
      " 2.06660517e-02 2.98332231e-02 5.48641797e-03 1.22713529e-02\n",
      " 6.27377053e-03 2.13766041e-02 2.65539365e-02 9.04339264e-03\n",
      " 7.03922488e-02 2.81515710e-02 1.47598690e-04 8.61700584e-03\n",
      " 9.64273097e-03 2.87699749e-02 5.12470219e-02 1.05153383e-02\n",
      " 4.30234662e-02 2.09981519e-02 9.45845317e-03 1.46229710e-03\n",
      " 7.52027817e-03 8.42252639e-03 1.61131509e-02 1.12273414e-02\n",
      " 3.78198238e-04 6.16894462e-03 3.37793424e-03 3.06318821e-02]\n",
      "0.020810976349347098 0.020519387778099776\n"
     ]
    }
   ],
   "source": [
    "fold = 140\n",
    "\n",
    "# cv = LeaveOneOut()\n",
    "cv = KFold(fold, True, 123)\n",
    "kernel = gp.kernels.ConstantKernel(1.0, (1e-1,1e3)) * gp.kernels.RBF(10.0, (1e-3, 1e3))\n",
    "model = gp.GaussianProcessRegressor(kernel=kernel, n_restarts_optimizer=10, alpha=0.1, normalize_y=True)\n",
    "scores = cross_val_score(model, x_tr, y_tr, scoring='neg_mean_absolute_error', cv=cv, n_jobs=-1)\n",
    "scores = np.absolute(scores)\n",
    "print(scores)\n",
    "print(np.mean(scores), np.std(scores))"
   ],
   "metadata": {
    "collapsed": false,
    "pycharm": {
     "name": "#%%\n"
    }
   }
  },
  {
   "cell_type": "code",
   "execution_count": 39,
   "outputs": [],
   "source": [
    "#k-fold cross validation k=5\n",
    "n_data = x_tr.shape[0]\n",
    "kfold = KFold(fold, True, 123)"
   ],
   "metadata": {
    "collapsed": false,
    "pycharm": {
     "name": "#%%\n"
    }
   }
  },
  {
   "cell_type": "code",
   "execution_count": 40,
   "outputs": [
    {
     "name": "stdout",
     "output_type": "stream",
     "text": [
      "itr 0 is done!!\n",
      "itr 1 is done!!\n",
      "itr 2 is done!!\n",
      "itr 3 is done!!\n",
      "itr 4 is done!!\n",
      "itr 5 is done!!\n",
      "itr 6 is done!!\n",
      "itr 7 is done!!\n",
      "itr 8 is done!!\n",
      "itr 9 is done!!\n",
      "itr 10 is done!!\n",
      "itr 11 is done!!\n",
      "itr 12 is done!!\n",
      "itr 13 is done!!\n",
      "itr 14 is done!!\n",
      "itr 15 is done!!\n",
      "itr 16 is done!!\n",
      "itr 17 is done!!\n",
      "itr 18 is done!!\n",
      "itr 19 is done!!\n",
      "itr 20 is done!!\n",
      "itr 21 is done!!\n",
      "itr 22 is done!!\n",
      "itr 23 is done!!\n",
      "itr 24 is done!!\n",
      "itr 25 is done!!\n",
      "itr 26 is done!!\n",
      "itr 27 is done!!\n",
      "itr 28 is done!!\n",
      "itr 29 is done!!\n",
      "itr 30 is done!!\n",
      "itr 31 is done!!\n",
      "itr 32 is done!!\n",
      "itr 33 is done!!\n",
      "itr 34 is done!!\n",
      "itr 35 is done!!\n",
      "itr 36 is done!!\n",
      "itr 37 is done!!\n",
      "itr 38 is done!!\n",
      "itr 39 is done!!\n",
      "itr 40 is done!!\n",
      "itr 41 is done!!\n",
      "itr 42 is done!!\n",
      "itr 43 is done!!\n",
      "itr 44 is done!!\n",
      "itr 45 is done!!\n",
      "itr 46 is done!!\n",
      "itr 47 is done!!\n",
      "itr 48 is done!!\n",
      "itr 49 is done!!\n",
      "itr 50 is done!!\n",
      "itr 51 is done!!\n",
      "itr 52 is done!!\n",
      "itr 53 is done!!\n",
      "itr 54 is done!!\n",
      "itr 55 is done!!\n",
      "itr 56 is done!!\n",
      "itr 57 is done!!\n",
      "itr 58 is done!!\n",
      "itr 59 is done!!\n",
      "itr 60 is done!!\n",
      "itr 61 is done!!\n",
      "itr 62 is done!!\n",
      "itr 63 is done!!\n",
      "itr 64 is done!!\n",
      "itr 65 is done!!\n",
      "itr 66 is done!!\n",
      "itr 67 is done!!\n",
      "itr 68 is done!!\n",
      "itr 69 is done!!\n",
      "itr 70 is done!!\n",
      "itr 71 is done!!\n",
      "itr 72 is done!!\n",
      "itr 73 is done!!\n",
      "itr 74 is done!!\n",
      "itr 75 is done!!\n",
      "itr 76 is done!!\n",
      "itr 77 is done!!\n",
      "itr 78 is done!!\n",
      "itr 79 is done!!\n",
      "itr 80 is done!!\n",
      "itr 81 is done!!\n",
      "itr 82 is done!!\n",
      "itr 83 is done!!\n",
      "itr 84 is done!!\n",
      "itr 85 is done!!\n",
      "itr 86 is done!!\n",
      "itr 87 is done!!\n",
      "itr 88 is done!!\n",
      "itr 89 is done!!\n",
      "itr 90 is done!!\n",
      "itr 91 is done!!\n",
      "itr 92 is done!!\n",
      "itr 93 is done!!\n",
      "itr 94 is done!!\n",
      "itr 95 is done!!\n",
      "itr 96 is done!!\n",
      "itr 97 is done!!\n",
      "itr 98 is done!!\n",
      "itr 99 is done!!\n",
      "itr 100 is done!!\n",
      "itr 101 is done!!\n",
      "itr 102 is done!!\n",
      "itr 103 is done!!\n",
      "itr 104 is done!!\n",
      "itr 105 is done!!\n",
      "itr 106 is done!!\n",
      "itr 107 is done!!\n",
      "itr 108 is done!!\n",
      "itr 109 is done!!\n"
     ]
    },
    {
     "name": "stderr",
     "output_type": "stream",
     "text": [
      "C:\\Users\\Xingang Li\\.conda\\envs\\sdf_lle\\lib\\site-packages\\sklearn\\gaussian_process\\_gpr.py:506: ConvergenceWarning: lbfgs failed to converge (status=2):\n",
      "ABNORMAL_TERMINATION_IN_LNSRCH.\n",
      "\n",
      "Increase the number of iterations (max_iter) or scale the data as shown in:\n",
      "    https://scikit-learn.org/stable/modules/preprocessing.html\n",
      "  _check_optimize_result(\"lbfgs\", opt_res)\n"
     ]
    },
    {
     "name": "stdout",
     "output_type": "stream",
     "text": [
      "itr 110 is done!!\n",
      "itr 111 is done!!\n",
      "itr 112 is done!!\n",
      "itr 113 is done!!\n",
      "itr 114 is done!!\n",
      "itr 115 is done!!\n"
     ]
    },
    {
     "name": "stderr",
     "output_type": "stream",
     "text": [
      "C:\\Users\\Xingang Li\\.conda\\envs\\sdf_lle\\lib\\site-packages\\sklearn\\gaussian_process\\_gpr.py:506: ConvergenceWarning: lbfgs failed to converge (status=2):\n",
      "ABNORMAL_TERMINATION_IN_LNSRCH.\n",
      "\n",
      "Increase the number of iterations (max_iter) or scale the data as shown in:\n",
      "    https://scikit-learn.org/stable/modules/preprocessing.html\n",
      "  _check_optimize_result(\"lbfgs\", opt_res)\n"
     ]
    },
    {
     "name": "stdout",
     "output_type": "stream",
     "text": [
      "itr 116 is done!!\n",
      "itr 117 is done!!\n",
      "itr 118 is done!!\n",
      "itr 119 is done!!\n",
      "itr 120 is done!!\n",
      "itr 121 is done!!\n",
      "itr 122 is done!!\n",
      "itr 123 is done!!\n",
      "itr 124 is done!!\n",
      "itr 125 is done!!\n",
      "itr 126 is done!!\n",
      "itr 127 is done!!\n",
      "itr 128 is done!!\n",
      "itr 129 is done!!\n",
      "itr 130 is done!!\n",
      "itr 131 is done!!\n",
      "itr 132 is done!!\n",
      "itr 133 is done!!\n",
      "itr 134 is done!!\n",
      "itr 135 is done!!\n",
      "itr 136 is done!!\n",
      "itr 137 is done!!\n",
      "itr 138 is done!!\n",
      "itr 139 is done!!\n"
     ]
    }
   ],
   "source": [
    "itr = 0\n",
    "f2 = open(f'Experiments_dim' + f'{vec_dim}' + f'_GPR_{fold}fold_test.txt', 'a')\n",
    "f1 = open(f'Experiments_dim' + f'{vec_dim}' + f'_GPR_{fold}fold_val.txt', 'a')\n",
    "\n",
    "for train, val in kfold.split(x_tr):\n",
    "    x_trsample = x_tr[train]\n",
    "    y_trsample = y_tr[train]\n",
    "    kernel = gp.kernels.ConstantKernel(1.0, (1e-1,1e3)) * gp.kernels.RBF(10.0, (1e-3, 1e3))\n",
    "    model = gp.GaussianProcessRegressor(kernel=kernel, n_restarts_optimizer=10, alpha=0.1, normalize_y=True)\n",
    "    model.fit(x_trsample, y_trsample)\n",
    "\n",
    "    #validation\n",
    "    y_pred = model.predict(x_tr[val])\n",
    "    cd_GT = y_tr[val]\n",
    "    error_cd_new_pred = y_pred - cd_GT #error\n",
    "\n",
    "    #test 20 samples\n",
    "    y_test_pred = model.predict(x_test)\n",
    "    error_test = y_test_pred - y_test\n",
    "\n",
    "    for i in range(val.shape[0]):\n",
    "        f1.writelines(f'Dim_{vec_dim}, val:{val[i]}, GT:{cd_GT[i]}, pred: {y_pred[i]}, error:{error_cd_new_pred[i]} \\n')\n",
    "    # error_cd_new_pred_all = np.array(error_cd_new_pred_all)\n",
    "\n",
    "    for j in range(x_test.shape[0]):\n",
    "        f2.writelines(f'Dim_{vec_dim}, test:{j}, GT:{y_test[j]}, pred: {y_test_pred[j]}, error:{error_test[j]} \\n')\n",
    "\n",
    "    print(f\"itr {itr} is done!!\")\n",
    "    itr += 1\n",
    "\n",
    "\n",
    "f2.close()\n",
    "f1.close()\n",
    "\n",
    "\n"
   ],
   "metadata": {
    "collapsed": false,
    "pycharm": {
     "name": "#%%\n"
    }
   }
  }
 ],
 "metadata": {
  "kernelspec": {
   "name": "sdf_lle",
   "language": "python",
   "display_name": "sdf_lle"
  },
  "language_info": {
   "codemirror_mode": {
    "name": "ipython",
    "version": 2
   },
   "file_extension": ".py",
   "mimetype": "text/x-python",
   "name": "python",
   "nbconvert_exporter": "python",
   "pygments_lexer": "ipython2",
   "version": "2.7.6"
  }
 },
 "nbformat": 4,
 "nbformat_minor": 0
}