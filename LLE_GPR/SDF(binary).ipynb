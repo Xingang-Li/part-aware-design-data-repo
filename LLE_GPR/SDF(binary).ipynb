{
 "cells": [
  {
   "cell_type": "code",
   "execution_count": 3,
   "metadata": {},
   "outputs": [],
   "source": [
    "import mesh_to_sdf\n",
    "import trimesh\n",
    "import pyrender\n",
    "import numpy as np\n",
    "import matplotlib\n",
    "import matplotlib.pyplot as plt\n",
    "from mpl_toolkits.mplot3d import Axes3D\n",
    "%matplotlib inline\n",
    "import time\n",
    "start_time = time.time()"
   ]
  },
  {
   "cell_type": "code",
   "execution_count": 4,
   "metadata": {},
   "outputs": [],
   "source": [
    "mesh = trimesh.load('car.obj')\n",
    "\n",
    "#original mass center and bounding box\n",
    "print(mesh.center_mass)\n",
    "mesh.vertices -= mesh.center_mass\n",
    "print(mesh.bounding_box.primitive.extents)#bounding box size\n",
    "\n",
    "#set mass center to (0,0,0)\n",
    "print(mesh.center_mass)\n",
    "\n",
    "#rescale the mesh to real scale in meters\n",
    "mesh.vertices = mesh.vertices*5\n",
    "bbx_ex = mesh.bounding_box.primitive.extents\n",
    "print(bbx_ex) #bounding box size\n",
    "#mesh.show()"
   ]
  },
  {
   "cell_type": "code",
   "execution_count": 5,
   "metadata": {},
   "outputs": [
    {
     "name": "stdout",
     "output_type": "stream",
     "text": [
      "25 10 10\n",
      "2500\n"
     ]
    },
    {
     "ename": "NameError",
     "evalue": "name 'mesh' is not defined",
     "output_type": "error",
     "traceback": [
      "\u001b[0;31m---------------------------------------------------------------------------\u001b[0m",
      "\u001b[0;31mNameError\u001b[0m                                 Traceback (most recent call last)",
      "\u001b[0;32m<ipython-input-5-24510fdcdc46>\u001b[0m in \u001b[0;36m<module>\u001b[0;34m\u001b[0m\n\u001b[1;32m     16\u001b[0m \u001b[0;31m# print(points.shape)\u001b[0m\u001b[0;34m\u001b[0m\u001b[0;34m\u001b[0m\u001b[0;34m\u001b[0m\u001b[0m\n\u001b[1;32m     17\u001b[0m \u001b[0;34m\u001b[0m\u001b[0m\n\u001b[0;32m---> 18\u001b[0;31m b = mesh_to_sdf.mesh_to_sdf(mesh, points, \n\u001b[0m\u001b[1;32m     19\u001b[0m                         \u001b[0msurface_point_method\u001b[0m\u001b[0;34m=\u001b[0m\u001b[0;34m'scan'\u001b[0m\u001b[0;34m,\u001b[0m \u001b[0msign_method\u001b[0m\u001b[0;34m=\u001b[0m\u001b[0;34m'normal'\u001b[0m\u001b[0;34m,\u001b[0m\u001b[0;34m\u001b[0m\u001b[0;34m\u001b[0m\u001b[0m\n\u001b[1;32m     20\u001b[0m                         \u001b[0mbounding_radius\u001b[0m\u001b[0;34m=\u001b[0m\u001b[0;32mNone\u001b[0m\u001b[0;34m,\u001b[0m \u001b[0mscan_count\u001b[0m\u001b[0;34m=\u001b[0m\u001b[0;36m100\u001b[0m\u001b[0;34m,\u001b[0m \u001b[0mscan_resolution\u001b[0m\u001b[0;34m=\u001b[0m\u001b[0;36m400\u001b[0m\u001b[0;34m,\u001b[0m\u001b[0;34m\u001b[0m\u001b[0;34m\u001b[0m\u001b[0m\n",
      "\u001b[0;31mNameError\u001b[0m: name 'mesh' is not defined"
     ]
    }
   ],
   "source": [
    "# x_p = np.array((0.0, 1.0, 2.0, 3.0, 4.0))\n",
    "# y_p = np.array((0.0, 1.0, 2.0))\n",
    "# z_p = np.array((0.0, 1.0, 2.0))\n",
    "\n",
    "x_p = np.linspace(-2.5,2.5,25) \n",
    "y_p = np.linspace(-1.0,1.0,10)\n",
    "z_p = np.linspace(-1.0,1.0,10)\n",
    "# print(x_p,y_p,z_p)\n",
    "print(len(x_p),len(y_p),len(z_p))\n",
    "\n",
    "points = np.vstack(np.meshgrid(x_p,y_p,z_p)).reshape(3,-1).T\n",
    "\n",
    "print(len(points))\n",
    "\n",
    "# print(points)\n",
    "# print(points.shape)\n",
    "\n",
    "b = mesh_to_sdf.mesh_to_sdf(mesh, points, \n",
    "                        surface_point_method='scan', sign_method='normal', \n",
    "                        bounding_radius=None, scan_count=100, scan_resolution=400, \n",
    "                        sample_point_count=10000000, normal_sample_count=11)\n",
    "print(len(b),b)\n",
    "for i, sdf in enumerate(b):\n",
    "    if sdf > 0: # outside the boundary\n",
    "        sdf = 0\n",
    "    else:       # on the boundary or inside the boundary\n",
    "        sdf = 1\n",
    "    b[i] = sdf\n",
    "print(len(b),b)"
   ]
  },
  {
   "cell_type": "code",
   "execution_count": null,
   "metadata": {
    "scrolled": true
   },
   "outputs": [],
   "source": [
    "fig = plt.figure()\n",
    "ax = fig.add_subplot(111, projection='3d')\n",
    "x_p = points[:,0]\n",
    "y_p = points[:,1]\n",
    "z_p = points[:,2]\n",
    "ax.scatter(x_p, y_p, z_p, zdir='z', c= 'red')\n",
    "# ax.set_xlim3d(0, 5)\n",
    "# ax.set_ylim3d(0, 5)\n",
    "# ax.set_zlim3d(0, 5)\n",
    "ax.view_init(elev=10., azim=100)"
   ]
  },
  {
   "cell_type": "code",
   "execution_count": null,
   "metadata": {
    "scrolled": false
   },
   "outputs": [],
   "source": [
    "print(\"execution time: %s\" %(time.time() - start_time))"
   ]
  },
  {
   "cell_type": "code",
   "execution_count": null,
   "metadata": {},
   "outputs": [],
   "source": [
    "num1 = 0\n",
    "for i in range(len(b)):\n",
    "    if b[i] == 1:\n",
    "        num1 += 1\n",
    "print(len(b),num1) \n",
    "#print(mesh.volume)"
   ]
  }
 ],
 "metadata": {
  "kernelspec": {
   "display_name": "Python 3",
   "language": "python",
   "name": "python3"
  },
  "language_info": {
   "codemirror_mode": {
    "name": "ipython",
    "version": 3
   },
   "file_extension": ".py",
   "mimetype": "text/x-python",
   "name": "python",
   "nbconvert_exporter": "python",
   "pygments_lexer": "ipython3",
   "version": "3.6.10"
  }
 },
 "nbformat": 4,
 "nbformat_minor": 2
}
