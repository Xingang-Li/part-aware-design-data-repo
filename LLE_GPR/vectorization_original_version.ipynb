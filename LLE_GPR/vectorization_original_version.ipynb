{
 "cells": [
  {
   "cell_type": "code",
   "execution_count": 1,
   "metadata": {},
   "outputs": [],
   "source": [
    "import mesh_to_sdf\n",
    "import trimesh\n",
    "import pyrender\n",
    "import numpy as np\n",
    "import time\n",
    "import os"
   ]
  },
  {
   "cell_type": "markdown",
   "metadata": {},
   "source": [
    "# Construction of the matrix of 80 cars"
   ]
  },
  {
   "cell_type": "code",
   "execution_count": 2,
   "metadata": {},
   "outputs": [],
   "source": [
    "def sdf_binary(mesh):\n",
    "    '''calculate binary representation vector of a car shape\n",
    "       input: mesh\n",
    "       output: vector representation of a mesh'''\n",
    "    \n",
    "    start_time = time.time()\n",
    "    \n",
    "    #original mass center and bounding box\n",
    "#     print(mesh.center_mass)\n",
    "#     bbx_ex = mesh.bounding_box.primitive.extents\n",
    "#     print(bbx_ex)#bounding box size\n",
    "\n",
    "    #set mass center to (0,0,0)\n",
    "    mesh.vertices -= mesh.center_mass\n",
    "#     print(mesh.center_mass)\n",
    "\n",
    "    #rescale the mesh to real scale in meters\n",
    "    mesh.vertices = mesh.vertices*5\n",
    "#     print(bbx_ex) #bounding box size\n",
    "    \n",
    "    #construct points matrix used to enclude the mesh\n",
    "    x_p = np.linspace(-2.5,2.5,50) \n",
    "    y_p = np.linspace(-1.0,1.0,20)\n",
    "    z_p = np.linspace(-1.0,1.0,20)\n",
    "    points = np.vstack(np.meshgrid(x_p,y_p,z_p)).reshape(3,-1).T\n",
    "    \n",
    "    #calculate the sdf of each point to the mesh\n",
    "    sd = mesh_to_sdf.mesh_to_sdf(mesh, points, \n",
    "                        surface_point_method='scan', sign_method='normal', \n",
    "                        bounding_radius=None, scan_count=100, scan_resolution=400, \n",
    "                        sample_point_count=10000000, normal_sample_count=11)\n",
    "    \n",
    "    #transform the sdf using a presence function\n",
    "    #outside the mesh is 0 and inside the mesh is 1\n",
    "    for i, sdf in enumerate(sd):\n",
    "        if sdf > 0: # outside the boundary\n",
    "            sdf = 0\n",
    "        else:       # on the boundary or inside the boundary\n",
    "            sdf = 1\n",
    "        sd[i] = sdf\n",
    "    \n",
    "    #show execution time\n",
    "    print(\"execution time: %s\" %(time.time() - start_time))\n",
    "    \n",
    "    return sd"
   ]
  },
  {
   "cell_type": "code",
   "execution_count": 3,
   "metadata": {
    "scrolled": false
   },
   "outputs": [
    {
     "name": "stdout",
     "output_type": "stream",
     "text": [
      "execution time: 28.710896492004395\n",
      "12cf05b9f5f2d2c195c8d3a7db4dbe65.obj\n",
      "execution time: 27.8306827545166\n",
      "139718b631cbca546a36136419d55d5c.obj\n",
      "execution time: 27.619146585464478\n",
      "175a289947f549b0e088606e38104b2.obj\n",
      "execution time: 31.42665410041809\n",
      "1cf17a1e1841d10c9e6a3356df3f3d9a.obj\n",
      "execution time: 29.11589241027832\n",
      "269676546548fba38e271c56304de147.obj\n",
      "execution time: 30.521888494491577\n",
      "83731bad1b7d6ec531fde3a1e19a4940.obj\n",
      "execution time: 30.12930655479431\n",
      "8b8f4f12e5b142c016abce8cb03e7794.obj\n",
      "execution time: 30.9512140750885\n",
      "900c32b154c0dced994a3466f8481f8a.obj\n",
      "execution time: 31.067498445510864\n",
      "9c10e71c06558c3b1bb46d2556ba67d.obj\n",
      "execution time: 31.966644525527954\n",
      "9e6156aea0c7e60ff7d6fd2038bf9a11.obj\n",
      "execution time: 36.32061505317688\n",
      "a49041daedac3ecf2fdea40a56b4c57d.obj\n",
      "execution time: 34.712973833084106\n",
      "a51b3b0cbd9c24f3a7fd25564c2e888e.obj\n",
      "execution time: 33.61313462257385\n",
      "aadf8736528b0f46857652684714945f.obj\n",
      "execution time: 36.41155743598938\n",
      "abd0aa2e0ca4fc4793249f89773e858.obj\n",
      "execution time: 35.79269814491272\n",
      "ac813039f9a4468ccc777d23edf2f8d8.obj\n",
      "execution time: 35.35887169837952\n",
      "b40c9e44350f95aa1b9234e4ab67a3eb.obj\n",
      "execution time: 36.25930666923523\n",
      "b47d993a5e2dd15e3a3aa1d2d3319a4.obj\n",
      "execution time: 37.854437589645386\n",
      "b790d70257a8191a29984c4afd2e98a4.obj\n",
      "execution time: 37.67973303794861\n",
      "ba3e00431d584664c0f081c0bea90dfe.obj\n",
      "execution time: 38.17923879623413\n",
      "c9d53c90471eeb06ed3696d854eee1ec.obj\n"
     ]
    }
   ],
   "source": [
    "# Get a np.array holding all vector representations of 60 car models\n",
    "sd_list = []\n",
    "names = [f for f in os.listdir('./rotated_scaled_models_20/')]\n",
    "for name in names:\n",
    "    directory = os.path.join('./rotated_scaled_models_20/' + name)\n",
    "    mesh = trimesh.load(directory)\n",
    "    sd = sdf_binary(mesh)\n",
    "    print(name)\n",
    "    sd_list.append(sd)"
   ]
  },
  {
   "cell_type": "code",
   "execution_count": 4,
   "metadata": {
    "scrolled": false
   },
   "outputs": [
    {
     "name": "stdout",
     "output_type": "stream",
     "text": [
      "[[0. 0. 0. ... 0. 0. 0.]\n",
      " [0. 0. 0. ... 0. 0. 0.]\n",
      " [0. 0. 0. ... 0. 0. 0.]\n",
      " ...\n",
      " [0. 0. 0. ... 0. 0. 0.]\n",
      " [1. 0. 0. ... 0. 0. 0.]\n",
      " [0. 0. 0. ... 0. 0. 0.]]\n"
     ]
    }
   ],
   "source": [
    "sd_array = np.array(sd_list)\n",
    "print(sd_array)\n",
    "np.savetxt('v_rep_20.csv',sd_array, delimiter=',', fmt='%.2e')"
   ]
  },
  {
   "cell_type": "code",
   "execution_count": 19,
   "metadata": {},
   "outputs": [
    {
     "name": "stdout",
     "output_type": "stream",
     "text": [
      "20000\n"
     ]
    }
   ],
   "source": [
    "a = sd_array[0]\n",
    "print(len(a))"
   ]
  },
  {
   "cell_type": "code",
   "execution_count": 5,
   "metadata": {},
   "outputs": [],
   "source": [
    "# sd_array = np.genfromtxt('v_rep_car60.csv', delimiter=',')\n",
    "# print(len(sd_array))"
   ]
  },
  {
   "cell_type": "markdown",
   "metadata": {},
   "source": [
    "# Data visualization of the matrix of 80 cars"
   ]
  },
  {
   "cell_type": "code",
   "execution_count": 6,
   "metadata": {},
   "outputs": [],
   "source": [
    "from sklearn import neighbors, datasets, manifold\n",
    "from scipy import linalg\n",
    "from scipy.linalg import eigh\n",
    "import matplotlib\n",
    "import matplotlib.pyplot as plt\n",
    "from mpl_toolkits.mplot3d import Axes3D\n",
    "%matplotlib inline"
   ]
  },
  {
   "cell_type": "code",
   "execution_count": 7,
   "metadata": {},
   "outputs": [],
   "source": [
    "#### Neighbor search\n",
    "# we will implement K-nearest neighbor search\n",
    "def knn_Mat(X, K, t=2.0, dist_metric=\"euclidean\", algorithm=\"ball_tree\"):\n",
    "    \"\"\" compute the neighborhood matrix\n",
    "\n",
    "    Keyword arguments:\n",
    "        X: np.array of data, each row(not column) is associated with one car. (A car is represented by a vector)\n",
    "        K: number of neighbors to seek for each element (the element itself is excluded)\n",
    "        dist_metric: with which metric to compute the distances\n",
    "        algorithm: which which algorithm to use\n",
    "\n",
    "    return:\n",
    "        the neighborhood matrix\n",
    "    \"\"\"\n",
    "\n",
    "    n, p = X.shape  # n: number of elements, p: dimension (number of data per element)\n",
    "\n",
    "    knn = neighbors.NearestNeighbors(K + 1, metric=dist_metric, algorithm=algorithm).fit(X)\n",
    "    distances, nbors = knn.kneighbors(X)  # return k nearest neighbours of each member of X, nbors is array of indices \n",
    "\n",
    "    return (nbors[:, 1:])  # neighborhood matrix first one is the point itself, which should be excluded"
   ]
  },
  {
   "cell_type": "code",
   "execution_count": 8,
   "metadata": {},
   "outputs": [],
   "source": [
    "#### calculation of reconstruction weights\n",
    "def get_weights(X, nbors, reg, K):\n",
    "    \"\"\" compute the weight matrix\n",
    "\n",
    "    Keyword arguments:\n",
    "        X: np.array of data, each row is associated with one car\n",
    "        nbors; neighborhood matrix\n",
    "        regularized term: avoid the covariance matrix to be singular #regularizer\n",
    "        K: number of neighbours selected for each car\n",
    "\n",
    "    return:\n",
    "        the weight matrix\n",
    "    \"\"\"\n",
    "\n",
    "    n, p = X.shape  # n number of car shapes, n rows and p columns (60 rows and 112000 columns in our case)\n",
    "\n",
    "    Weights = np.zeros((n, n))\n",
    "\n",
    "    for i in range(n):\n",
    "\n",
    "        X_bors = X[nbors[i], :] - X[i]  # Gi in MLLE paper\n",
    "        cov_nbors = np.dot(X_bors, X_bors.T)\n",
    "\n",
    "        # regularization terms\n",
    "        trace = np.trace(cov_nbors)\n",
    "        if trace > 0:\n",
    "            R = reg * trace\n",
    "        else:\n",
    "            R = reg\n",
    "        cov_nbors.flat[::K + 1] += R  # [::K+1] -> every K+1 step. Allows adding only on trace\n",
    "        weights = linalg.solve(cov_nbors, np.ones(K).T, sym_pos=True)  # solution to cov_nbors*weights = 1\n",
    "        # optimal solution to min(cov_nbors*W)\n",
    "\n",
    "        # normalizing\n",
    "        weights = weights / weights.sum()\n",
    "        # only ponderable weights of neighbours should be different from zero\n",
    "        #Weights[i, nbors[i]] = weights # put all those weights into a matrix\n",
    "        Weights[i, nbors[i]] = weights\n",
    "\n",
    "    return (Weights)"
   ]
  },
  {
   "cell_type": "code",
   "execution_count": 9,
   "metadata": {},
   "outputs": [],
   "source": [
    "#### Calculate the embedded data using the weights\n",
    "# calculation of the new embedding\n",
    "def Y_(Weights, d):\n",
    "    \"\"\" reconstruct data into the low dimensional space\n",
    "\n",
    "    Keyword arguments:\n",
    "        Weights: weight matrix\n",
    "        d: number of dimension in which to project onto (2 in our case)\n",
    "\n",
    "    return:\n",
    "        the dataset projected onto d dimensions\n",
    "    \"\"\"\n",
    "    n, p = Weights.shape\n",
    "    I = np.eye(n)\n",
    "    m = (I - Weights)\n",
    "    M = m.T.dot(m)\n",
    "\n",
    "    eigvals, eigvecs = eigh(M, eigvals=(1, d), overwrite_a=True)\n",
    "    ind = np.argsort(np.abs(eigvals))\n",
    "\n",
    "    return (eigvecs[:, ind])  # we only keep the the most important vectors (?? xl)\n"
   ]
  },
  {
   "cell_type": "code",
   "execution_count": 10,
   "metadata": {},
   "outputs": [],
   "source": [
    "def LLE_(X, K, d, nbors):\n",
    "    \"\"\" proceed to various LLE steps\n",
    "\n",
    "    Keyword arguments:\n",
    "        X: dataset\n",
    "        K: number of neighbours to seek\n",
    "        d: on how many dimension to project the dataset\n",
    "\n",
    "    return:\n",
    "        the data set projected into d dimensions\n",
    "    \"\"\"\n",
    "    reg = 0.001 # regularized term\n",
    "\n",
    "    try:\n",
    "        if nbors == None:\n",
    "            nbors = knn_Mat(X, K)\n",
    "    except:\n",
    "        pass\n",
    "    Weights = get_weights(X, nbors, reg, K)\n",
    "\n",
    "    Y = Y_(Weights, d)\n",
    "    \n",
    "    return [Y, Weights, nbors]"
   ]
  },
  {
   "cell_type": "code",
   "execution_count": 11,
   "metadata": {
    "scrolled": true
   },
   "outputs": [
    {
     "name": "stdout",
     "output_type": "stream",
     "text": [
      "Reconstruction error: 0.0520404\n"
     ]
    },
    {
     "name": "stderr",
     "output_type": "stream",
     "text": [
      "C:\\Anaconda\\envs\\SDF-LLE\\lib\\site-packages\\sklearn\\utils\\validation.py:70: FutureWarning: Pass n_neighbors=7 as keyword args. From version 0.25 passing these as positional arguments will result in an error\n",
      "  FutureWarning)\n"
     ]
    }
   ],
   "source": [
    "X = sd_array\n",
    "n_sample, sample_dim = np.shape(X)\n",
    "K = 6 #in our case, K=6 gets the lowest reconstruction error\n",
    "d = 2\n",
    "nbors = None\n",
    "Y, Weights, nbors = LLE_(X, K, d, nbors)\n",
    "err = np.linalg.norm(Y - np.dot(Weights,Y),'fro')**2 # reconstruction error for Y (low dimensional data)\n",
    "\n",
    "# print(Y)\n",
    "# print(Weights)\n",
    "# print(nbors)\n",
    "# print(np.dot(Weights,Y))\n",
    "print(\"Reconstruction error: %g\" %err)"
   ]
  },
  {
   "cell_type": "code",
   "execution_count": 12,
   "metadata": {},
   "outputs": [],
   "source": [
    "# extracting the weights of neighbors for all shapes \n",
    "W_shapes = np.zeros((n_sample,K)) # W_shapes: weights extracted from Weight matrix\n",
    "for i in range(n_sample):\n",
    "    for j in range(K):\n",
    "        n = nbors[i,:][j]\n",
    "        W_shapes[i,j] = Weights[i,n]   \n",
    "# print(W_shapes)"
   ]
  },
  {
   "cell_type": "code",
   "execution_count": 13,
   "metadata": {},
   "outputs": [],
   "source": [
    "# # Plot result\n",
    "# fig = plt.figure()\n",
    "# ax1 = fig.add_subplot(111)\n",
    "# y0 = Y[:, 0]\n",
    "# y1 = Y[:, 1]\n",
    "# ax1.scatter(y0,y1)\n",
    "# plt.axis('tight')\n",
    "# plt.xticks([]), plt.yticks([])\n",
    "# plt.title('Projected data') "
   ]
  },
  {
   "cell_type": "code",
   "execution_count": 14,
   "metadata": {},
   "outputs": [
    {
     "data": {
      "text/plain": [
       "Text(0.5, 1.0, 'Projected data')"
      ]
     },
     "execution_count": 14,
     "metadata": {},
     "output_type": "execute_result"
    },
    {
     "data": {
      "image/png": "[encoded data removed]",
      "text/plain": [
       "<Figure size 432x288 with 1 Axes>"
      ]
     },
     "metadata": {},
     "output_type": "display_data"
    }
   ],
   "source": [
    "# Plot result\n",
    "fig, ax = plt.subplots()\n",
    "#fig = plt.figure()\n",
    "# ax1 = fig.add_subplot(111)\n",
    "# ax2 = fig.add_subplot(112)\n",
    "# ax3 = fig.add_subplot(113)\n",
    "# ax4 = fig.add_subplot(114)\n",
    "x_b = Y[:19, 0]\n",
    "y_b = Y[:19, 1]\n",
    "x_c = Y[19:27, 0]\n",
    "y_c = Y[19:27, 1]\n",
    "x_s = Y[27:47, 0]\n",
    "y_s = Y[27:47, 1]\n",
    "x_sp = Y[47:, 0]\n",
    "y_sp = Y[47:, 1]\n",
    "# ax1.scatter(x_b,y_b)\n",
    "# ax2.scatter(x_c,y_c)\n",
    "# ax3.scatter(x_s,y_s)\n",
    "# ax4.scatter(x_sp,y_sp)\n",
    "plt.scatter(x_b,y_b, s=100, marker=\">\", label='big cars') #triangle \n",
    "plt.scatter(x_c,y_c, s=100, marker=(5,0), label='classic cars')#wubianxing\n",
    "plt.scatter(x_s,y_s, s=100, marker=\"+\", label='small cars')#plus\n",
    "plt.scatter(x_sp,y_sp, s=100, marker=(5,1), label='sports cars')#stars\n",
    "plt.legend(loc='lower right')\n",
    "plt.axis('tight')\n",
    "plt.xticks([]), plt.yticks([])\n",
    "plt.title('Projected data') "
   ]
  },
  {
   "cell_type": "markdown",
   "metadata": {},
   "source": [
    "# Get weights of a new car"
   ]
  },
  {
   "cell_type": "code",
   "execution_count": 15,
   "metadata": {},
   "outputs": [],
   "source": [
    "#### Neighbors search for a new added shape \n",
    "# we will implement K-nearest neighbor search\n",
    "def knn_new(X, K, x_new, t=2.0, dist_metric=\"euclidean\", algorithm=\"ball_tree\"):\n",
    "    \"\"\" compute the neighborhood matrix\n",
    "\n",
    "    Keyword arguments:\n",
    "        X: np.array of data, each row(not column) is associated with one car. (A car is represented by a vector)\n",
    "        K: number of neighbors to seek for each element (the element itself is excluded)\n",
    "        dist_metric: with which metric to compute the distances\n",
    "        algorithm: which which algorithm to use\n",
    "\n",
    "    return:\n",
    "        the neighborhood matrix\n",
    "    \"\"\"\n",
    "\n",
    "    n, p = X.shape  # n: number of elements, p: dimension (number of data per element)\n",
    "\n",
    "    knn = neighbors.NearestNeighbors(K + 1, metric=dist_metric, algorithm=algorithm).fit(X)\n",
    "    nbors = knn.kneighbors([x_new],K + 1, return_distance=False)  # return k nearest neighbours of each member of X, nbors is array of indices \n",
    "\n",
    "    return (nbors[:, 1:])  # neighborhood matrix first one is the point itself, which should be excluded"
   ]
  },
  {
   "cell_type": "code",
   "execution_count": 16,
   "metadata": {},
   "outputs": [],
   "source": [
    "#### calculation of reconstruction weights\n",
    "def get_weights_new(x_new, knn_new, K, reg=0.001):\n",
    "    \"\"\" compute the weight matrix\n",
    "\n",
    "    Keyword arguments:\n",
    "        x_new: a new vector representing a new car shape\n",
    "        knn_new: neighborhood of the new car shape\n",
    "        reg: avoid the covariance matrix to be singular #regularizer\n",
    "        K: number of neighbours selected for each car\n",
    "\n",
    "    return:\n",
    "        the vector of weights for neighboring data points\n",
    "    \"\"\"\n",
    "    \n",
    "    X_bors = X[knn_new[0:K], :] - x_new  # Gi in MLLE paper, X[i] = X[i,:] ith row of X\n",
    "    cov_nbors = np.dot(X_bors, X_bors.T)\n",
    "\n",
    "    # regularization terms\n",
    "    trace = np.trace(cov_nbors)\n",
    "    if trace > 0:\n",
    "        R = reg * trace\n",
    "    else:\n",
    "        R = reg\n",
    "    cov_nbors.flat[::K + 1] += R  # [::K+1] -> every K+1 step. Allows adding only on trace\n",
    "    weights = linalg.solve(cov_nbors, np.ones(K).T, sym_pos=True)  # solution to cov_nbors*weights = 1\n",
    "        # optimal solution to min(cov_nbors*W)\n",
    "\n",
    "        # normalizing\n",
    "    weights = weights / weights.sum()\n",
    "\n",
    "    return (weights)"
   ]
  },
  {
   "cell_type": "markdown",
   "metadata": {},
   "source": [
    "# Fast evaluation of the drag coefficient of a new car shape"
   ]
  },
  {
   "cell_type": "code",
   "execution_count": 17,
   "metadata": {
    "scrolled": true
   },
   "outputs": [
    {
     "name": "stdout",
     "output_type": "stream",
     "text": [
      "[0.58 0.68 0.45 0.52 0.4  0.37 0.45 0.49 0.39 0.55 0.44 0.44 0.52 0.52\n",
      " 0.35 0.41 0.34 0.4  0.32 0.24 0.43 0.65 0.45 0.44 0.64 0.67 0.41 0.35\n",
      " 0.39 0.29 0.33 0.34 0.34 0.54 0.39 0.38 0.31 0.33 0.29 0.28 0.34 0.33\n",
      " 0.25 0.32 0.36 0.3  0.3  0.33 0.35 0.72 0.48 0.37 0.51 0.49 0.61 0.6\n",
      " 0.49 0.71 0.53 0.34]\n"
     ]
    }
   ],
   "source": [
    "# Coefficents dataset of original 60 car models (new)\n",
    "Cds = np.array([0.58, 0.68, 0.45, 0.52, 0.4, 0.37, 0.45, 0.49, 0.39, 0.55,\n",
    "                0.44, 0.44, 0.52, 0.52, 0.35, 0.41, 0.34, 0.4, 0.32, 0.24,\n",
    "                0.43, 0.65, 0.45, 0.44, 0.64, 0.67, 0.41, 0.35, 0.39, 0.29, \n",
    "                0.33,0.34, 0.34, 0.54, 0.39, 0.38, 0.31, 0.33, 0.29, 0.28, \n",
    "                0.34,0.33, 0.25, 0.32, 0.36, 0.3, 0.3, 0.33, 0.35, 0.72, \n",
    "                0.48,0.37, 0.51, 0.49, 0.61, 0.6, 0.49, 0.71, 0.53, 0.34])\n",
    "print(Cds)"
   ]
  },
  {
   "cell_type": "code",
   "execution_count": 18,
   "metadata": {},
   "outputs": [
    {
     "ename": "FileNotFoundError",
     "evalue": "[WinError 3] The system cannot find the path specified: './validation_20/'",
     "output_type": "error",
     "traceback": [
      "\u001b[1;31m---------------------------------------------------------------------------\u001b[0m",
      "\u001b[1;31mFileNotFoundError\u001b[0m                         Traceback (most recent call last)",
      "\u001b[1;32m<ipython-input-18-20fe7211175f>\u001b[0m in \u001b[0;36m<module>\u001b[1;34m\u001b[0m\n\u001b[0;32m      1\u001b[0m \u001b[0mmodels\u001b[0m \u001b[1;33m=\u001b[0m \u001b[1;33m[\u001b[0m\u001b[1;33m]\u001b[0m\u001b[1;33m\u001b[0m\u001b[1;33m\u001b[0m\u001b[0m\n\u001b[0;32m      2\u001b[0m \u001b[0mcd_models\u001b[0m \u001b[1;33m=\u001b[0m \u001b[1;33m[\u001b[0m\u001b[1;33m]\u001b[0m\u001b[1;33m\u001b[0m\u001b[1;33m\u001b[0m\u001b[0m\n\u001b[1;32m----> 3\u001b[1;33m \u001b[1;32mfor\u001b[0m \u001b[0mf\u001b[0m \u001b[1;32min\u001b[0m \u001b[0mos\u001b[0m\u001b[1;33m.\u001b[0m\u001b[0mlistdir\u001b[0m\u001b[1;33m(\u001b[0m\u001b[1;34m'./validation_20/'\u001b[0m\u001b[1;33m)\u001b[0m\u001b[1;33m:\u001b[0m\u001b[1;33m\u001b[0m\u001b[1;33m\u001b[0m\u001b[0m\n\u001b[0m\u001b[0;32m      4\u001b[0m         \u001b[1;31m#### Neighbors search for a new added shape\u001b[0m\u001b[1;33m\u001b[0m\u001b[1;33m\u001b[0m\u001b[1;33m\u001b[0m\u001b[0m\n\u001b[0;32m      5\u001b[0m     \u001b[1;31m# we will implement K-nearest neighbor search\u001b[0m\u001b[1;33m\u001b[0m\u001b[1;33m\u001b[0m\u001b[1;33m\u001b[0m\u001b[0m\n",
      "\u001b[1;31mFileNotFoundError\u001b[0m: [WinError 3] The system cannot find the path specified: './validation_20/'"
     ]
    }
   ],
   "source": [
    "models = []\n",
    "cd_models = []\n",
    "for f in os.listdir('./validation_20/'):\n",
    "        #### Neighbors search for a new added shape \n",
    "    # we will implement K-nearest neighbor search\n",
    "    def knn_new(X, K, x_new, t=2.0, dist_metric=\"euclidean\", algorithm=\"ball_tree\"):\n",
    "        \"\"\" compute the neighborhood matrix\n",
    "\n",
    "        Keyword arguments:\n",
    "            X: np.array of data, each row(not column) is associated with one car. (A car is represented by a vector)\n",
    "            K: number of neighbors to seek for each element (the element itself is excluded)\n",
    "            dist_metric: with which metric to compute the distances\n",
    "            algorithm: which which algorithm to use\n",
    "\n",
    "        return:\n",
    "            the neighborhood matrix\n",
    "        \"\"\"\n",
    "\n",
    "        n, p = X.shape  # n: number of elements, p: dimension (number of data per element)\n",
    "\n",
    "        knn = neighbors.NearestNeighbors(K + 1, metric=dist_metric, algorithm=algorithm).fit(X)\n",
    "        nbors = knn.kneighbors([x_new],K + 1, return_distance=False)  # return k nearest neighbours of each member of X, nbors is array of indices \n",
    "\n",
    "        return (nbors[:, 1:])  # neighborhood matrix first one is the point itself, which should be excluded\n",
    "    #### calculation of reconstruction weights\n",
    "    def get_weights_new(x_new, knn_new, K, reg=0.001):\n",
    "        \"\"\" compute the weight matrix\n",
    "\n",
    "        Keyword arguments:\n",
    "            x_new: a new vector representing a new car shape\n",
    "            knn_new: neighborhood of the new car shape\n",
    "            reg: avoid the covariance matrix to be singular #regularizer\n",
    "            K: number of neighbours selected for each car\n",
    "\n",
    "        return:\n",
    "            the vector of weights for neighboring data points\n",
    "        \"\"\"\n",
    "\n",
    "        X_bors = X[knn_new[0:K], :] - x_new  # Gi in MLLE paper, X[i] = X[i,:] ith row of X\n",
    "        cov_nbors = np.dot(X_bors, X_bors.T)\n",
    "\n",
    "        # regularization terms\n",
    "        trace = np.trace(cov_nbors)\n",
    "        if trace > 0:\n",
    "            R = reg * trace\n",
    "        else:\n",
    "            R = reg\n",
    "        cov_nbors.flat[::K + 1] += R  # [::K+1] -> every K+1 step. Allows adding only on trace\n",
    "        weights = linalg.solve(cov_nbors, np.ones(K).T, sym_pos=True)  # solution to cov_nbors*weights = 1\n",
    "            # optimal solution to min(cov_nbors*W)\n",
    "\n",
    "            # normalizing\n",
    "        weights = weights / weights.sum()\n",
    "\n",
    "        return (weights)\n",
    "    \n",
    "    if f.endswith('obj'):\n",
    "        start_time_new = time.time()\n",
    "        print(f)\n",
    "        # example of a new car shape\n",
    "        # knn_new: neighbors of the new shpae in the manifold space \n",
    "        dir_new = os.path.join('./validation_20/' + f)\n",
    "        mesh = trimesh.load(dir_new)\n",
    "        x_new = sdf_binary(mesh)\n",
    "        knn_new = knn_new(X,K,x_new)[0] #knn_new(X,K,x_new)is a tuple with one element an array\n",
    "        print(knn_new)\n",
    "        w_new = get_weights_new(x_new, knn_new, K)\n",
    "        print(w_new)\n",
    "        # Calculation of the drag coefficient of the new car\n",
    "        Cds_nn = np.zeros(K) # drag coefficients of the nearest neighbours\n",
    "        for i in range(K):\n",
    "            Cds_nn[i] = Cds[knn_new[i]]\n",
    "        print(Cds_nn)\n",
    "        Cd_new = round(np.dot(w_new, Cds_nn),3)\n",
    "        print(knn_new)\n",
    "        print(w_new)\n",
    "        print(dir_new, Cd_new)\n",
    "        models.append(dir_new)\n",
    "        cd_models.append(Cd_new)\n",
    "        print(time.time() - start_time_new)"
   ]
  },
  {
   "cell_type": "code",
   "execution_count": null,
   "metadata": {},
   "outputs": [],
   "source": [
    "# # validation of 10 cars\n",
    "# names_x_new = [f for f in os.listdir('./validation_10/')]\n",
    "# for name_x_new in names_x_new:\n",
    "#     directory = os.path.join('./validation_10/' + name_x_new)\n",
    "#     mesh = trimesh.load(directory)\n",
    "#     x_new = sdf_binary(mesh)\n",
    "#     knn_new = knn_new(X,K,x_new)[0]\n",
    "#     w_new = get_weights_new(x_new, knn_new, K)\n",
    "#     #print(w_new)\n",
    "#     Cds_nn = np.zeros(K) # drag coefficients of the nearest neighbours\n",
    "#     for i in range(K):\n",
    "#         Cds_nn[i] = Cds[knn_new[i]]\n",
    "#     #print(Cds_nn)\n",
    "#     Cd_new = round(np.dot(w_new, Cds_nn),3)\n",
    "#     print(name_x_new, Cd_new)"
   ]
  },
  {
   "cell_type": "code",
   "execution_count": null,
   "metadata": {},
   "outputs": [],
   "source": [
    "print(models)\n",
    "print(cd_models)"
   ]
  }
 ],
 "metadata": {
  "kernelspec": {
   "display_name": "SDF-LLE",
   "language": "python",
   "name": "sdf-lle"
  },
  "language_info": {
   "codemirror_mode": {
    "name": "ipython",
    "version": 3
   },
   "file_extension": ".py",
   "mimetype": "text/x-python",
   "name": "python",
   "nbconvert_exporter": "python",
   "pygments_lexer": "ipython3",
   "version": "3.6.12"
  }
 },
 "nbformat": 4,
 "nbformat_minor": 2
}
