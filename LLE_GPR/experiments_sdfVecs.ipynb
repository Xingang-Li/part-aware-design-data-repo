{
 "cells": [
  {
   "cell_type": "code",
   "execution_count": 11,
   "metadata": {
    "collapsed": true
   },
   "outputs": [],
   "source": [
    "import numpy as np\n",
    "import time\n",
    "import os\n",
    "import random\n",
    "import scipy.io as sio\n"
   ]
  },
  {
   "cell_type": "code",
   "execution_count": 12,
   "outputs": [],
   "source": [
    "#read vectorization data and Cd data\n",
    "# Sd_array_total = np.genfromtxt('v_rep_140_density50.csv', delimiter=',')\n",
    "# Cds_total = np.genfromtxt('Cds_140.csv', delimiter=',')\n",
    "\n",
    "# fmat = sio.loadmat('vecs_with_cds.mat')\n",
    "# print(fmat.keys())"
   ],
   "metadata": {
    "collapsed": false,
    "pycharm": {
     "name": "#%%\n"
    }
   }
  },
  {
   "cell_type": "code",
   "execution_count": 13,
   "outputs": [],
   "source": [
    "Sd_array_total = np.genfromtxt('v_rep_140_density145.csv', delimiter=',')\n",
    "Cds_total = np.genfromtxt('Cds_140.csv', delimiter=',')"
   ],
   "metadata": {
    "collapsed": false,
    "pycharm": {
     "name": "#%%\n"
    }
   }
  },
  {
   "cell_type": "code",
   "execution_count": 14,
   "outputs": [],
   "source": [
    "number_sample = 140"
   ],
   "metadata": {
    "collapsed": false,
    "pycharm": {
     "name": "#%%\n"
    }
   }
  },
  {
   "cell_type": "code",
   "execution_count": 15,
   "outputs": [],
   "source": [
    "# small = np.genfromtxt('small.csv', delimiter=',').astype(int)\n",
    "# small[0] = 0\n",
    "# big = np.genfromtxt('big.csv', delimiter=',').astype(int)\n",
    "# big[0] = 1\n",
    "# classic = np.genfromtxt('classic.csv', delimiter=',').astype(int)\n",
    "# classic[0] = 5\n",
    "# sports = np.genfromtxt('sports.csv', delimiter=',').astype(int)\n",
    "# sports[0] = 6\n",
    "# # print(small, big, classic, sports)\n"
   ],
   "metadata": {
    "collapsed": false,
    "pycharm": {
     "name": "#%%\n"
    }
   }
  },
  {
   "cell_type": "code",
   "execution_count": 16,
   "outputs": [
    {
     "name": "stdout",
     "output_type": "stream",
     "text": [
      "3785\n"
     ]
    }
   ],
   "source": [
    "seed = np.random.randint(10000)\n",
    "print(seed)\n",
    "np.random.seed(seed)"
   ],
   "metadata": {
    "collapsed": false,
    "pycharm": {
     "name": "#%%\n"
    }
   }
  },
  {
   "cell_type": "code",
   "execution_count": 17,
   "outputs": [],
   "source": [
    "# # Experiments\n",
    "def experiment(Sd_array_total, Cds_total, number_sample):\n",
    "    Sd_array = []\n",
    "    Cds = []\n",
    "    index_samples = random.sample(range(0,140), number_sample)\n",
    "    index_samples = np.sort(index_samples)\n",
    "    for i in index_samples:\n",
    "        Sd_array.append(Sd_array_total[i])\n",
    "        Cds.append(Cds_total[i])\n",
    "\n",
    "    Sd_array = np.array(Sd_array)\n",
    "    Cds = np.array(Cds)\n",
    "\n",
    "    return Sd_array, Cds, index_samples\n",
    "\n",
    "sd_array, Cds, index_samples = experiment(Sd_array_total, Cds_total, number_sample)"
   ],
   "metadata": {
    "collapsed": false,
    "pycharm": {
     "name": "#%%\n"
    }
   }
  },
  {
   "cell_type": "code",
   "execution_count": 18,
   "outputs": [
    {
     "name": "stderr",
     "output_type": "stream",
     "text": [
      "C:\\Users\\Xingang Li\\.conda\\envs\\sdf_lle\\lib\\site-packages\\sklearn\\utils\\validation.py:72: FutureWarning: Pass n_neighbors=7 as keyword args. From version 1.0 (renaming of 0.25) passing these as positional arguments will result in an error\n",
      "  \"will result in an error\", FutureWarning)\n"
     ]
    }
   ],
   "source": [
    "# # Data visualization of the matrix\n",
    "from sklearn import neighbors, datasets, manifold\n",
    "from scipy import linalg\n",
    "from scipy.linalg import eigh\n",
    "import matplotlib\n",
    "import matplotlib.pyplot as plt\n",
    "# from mpl_toolkits.mplot3d import Axes3D\n",
    "\n",
    "#### Neighbor search\n",
    "# we will implement K-nearest neighbor search\n",
    "def knn_Mat(X, K, t=2.0, dist_metric=\"euclidean\", algorithm=\"ball_tree\"):\n",
    "    \"\"\" compute the neighborhood matrix\n",
    "\n",
    "    Keyword arguments:\n",
    "        X: np.array of data, each row(not column) is associated with one car. (A car is represented by a vector)\n",
    "        K: number of neighbors to seek for each element (the element itself is excluded)\n",
    "        dist_metric: with which metric to compute the distances\n",
    "        algorithm: which which algorithm to use\n",
    "\n",
    "    return:\n",
    "        the neighborhood matrix\n",
    "    \"\"\"\n",
    "\n",
    "    n, p = X.shape  # n: number of elements, p: dimension (number of data per element)\n",
    "\n",
    "    knn = neighbors.NearestNeighbors(K + 1, metric=dist_metric, algorithm=algorithm).fit(X)\n",
    "    distances, nbors = knn.kneighbors(X)  # return k nearest neighbours of each member of X, nbors is array of indices\n",
    "\n",
    "    return (nbors[:, 1:])  # neighborhood matrix first one is the point itself, which should be excluded\n",
    "\n",
    "\n",
    "#### calculation of reconstruction weights\n",
    "def get_weights(X, nbors, reg, K):\n",
    "    \"\"\" compute the weight matrix\n",
    "\n",
    "    Keyword arguments:\n",
    "        X: np.array of data, each row is associated with one car\n",
    "        nbors; neighborhood matrix\n",
    "        regularized term: avoid the covariance matrix to be singular #regularizer\n",
    "        K: number of neighbours selected for each car\n",
    "\n",
    "    return:\n",
    "        the weight matrix\n",
    "    \"\"\"\n",
    "\n",
    "    n, p = X.shape  # n number of car shapes, n rows and p columns (60 rows and 112000 columns in our case)\n",
    "\n",
    "    Weights = np.zeros((n, n))\n",
    "\n",
    "    for i in range(n):\n",
    "\n",
    "        X_bors = X[nbors[i], :] - X[i]  # Gi in MLLE paper\n",
    "        cov_nbors = np.dot(X_bors, X_bors.T)\n",
    "\n",
    "        # regularization terms\n",
    "        trace = np.trace(cov_nbors)\n",
    "        if trace > 0:\n",
    "            R = reg * trace\n",
    "        else:\n",
    "            R = reg\n",
    "        cov_nbors.flat[::K + 1] += R  # [::K+1] -> every K+1 step. Allows adding only on trace\n",
    "        weights = linalg.solve(cov_nbors, np.ones(K).T, sym_pos=True)  # solution to cov_nbors*weights = 1\n",
    "        # optimal solution to min(cov_nbors*W)\n",
    "\n",
    "        # normalizing\n",
    "        weights = weights / weights.sum()\n",
    "        # only ponderable weights of neighbours should be different from zero\n",
    "        #Weights[i, nbors[i]] = weights # put all those weights into a matrix\n",
    "        Weights[i, nbors[i]] = weights\n",
    "\n",
    "    return (Weights)\n",
    "\n",
    "\n",
    "#### Calculate the embedded data using the weights\n",
    "# calculation of the new embedding\n",
    "def Y_(Weights, d):\n",
    "    \"\"\" reconstruct data into the low dimensional space\n",
    "\n",
    "    Keyword arguments:\n",
    "        Weights: weight matrix\n",
    "        d: number of dimension in which to project onto (2 in our case)\n",
    "\n",
    "    return:\n",
    "        the dataset projected onto d dimensions\n",
    "    \"\"\"\n",
    "    n, p = Weights.shape\n",
    "    I = np.eye(n)\n",
    "    m = (I - Weights)\n",
    "    M = m.T.dot(m)\n",
    "\n",
    "    eigvals, eigvecs = eigh(M, eigvals=(1, d), overwrite_a=True)\n",
    "    ind = np.argsort(np.abs(eigvals))\n",
    "\n",
    "    return (eigvecs[:, ind])  # we only keep the the most important vectors (?? xl)\n",
    "\n",
    "\n",
    "def LLE_(X, K, d, nbors):\n",
    "    \"\"\" proceed to various LLE steps\n",
    "\n",
    "    Keyword arguments:\n",
    "        X: dataset\n",
    "        K: number of neighbours to seek\n",
    "        d: on how many dimension to project the dataset\n",
    "\n",
    "    return:\n",
    "        the data set projected into d dimensions\n",
    "    \"\"\"\n",
    "    reg = 0.001 # regularized term\n",
    "\n",
    "    try:\n",
    "        if nbors == None:\n",
    "            nbors = knn_Mat(X, K)\n",
    "    except:\n",
    "        pass\n",
    "    Weights = get_weights(X, nbors, reg, K)\n",
    "\n",
    "    Y = Y_(Weights, d)\n",
    "\n",
    "    return [Y, Weights, nbors]\n",
    "\n",
    "X = sd_array\n",
    "n_sample, sample_dim = np.shape(X)\n",
    "K = 6 #in our case, K=6 gets the lowest reconstruction error\n",
    "d = 2\n",
    "nbors = None\n",
    "Y, Weights, nbors = LLE_(X, K, d, nbors)\n",
    "err = np.linalg.norm(Y - np.dot(Weights,Y),'fro')**2 # reconstruction error for Y (low dimensional data)\n",
    "\n",
    "# print(\"Reconstruction error: %g\" %err)\n",
    "\n",
    "# extracting the weights of neighbors for all shapes\n",
    "W_shapes = np.zeros((n_sample,K)) # W_shapes: weights extracted from Weight matrix\n",
    "for i in range(n_sample):\n",
    "    for j in range(K):\n",
    "        n = nbors[i,:][j]\n",
    "        W_shapes[i,j] = Weights[i,n]\n",
    "# print(W_shapes)\n",
    "\n",
    "# Plot result\n",
    "# fig = plt.figure()\n",
    "# ax1 = fig.add_subplot(111)\n",
    "# y0 = Y[:, 0]\n",
    "# y1 = Y[:, 1]\n",
    "# ax1.scatter(y0,y1)\n",
    "# plt.axis('tight')\n",
    "# plt.xticks([]), plt.yticks([])\n",
    "# plt.title('Projected data')"
   ],
   "metadata": {
    "collapsed": false,
    "pycharm": {
     "name": "#%%\n"
    }
   }
  },
  {
   "cell_type": "code",
   "execution_count": 19,
   "outputs": [],
   "source": [
    "# # Plot result\n",
    "# fig, ax = plt.subplots()\n",
    "# #fig = plt.figure()\n",
    "# # ax1 = fig.add_subplot(111)\n",
    "# # ax2 = fig.add_subplot(112)\n",
    "# # ax3 = fig.add_subplot(113)\n",
    "# # ax4 = fig.add_subplot(114)\n",
    "# x_b = Y[big, 0]\n",
    "# y_b = Y[big, 1]\n",
    "# x_c = Y[classic, 0]\n",
    "# y_c = Y[classic, 1]\n",
    "# x_s = Y[small, 0]\n",
    "# y_s = Y[small, 1]\n",
    "# x_sp = Y[sports, 0]\n",
    "# y_sp = Y[sports, 1]\n",
    "# # ax1.scatter(x_b,y_b)\n",
    "# # ax2.scatter(x_c,y_c)\n",
    "# # ax3.scatter(x_s,y_s)\n",
    "# # ax4.scatter(x_sp,y_sp)\n",
    "# plt.scatter(x_b,y_b, s=100, marker=\">\", label='big cars') #triangle\n",
    "# plt.scatter(x_c,y_c, s=100, marker=(5,0), label='classic cars')#wubianxing\n",
    "# plt.scatter(x_s,y_s, s=100, marker=\"+\", label='small cars')#plus\n",
    "# plt.scatter(x_sp,y_sp, s=100, marker=(5,1), label='sports cars')#stars\n",
    "# plt.legend(loc='lower right')\n",
    "# plt.axis('tight')\n",
    "# plt.xticks([]), plt.yticks([])\n",
    "# plt.title('Projected data')"
   ],
   "metadata": {
    "collapsed": false,
    "pycharm": {
     "name": "#%%\n"
    }
   }
  },
  {
   "cell_type": "code",
   "execution_count": 20,
   "outputs": [
    {
     "name": "stderr",
     "output_type": "stream",
     "text": [
      "C:\\Users\\Xingang Li\\.conda\\envs\\sdf_lle\\lib\\site-packages\\sklearn\\utils\\validation.py:72: FutureWarning: Pass n_neighbors=7 as keyword args. From version 1.0 (renaming of 0.25) passing these as positional arguments will result in an error\n",
      "  \"will result in an error\", FutureWarning)\n"
     ]
    },
    {
     "name": "stdout",
     "output_type": "stream",
     "text": [
      "This is [ 71  86 111 121 139  20] for 0 model\n"
     ]
    },
    {
     "name": "stderr",
     "output_type": "stream",
     "text": [
      "C:\\Users\\Xingang Li\\.conda\\envs\\sdf_lle\\lib\\site-packages\\sklearn\\utils\\validation.py:72: FutureWarning: Pass n_neighbors=7 as keyword args. From version 1.0 (renaming of 0.25) passing these as positional arguments will result in an error\n",
      "  \"will result in an error\", FutureWarning)\n"
     ]
    },
    {
     "name": "stdout",
     "output_type": "stream",
     "text": [
      "This is [ 86 139  39 126 128  91] for 1 model\n"
     ]
    },
    {
     "name": "stderr",
     "output_type": "stream",
     "text": [
      "C:\\Users\\Xingang Li\\.conda\\envs\\sdf_lle\\lib\\site-packages\\sklearn\\utils\\validation.py:72: FutureWarning: Pass n_neighbors=7 as keyword args. From version 1.0 (renaming of 0.25) passing these as positional arguments will result in an error\n",
      "  \"will result in an error\", FutureWarning)\n"
     ]
    },
    {
     "name": "stdout",
     "output_type": "stream",
     "text": [
      "This is [ 38  95  11 108  27  47] for 2 model\n"
     ]
    },
    {
     "name": "stderr",
     "output_type": "stream",
     "text": [
      "C:\\Users\\Xingang Li\\.conda\\envs\\sdf_lle\\lib\\site-packages\\sklearn\\utils\\validation.py:72: FutureWarning: Pass n_neighbors=7 as keyword args. From version 1.0 (renaming of 0.25) passing these as positional arguments will result in an error\n",
      "  \"will result in an error\", FutureWarning)\n"
     ]
    },
    {
     "name": "stdout",
     "output_type": "stream",
     "text": [
      "This is [ 55  75 106  70 119 105] for 3 model\n"
     ]
    },
    {
     "name": "stderr",
     "output_type": "stream",
     "text": [
      "C:\\Users\\Xingang Li\\.conda\\envs\\sdf_lle\\lib\\site-packages\\sklearn\\utils\\validation.py:72: FutureWarning: Pass n_neighbors=7 as keyword args. From version 1.0 (renaming of 0.25) passing these as positional arguments will result in an error\n",
      "  \"will result in an error\", FutureWarning)\n"
     ]
    },
    {
     "name": "stdout",
     "output_type": "stream",
     "text": [
      "This is [ 12   8  61 114  31  87] for 4 model\n"
     ]
    },
    {
     "name": "stderr",
     "output_type": "stream",
     "text": [
      "C:\\Users\\Xingang Li\\.conda\\envs\\sdf_lle\\lib\\site-packages\\sklearn\\utils\\validation.py:72: FutureWarning: Pass n_neighbors=7 as keyword args. From version 1.0 (renaming of 0.25) passing these as positional arguments will result in an error\n",
      "  \"will result in an error\", FutureWarning)\n"
     ]
    },
    {
     "name": "stdout",
     "output_type": "stream",
     "text": [
      "This is [112  15 131  70 106  94] for 5 model\n"
     ]
    },
    {
     "name": "stderr",
     "output_type": "stream",
     "text": [
      "C:\\Users\\Xingang Li\\.conda\\envs\\sdf_lle\\lib\\site-packages\\sklearn\\utils\\validation.py:72: FutureWarning: Pass n_neighbors=7 as keyword args. From version 1.0 (renaming of 0.25) passing these as positional arguments will result in an error\n",
      "  \"will result in an error\", FutureWarning)\n"
     ]
    },
    {
     "name": "stdout",
     "output_type": "stream",
     "text": [
      "This is [ 60  68  62  66  80 119] for 6 model\n"
     ]
    },
    {
     "name": "stderr",
     "output_type": "stream",
     "text": [
      "C:\\Users\\Xingang Li\\.conda\\envs\\sdf_lle\\lib\\site-packages\\sklearn\\utils\\validation.py:72: FutureWarning: Pass n_neighbors=7 as keyword args. From version 1.0 (renaming of 0.25) passing these as positional arguments will result in an error\n",
      "  \"will result in an error\", FutureWarning)\n"
     ]
    },
    {
     "name": "stdout",
     "output_type": "stream",
     "text": [
      "This is [121  86 139 111 126  39] for 7 model\n"
     ]
    },
    {
     "name": "stderr",
     "output_type": "stream",
     "text": [
      "C:\\Users\\Xingang Li\\.conda\\envs\\sdf_lle\\lib\\site-packages\\sklearn\\utils\\validation.py:72: FutureWarning: Pass n_neighbors=7 as keyword args. From version 1.0 (renaming of 0.25) passing these as positional arguments will result in an error\n",
      "  \"will result in an error\", FutureWarning)\n"
     ]
    },
    {
     "name": "stdout",
     "output_type": "stream",
     "text": [
      "This is [ 97 130 122   5 129  73] for 8 model\n"
     ]
    },
    {
     "name": "stderr",
     "output_type": "stream",
     "text": [
      "C:\\Users\\Xingang Li\\.conda\\envs\\sdf_lle\\lib\\site-packages\\sklearn\\utils\\validation.py:72: FutureWarning: Pass n_neighbors=7 as keyword args. From version 1.0 (renaming of 0.25) passing these as positional arguments will result in an error\n",
      "  \"will result in an error\", FutureWarning)\n"
     ]
    },
    {
     "name": "stdout",
     "output_type": "stream",
     "text": [
      "This is [ 40  95  47 107  38  51] for 9 model\n"
     ]
    },
    {
     "name": "stderr",
     "output_type": "stream",
     "text": [
      "C:\\Users\\Xingang Li\\.conda\\envs\\sdf_lle\\lib\\site-packages\\sklearn\\utils\\validation.py:72: FutureWarning: Pass n_neighbors=7 as keyword args. From version 1.0 (renaming of 0.25) passing these as positional arguments will result in an error\n",
      "  \"will result in an error\", FutureWarning)\n"
     ]
    },
    {
     "name": "stdout",
     "output_type": "stream",
     "text": [
      "This is [104  82  62 103 115  65] for 10 model\n"
     ]
    },
    {
     "name": "stderr",
     "output_type": "stream",
     "text": [
      "C:\\Users\\Xingang Li\\.conda\\envs\\sdf_lle\\lib\\site-packages\\sklearn\\utils\\validation.py:72: FutureWarning: Pass n_neighbors=7 as keyword args. From version 1.0 (renaming of 0.25) passing these as positional arguments will result in an error\n",
      "  \"will result in an error\", FutureWarning)\n"
     ]
    },
    {
     "name": "stdout",
     "output_type": "stream",
     "text": [
      "This is [76  6 11 95 79 51] for 11 model\n"
     ]
    },
    {
     "name": "stderr",
     "output_type": "stream",
     "text": [
      "C:\\Users\\Xingang Li\\.conda\\envs\\sdf_lle\\lib\\site-packages\\sklearn\\utils\\validation.py:72: FutureWarning: Pass n_neighbors=7 as keyword args. From version 1.0 (renaming of 0.25) passing these as positional arguments will result in an error\n",
      "  \"will result in an error\", FutureWarning)\n"
     ]
    },
    {
     "name": "stdout",
     "output_type": "stream",
     "text": [
      "This is [ 63 114  26   8  22   3] for 12 model\n"
     ]
    },
    {
     "name": "stderr",
     "output_type": "stream",
     "text": [
      "C:\\Users\\Xingang Li\\.conda\\envs\\sdf_lle\\lib\\site-packages\\sklearn\\utils\\validation.py:72: FutureWarning: Pass n_neighbors=7 as keyword args. From version 1.0 (renaming of 0.25) passing these as positional arguments will result in an error\n",
      "  \"will result in an error\", FutureWarning)\n"
     ]
    },
    {
     "name": "stdout",
     "output_type": "stream",
     "text": [
      "This is [ 61 114  22   9  31 123] for 13 model\n"
     ]
    },
    {
     "name": "stderr",
     "output_type": "stream",
     "text": [
      "C:\\Users\\Xingang Li\\.conda\\envs\\sdf_lle\\lib\\site-packages\\sklearn\\utils\\validation.py:72: FutureWarning: Pass n_neighbors=7 as keyword args. From version 1.0 (renaming of 0.25) passing these as positional arguments will result in an error\n",
      "  \"will result in an error\", FutureWarning)\n"
     ]
    },
    {
     "name": "stdout",
     "output_type": "stream",
     "text": [
      "This is [132 127  25  92   9 118] for 14 model\n"
     ]
    },
    {
     "name": "stderr",
     "output_type": "stream",
     "text": [
      "C:\\Users\\Xingang Li\\.conda\\envs\\sdf_lle\\lib\\site-packages\\sklearn\\utils\\validation.py:72: FutureWarning: Pass n_neighbors=7 as keyword args. From version 1.0 (renaming of 0.25) passing these as positional arguments will result in an error\n",
      "  \"will result in an error\", FutureWarning)\n"
     ]
    },
    {
     "name": "stdout",
     "output_type": "stream",
     "text": [
      "This is [ 75 106  70  55  15  41] for 15 model\n"
     ]
    },
    {
     "name": "stderr",
     "output_type": "stream",
     "text": [
      "C:\\Users\\Xingang Li\\.conda\\envs\\sdf_lle\\lib\\site-packages\\sklearn\\utils\\validation.py:72: FutureWarning: Pass n_neighbors=7 as keyword args. From version 1.0 (renaming of 0.25) passing these as positional arguments will result in an error\n",
      "  \"will result in an error\", FutureWarning)\n"
     ]
    },
    {
     "name": "stdout",
     "output_type": "stream",
     "text": [
      "This is [  2  25 113  54  38  35] for 16 model\n"
     ]
    },
    {
     "name": "stderr",
     "output_type": "stream",
     "text": [
      "C:\\Users\\Xingang Li\\.conda\\envs\\sdf_lle\\lib\\site-packages\\sklearn\\utils\\validation.py:72: FutureWarning: Pass n_neighbors=7 as keyword args. From version 1.0 (renaming of 0.25) passing these as positional arguments will result in an error\n",
      "  \"will result in an error\", FutureWarning)\n"
     ]
    },
    {
     "name": "stdout",
     "output_type": "stream",
     "text": [
      "This is [ 50 136  77  44   4  72] for 17 model\n"
     ]
    },
    {
     "name": "stderr",
     "output_type": "stream",
     "text": [
      "C:\\Users\\Xingang Li\\.conda\\envs\\sdf_lle\\lib\\site-packages\\sklearn\\utils\\validation.py:72: FutureWarning: Pass n_neighbors=7 as keyword args. From version 1.0 (renaming of 0.25) passing these as positional arguments will result in an error\n",
      "  \"will result in an error\", FutureWarning)\n"
     ]
    },
    {
     "name": "stdout",
     "output_type": "stream",
     "text": [
      "This is [ 39 126  86 139  91 128] for 18 model\n"
     ]
    },
    {
     "name": "stderr",
     "output_type": "stream",
     "text": [
      "C:\\Users\\Xingang Li\\.conda\\envs\\sdf_lle\\lib\\site-packages\\sklearn\\utils\\validation.py:72: FutureWarning: Pass n_neighbors=7 as keyword args. From version 1.0 (renaming of 0.25) passing these as positional arguments will result in an error\n",
      "  \"will result in an error\", FutureWarning)\n"
     ]
    },
    {
     "name": "stdout",
     "output_type": "stream",
     "text": [
      "This is [107  67  47   6  40  92] for 19 model\n",
      "[  0   1   2   3   4   5   6   7   8   9  10  11  12  13  14  15  16  17\n",
      "  18  19  20  21  22  23  24  25  26  27  28  29  30  31  32  33  34  35\n",
      "  36  37  38  39  40  41  42  43  44  45  46  47  48  49  50  51  52  53\n",
      "  54  55  56  57  58  59  60  61  62  63  64  65  66  67  68  69  70  71\n",
      "  72  73  74  75  76  77  78  79  80  81  82  83  84  85  86  87  88  89\n",
      "  90  91  92  93  94  95  96  97  98  99 100 101 102 103 104 105 106 107\n",
      " 108 109 110 111 112 113 114 115 116 117 118 119 120 121 122 123 124 125\n",
      " 126 127 128 129 130 131 132 133 134 135 136 137 138 139]\n"
     ]
    }
   ],
   "source": [
    "# # Fast evaluation of the drag coefficient of a new car shape\n",
    "validation20 = np.genfromtxt('v_rep_20_density145.csv', delimiter=',')\n",
    "#read models's names\n",
    "# f = open('validation_20.txt', 'r')\n",
    "# path_list = []\n",
    "# for x in f:\n",
    "#     #print(x)\n",
    "#     x = x[:-1]\n",
    "#     path_list.append(x)\n",
    "#\n",
    "# # print(path_list)\n",
    "#\n",
    "# f.close()\n",
    "\n",
    "models = []\n",
    "cd_models = []\n",
    "for i, f in enumerate(validation20):\n",
    "        #### Neighbors search for a new added shape\n",
    "    # we will implement K-nearest neighbor search\n",
    "    def knn_new(X, K, x_new, t=2.0, dist_metric=\"euclidean\", algorithm=\"ball_tree\"):\n",
    "        \"\"\" compute the neighborhood matrix\n",
    "\n",
    "        Keyword arguments:\n",
    "            X: np.array of data, each row(not column) is associated with one car. (A car is represented by a vector)\n",
    "            K: number of neighbors to seek for each element (the element itself is excluded)\n",
    "            dist_metric: with which metric to compute the distances\n",
    "            algorithm: which which algorithm to use\n",
    "\n",
    "        return:\n",
    "            the neighborhood matrix\n",
    "        \"\"\"\n",
    "\n",
    "        n, p = X.shape  # n: number of elements, p: dimension (number of data per element)\n",
    "\n",
    "        knn = neighbors.NearestNeighbors(K + 1, metric=dist_metric, algorithm=algorithm).fit(X)\n",
    "        nbors = knn.kneighbors([x_new],K + 1, return_distance=False)  # return k nearest neighbours of each member of X, nbors is array of indices\n",
    "\n",
    "        return (nbors[:, 1:])  # neighborhood matrix first one is the point itself, which should be excluded\n",
    "    #### calculation of reconstruction weights\n",
    "    def get_weights_new(x_new, knn_new, K, reg=0.001):\n",
    "        \"\"\" compute the weight matrix\n",
    "\n",
    "        Keyword arguments:\n",
    "            x_new: a new vector representing a new car shape\n",
    "            knn_new: neighborhood of the new car shape\n",
    "            reg: avoid the covariance matrix to be singular #regularizer\n",
    "            K: number of neighbours selected for each car\n",
    "\n",
    "        return:\n",
    "            the vector of weights for neighboring data points\n",
    "        \"\"\"\n",
    "\n",
    "        X_bors = X[knn_new[0:K], :] - x_new  # Gi in MLLE paper, X[i] = X[i,:] ith row of X\n",
    "        cov_nbors = np.dot(X_bors, X_bors.T)\n",
    "\n",
    "        # regularization terms\n",
    "        trace = np.trace(cov_nbors)\n",
    "        if trace > 0:\n",
    "            R = reg * trace\n",
    "        else:\n",
    "            R = reg\n",
    "        cov_nbors.flat[::K + 1] += R  # [::K+1] -> every K+1 step. Allows adding only on trace\n",
    "        weights = linalg.solve(cov_nbors, np.ones(K).T, sym_pos=True)  # solution to cov_nbors*weights = 1\n",
    "            # optimal solution to min(cov_nbors*W)\n",
    "\n",
    "            # normalizing\n",
    "        weights = weights / weights.sum()\n",
    "\n",
    "        return (weights)\n",
    "\n",
    "    start_time_new = time.time()\n",
    "    # print(f)\n",
    "    # example of a new car shape\n",
    "    # knn_new: neighbors of the new shpae in the manifold space\n",
    "    x_new = f\n",
    "    knn_new = knn_new(X,K,x_new)[0] #knn_new(X,K,x_new)is a tuple with one element an array\n",
    "    print(f\"This is {knn_new} for {i} model\")\n",
    "    w_new = get_weights_new(x_new, knn_new, K)\n",
    "    # print(w_new)\n",
    "    # Calculation of the drag coefficient of the new car\n",
    "    Cds_nn = np.zeros(K) # drag coefficients of the nearest neighbours\n",
    "    for j in range(K):\n",
    "        Cds_nn[j] = Cds[knn_new[j]]\n",
    "    # print(Cds_nn)\n",
    "    Cd_new = round(np.dot(w_new, Cds_nn),3)\n",
    "    # print(knn_new)\n",
    "    # print(w_new)\n",
    "    # print(path_list[i], Cd_new)\n",
    "    # models.append(path_list[i])\n",
    "    cd_models.append(Cd_new)\n",
    "    # print(time.time() - start_time_new)\n",
    "\n",
    "\n",
    "print(index_samples)\n",
    "# print(models)\n",
    "cd_models = np.array(cd_models)\n",
    "# print(cd_models)"
   ],
   "metadata": {
    "collapsed": false,
    "pycharm": {
     "name": "#%%\n"
    }
   }
  },
  {
   "cell_type": "code",
   "execution_count": 21,
   "outputs": [
    {
     "name": "stdout",
     "output_type": "stream",
     "text": [
      "Experiments for 140\n",
      "Mean relative error is 0.05465884953422965\n",
      "STD relative error is 0.04251272123725548\n",
      "===================================================\n"
     ]
    }
   ],
   "source": [
    "CFD_Cds = np.genfromtxt('Cds_20.csv', delimiter=',')\n",
    "# print(CFD_Cds)\n",
    "\n",
    "relative_error = np.zeros(cd_models.shape)\n",
    "for i, cd in enumerate(cd_models):\n",
    "    relative_error[i] = np.abs(cd - CFD_Cds[i])/CFD_Cds[i]\n",
    "\n",
    "mean_relative_error = np.mean(relative_error)\n",
    "std_relative_error = np.std(relative_error, ddof=1)\n",
    "\n",
    "# print('Relative error is {}'.format(relative_error))\n",
    "print('Experiments for {}'.format(number_sample))\n",
    "print('Mean relative error is {}'.format(mean_relative_error))\n",
    "print('STD relative error is {}'.format(std_relative_error))\n",
    "print('===================================================')\n",
    "\n",
    "f = open('Experiments_all.txt', 'a')\n",
    "f.writelines('random seed {} \\n'.format(seed))\n",
    "f.writelines('number of models {} \\n'.format(number_sample))\n",
    "f.writelines('index {} \\n'.format(index_samples))\n",
    "f.writelines('Mean relative error is {} \\n'.format(mean_relative_error))\n",
    "f.writelines('STD relative error is {} \\n'.format(std_relative_error))\n",
    "f.writelines('=================================================== \\n')\n",
    "f.close()\n",
    "\n",
    "f1 = open('Experiments_50_60-140_2.txt', 'a')\n",
    "f1.writelines('50 density number of models {}'.format(number_sample) + ' Mean relative error is, {}'.format(mean_relative_error) + ', STD relative error is, {}, \\n'.format(std_relative_error))\n",
    "f1.close()\n"
   ],
   "metadata": {
    "collapsed": false,
    "pycharm": {
     "name": "#%%\n"
    }
   }
  }
 ],
 "metadata": {
  "kernelspec": {
   "name": "sdf_lle",
   "language": "python",
   "display_name": "sdf_lle"
  },
  "language_info": {
   "codemirror_mode": {
    "name": "ipython",
    "version": 2
   },
   "file_extension": ".py",
   "mimetype": "text/x-python",
   "name": "python",
   "nbconvert_exporter": "python",
   "pygments_lexer": "ipython2",
   "version": "2.7.6"
  }
 },
 "nbformat": 4,
 "nbformat_minor": 0
}