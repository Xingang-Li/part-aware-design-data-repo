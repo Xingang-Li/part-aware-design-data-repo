{
 "cells": [
  {
   "cell_type": "code",
   "execution_count": 100,
   "metadata": {},
   "outputs": [],
   "source": [
    "import numpy as np\n",
    "from sklearn import neighbors, datasets, manifold\n",
    "from scipy import linalg\n",
    "from scipy.linalg import eigh\n",
    "import matplotlib\n",
    "import matplotlib.pyplot as plt\n",
    "from mpl_toolkits.mplot3d import Axes3D\n",
    "%matplotlib inline"
   ]
  },
  {
   "cell_type": "code",
   "execution_count": 101,
   "metadata": {},
   "outputs": [],
   "source": [
    "#### Neighbor search\n",
    "# we will implement K-nearest neighbor search\n",
    "def knn_Mat(X, K, t=2.0, dist_metric=\"euclidean\", algorithm=\"ball_tree\"):\n",
    "    \"\"\" compute the neighborhood matrix\n",
    "\n",
    "    Keyword arguments:\n",
    "        X: np.array of data, each row(not column) is associated with one car. (A car is represented by a vector)\n",
    "        K: number of neighbors to seek for each element (the element itself is excluded)\n",
    "        dist_metric: with which metric to compute the distances\n",
    "        algorithm: which which algorithm to use\n",
    "\n",
    "    return:\n",
    "        the neighborhood matrix\n",
    "    \"\"\"\n",
    "\n",
    "    n, p = X.shape  # n: number of elements, p: dimension (number of data per element)\n",
    "\n",
    "    knn = neighbors.NearestNeighbors(K + 1, metric=dist_metric, algorithm=algorithm).fit(X)\n",
    "    distances, nbors = knn.kneighbors(X)  # return k nearest neighbours of each member of X, nbors is array of indices \n",
    "\n",
    "    return (nbors[:, 1:])  # neighborhood matrix first one is the point itself, which should be excluded\n"
   ]
  },
  {
   "cell_type": "code",
   "execution_count": 102,
   "metadata": {},
   "outputs": [],
   "source": [
    "#### calculation of reconstruction weights\n",
    "def get_weights(X, nbors, reg, K):\n",
    "    \"\"\" compute the weight matrix\n",
    "\n",
    "    Keyword arguments:\n",
    "        X: np.array of data, each row is associated with one car\n",
    "        nbors; neighborhood matrix\n",
    "        regularized term: avoid the covariance matrix to be singular #regularizer\n",
    "        K: number of neighbours selected for each car\n",
    "\n",
    "    return:\n",
    "        the weight matrix\n",
    "    \"\"\"\n",
    "\n",
    "    n, p = X.shape  # n number of car shapes, n rows and p columns (60 rows and 112000 columns in our case)\n",
    "\n",
    "    Weights = np.zeros((n, n))\n",
    "\n",
    "    for i in range(n):\n",
    "\n",
    "        X_bors = X[nbors[i], :] - X[i]  # Gi in MLLE paper\n",
    "        cov_nbors = np.dot(X_bors, X_bors.T)\n",
    "\n",
    "        # regularization terms\n",
    "        trace = np.trace(cov_nbors)\n",
    "        if trace > 0:\n",
    "            R = reg * trace\n",
    "        else:\n",
    "            R = reg\n",
    "        cov_nbors.flat[::K + 1] += R  # [::K+1] -> every K+1 step. Allows adding only on trace\n",
    "        weights = linalg.solve(cov_nbors, np.ones(K).T, sym_pos=True)  # solution to cov_nbors*weights = 1\n",
    "        # optimal solution to min(cov_nbors*W)\n",
    "\n",
    "        # normalizing\n",
    "        weights = weights / weights.sum()\n",
    "        # only ponderable weights of neighbours should be different from zero\n",
    "        #Weights[i, nbors[i]] = weights # put all those weights into a matrix\n",
    "        Weights[i, nbors[i]] = weights\n",
    "\n",
    "    return (Weights)"
   ]
  },
  {
   "cell_type": "code",
   "execution_count": 103,
   "metadata": {},
   "outputs": [],
   "source": [
    "#### Calculate the embedded data using the weights\n",
    "# calculation of the new embedding\n",
    "def Y_(Weights, d):\n",
    "    \"\"\" reconstruct data into the low dimensional space\n",
    "\n",
    "    Keyword arguments:\n",
    "        Weights: weight matrix\n",
    "        d: number of dimension in which to project onto (2 in our case)\n",
    "\n",
    "    return:\n",
    "        the dataset projected onto d dimensions\n",
    "    \"\"\"\n",
    "    n, p = Weights.shape\n",
    "    I = np.eye(n)\n",
    "    m = (I - Weights)\n",
    "    M = m.T.dot(m)\n",
    "\n",
    "    eigvals, eigvecs = eigh(M, eigvals=(1, d), overwrite_a=True)\n",
    "    ind = np.argsort(np.abs(eigvals))\n",
    "\n",
    "    return (eigvecs[:, ind])  # we only keep the the most important vectors (?? xl)\n"
   ]
  },
  {
   "cell_type": "code",
   "execution_count": 104,
   "metadata": {},
   "outputs": [],
   "source": [
    "def LLE_(X, K, d, nbors):\n",
    "    \"\"\" proceed to various LLE steps\n",
    "\n",
    "    Keyword arguments:\n",
    "        X: dataset\n",
    "        K: number of neighbours to seek\n",
    "        d: on how many dimension to project the dataset\n",
    "\n",
    "    return:\n",
    "        the data set projected into d dimensions\n",
    "    \"\"\"\n",
    "    reg = 0.001 # regularized term\n",
    "\n",
    "    try:\n",
    "        if nbors == None:\n",
    "            nbors = knn_Mat(X, K)\n",
    "    except:\n",
    "        pass\n",
    "    Weights = get_weights(X, nbors, reg, K)\n",
    "\n",
    "    Y = Y_(Weights, d)\n",
    "    \n",
    "    return [Y, Weights, nbors]"
   ]
  },
  {
   "cell_type": "code",
   "execution_count": 105,
   "metadata": {},
   "outputs": [],
   "source": [
    "# test for LLE algorithm\n",
    "# Generation of an array contains only 0 and 1 with shape (60, 112000)\n",
    "# Every row represents a car shape \n",
    "dim_sample = 112000\n",
    "m = int(dim_sample/2)\n",
    "n_sample = 60\n",
    "X_list = []\n",
    "for i in range(n_sample):\n",
    "    a = np.ones(dim_sample)\n",
    "    a[0:m] = 0\n",
    "    np.random.shuffle(a)\n",
    "    X_list.append(a)\n",
    "X = np.array(X_list)\n",
    "# print(X)"
   ]
  },
  {
   "cell_type": "code",
   "execution_count": 106,
   "metadata": {
    "scrolled": true
   },
   "outputs": [
    {
     "name": "stdout",
     "output_type": "stream",
     "text": [
      "[[56  3 36 33 40  1 37 12]\n",
      " [ 3 22 14 55 47 43 34 18]\n",
      " [15 14 21 38 22 19 32 49]\n",
      " [58  1 51 34  7 30  0 44]\n",
      " [39 44  5  8 14 33 42 17]\n",
      " [ 4 37 43  8 48 15  7  6]\n",
      " [49 40 26 13 27 54 35 30]\n",
      " [11  3 43 37 38 33 17 39]\n",
      " [46 48 58 14 20  4 34 26]\n",
      " [14 56 39 15 48 40 18 36]\n",
      " [12 20 13 21 38 14 55 28]\n",
      " [ 7 21 42 55 48 16 41 28]\n",
      " [47 46 10 49 28 30 51 24]\n",
      " [49  6 31 15 10 23 16 37]\n",
      " [ 9  2  8  1 57 23 36 53]\n",
      " [58 56  2 35 30 13 49  9]\n",
      " [18 56 54 47 46 11 34 44]\n",
      " [28 39 56  7 43 33 38 32]\n",
      " [16 22 28 46  6 39  1  9]\n",
      " [23  2 30 52  9  1 38 16]\n",
      " [10  8 24 42 58 41 22 37]\n",
      " [28 51 54  2 11 46 43 10]\n",
      " [ 1 33 30 18 23  2 56  6]\n",
      " [28 37 48 14 57 22 19 13]\n",
      " [45 54 20 47  8 12 11 58]\n",
      " [33 39 31  8 36 38 40 15]\n",
      " [ 6 37 46  8 34 38  1 52]\n",
      " [56  6 51 55 37  3  2 32]\n",
      " [21 23 17 18 12 15 43 59]\n",
      " [58 48 55 54 18 14  7 30]\n",
      " [15 22 56  6  3 42 12 19]\n",
      " [13 50 25 14 52 38 17 39]\n",
      " [48 34  2 44 22 17 38 50]\n",
      " [25 22 37 55  7 35  8 54]\n",
      " [51  3 32  8  1  6 40 26]\n",
      " [15  6 45 33 55 17 32 28]\n",
      " [37  0 14  6 38 49 39  9]\n",
      " [23 33 57 36  7 26  5 39]\n",
      " [ 2  7 36 22 10 17 37 25]\n",
      " [ 4  9 25 17 18 36 37  7]\n",
      " [ 6 50 53  9 34 39  0 25]\n",
      " [57  6 20  1 11 54 56 47]\n",
      " [11 51 20 30 43 49 23 52]\n",
      " [52 54 55  7 21  1 57 28]\n",
      " [ 4 56 32  2  3 15 16 49]\n",
      " [24 35 53 51 22  8 33 12]\n",
      " [54  8 12 21 26 18 16 49]\n",
      " [12 48  1 58 16 50 24 41]\n",
      " [47 32  8 59 23 49 29 58]\n",
      " [13  6 48 15 12  2 42 36]\n",
      " [56 40 31 47  1 39 48 30]\n",
      " [21  3 34 42 57 27 45 12]\n",
      " [43 53 31 18 42 19 26 50]\n",
      " [52 45 14  8 40 56 48 34]\n",
      " [46 43 21  6 16 24 29 33]\n",
      " [43 11 33  1 29 48  2 35]\n",
      " [15 27  9 44 50  0 16 30]\n",
      " [14 37 23 43 41 51 15 39]\n",
      " [15  3  8 29 47 48 33 20]\n",
      " [48 28 33 56  6 36 42 38]]\n",
      "Reconstruction error: 0.417176\n"
     ]
    }
   ],
   "source": [
    "# mock implementation\n",
    "K = 8\n",
    "d = 2\n",
    "nbors = None\n",
    "Y, Weights, nbors = LLE_(X, K, d, nbors)\n",
    "err = np.linalg.norm(Y - np.dot(Weights,Y),'fro')**2 # reconstruction error for Y (low dimensional data)\n",
    "\n",
    "# print(Y)\n",
    "# print(Weights)\n",
    "print(nbors)\n",
    "# print(np.dot(Weights,Y))\n",
    "print(\"Reconstruction error: %g\" %err)"
   ]
  },
  {
   "cell_type": "code",
   "execution_count": 107,
   "metadata": {},
   "outputs": [],
   "source": [
    "# extracting the weights of neighbors for all shapes \n",
    "W_shapes = np.zeros((n_sample,K)) # W_shapes: weights extracted from Weight matrix\n",
    "for i in range(n_sample):\n",
    "    for j in range(K):\n",
    "        n = nbors[i,:][j]\n",
    "        W_shapes[i,j] = Weights[i,n]   \n",
    "# print(W_shapes)"
   ]
  },
  {
   "cell_type": "code",
   "execution_count": 108,
   "metadata": {},
   "outputs": [
    {
     "data": {
      "text/plain": [
       "Text(0.5, 1.0, 'Projected data')"
      ]
     },
     "execution_count": 108,
     "metadata": {},
     "output_type": "execute_result"
    },
    {
     "data": {
      "image/png": "[encoded data removed]",
      "text/plain": [
       "<Figure size 432x288 with 1 Axes>"
      ]
     },
     "metadata": {},
     "output_type": "display_data"
    }
   ],
   "source": [
    "# Plot result\n",
    "fig = plt.figure()\n",
    "ax1 = fig.add_subplot(111)\n",
    "y0 = Y[:, 0]\n",
    "y1 = Y[:, 1]\n",
    "ax1.scatter(y0,y1)\n",
    "plt.axis('tight')\n",
    "plt.xticks([]), plt.yticks([])\n",
    "plt.title('Projected data') "
   ]
  },
  {
   "cell_type": "markdown",
   "metadata": {},
   "source": [
    "# How to get weights of a new element"
   ]
  },
  {
   "cell_type": "code",
   "execution_count": 109,
   "metadata": {},
   "outputs": [],
   "source": [
    "#### Neighbors search for a new added shape \n",
    "# we will implement K-nearest neighbor search\n",
    "def knn_new(X, K, x_new, t=2.0, dist_metric=\"euclidean\", algorithm=\"ball_tree\"):\n",
    "    \"\"\" compute the neighborhood matrix\n",
    "\n",
    "    Keyword arguments:\n",
    "        X: np.array of data, each row(not column) is associated with one car. (A car is represented by a vector)\n",
    "        K: number of neighbors to seek for each element (the element itself is excluded)\n",
    "        dist_metric: with which metric to compute the distances\n",
    "        algorithm: which which algorithm to use\n",
    "\n",
    "    return:\n",
    "        the neighborhood matrix\n",
    "    \"\"\"\n",
    "\n",
    "    n, p = X.shape  # n: number of elements, p: dimension (number of data per element)\n",
    "\n",
    "    knn = neighbors.NearestNeighbors(K + 1, metric=dist_metric, algorithm=algorithm).fit(X)\n",
    "    nbors = knn.kneighbors([x_new],K + 1, return_distance=False)  # return k nearest neighbours of each member of X, nbors is array of indices \n",
    "\n",
    "    return (nbors[:, 1:])  # neighborhood matrix first one is the point itself, which should be excluded"
   ]
  },
  {
   "cell_type": "code",
   "execution_count": 110,
   "metadata": {
    "scrolled": false
   },
   "outputs": [
    {
     "name": "stdout",
     "output_type": "stream",
     "text": [
      "[53  1 56 24 22 45 49 18]\n"
     ]
    }
   ],
   "source": [
    "# example of a new car shape\n",
    "# knn_new: neighbors of the new shpae in the manifold space \n",
    "x_new = np.ones(dim_sample)\n",
    "x_new[0:m] = 0\n",
    "np.random.shuffle(x_new) \n",
    "knn_new = knn_new(X,K,x_new)[0] #knn_new(X,K,x_new)is a tuple with one element an array\n",
    "print(knn_new)"
   ]
  },
  {
   "cell_type": "code",
   "execution_count": 111,
   "metadata": {},
   "outputs": [],
   "source": [
    "#### calculation of reconstruction weights\n",
    "def get_weights_new(x_new, knn_new, K, reg=0.001):\n",
    "    \"\"\" compute the weight matrix\n",
    "\n",
    "    Keyword arguments:\n",
    "        x_new: a new vector representing a new car shape\n",
    "        knn_new: neighborhood of the new car shape\n",
    "        reg: avoid the covariance matrix to be singular #regularizer\n",
    "        K: number of neighbours selected for each car\n",
    "\n",
    "    return:\n",
    "        the vector of weights for neighboring data points\n",
    "    \"\"\"\n",
    "    \n",
    "    X_bors = X[knn_new[0:K], :] - x_new  # Gi in MLLE paper, X[i] = X[i,:] ith row of X\n",
    "    cov_nbors = np.dot(X_bors, X_bors.T)\n",
    "\n",
    "    # regularization terms\n",
    "    trace = np.trace(cov_nbors)\n",
    "    if trace > 0:\n",
    "        R = reg * trace\n",
    "    else:\n",
    "        R = reg\n",
    "    cov_nbors.flat[::K + 1] += R  # [::K+1] -> every K+1 step. Allows adding only on trace\n",
    "    weights = linalg.solve(cov_nbors, np.ones(K).T, sym_pos=True)  # solution to cov_nbors*weights = 1\n",
    "        # optimal solution to min(cov_nbors*W)\n",
    "\n",
    "        # normalizing\n",
    "    weights = weights / weights.sum()\n",
    "\n",
    "    return (weights)"
   ]
  },
  {
   "cell_type": "code",
   "execution_count": 112,
   "metadata": {},
   "outputs": [
    {
     "name": "stdout",
     "output_type": "stream",
     "text": [
      "[0.12643515 0.12620797 0.12561169 0.12651592 0.12355932 0.12369786\n",
      " 0.12436117 0.12361092]\n"
     ]
    }
   ],
   "source": [
    "w_new = get_weights_new(x_new, knn_new, K)\n",
    "print(w_new)"
   ]
  },
  {
   "cell_type": "markdown",
   "metadata": {},
   "source": [
    "# Fast evaluation of the drag coefficient of a new car shape"
   ]
  },
  {
   "cell_type": "code",
   "execution_count": 113,
   "metadata": {},
   "outputs": [
    {
     "name": "stdout",
     "output_type": "stream",
     "text": [
      "[0.383 0.377 0.309 0.258 0.201 0.313 0.395 0.225 0.326 0.222 0.238 0.267\n",
      " 0.307 0.312 0.221 0.338 0.24  0.301 0.257 0.38  0.287 0.345 0.246 0.383\n",
      " 0.377 0.372 0.367 0.204 0.309 0.291 0.32  0.33  0.251 0.283 0.298 0.248\n",
      " 0.334 0.28  0.377 0.242 0.335 0.325 0.277 0.359 0.275 0.293 0.25  0.231\n",
      " 0.263 0.333 0.306 0.392 0.304 0.365 0.222 0.372 0.215 0.298 0.299 0.371]\n"
     ]
    }
   ],
   "source": [
    "# example coefficents dataset of original 60 car models\n",
    "Cds = 0.2*np.random.random(60) + 0.2\n",
    "for i, Cd in enumerate(Cds): # no need to know the number of the data in the array\n",
    "    Cd = round(Cd, 3)\n",
    "    Cds[i] = Cd\n",
    "print(Cds)"
   ]
  },
  {
   "cell_type": "code",
   "execution_count": 114,
   "metadata": {},
   "outputs": [
    {
     "name": "stdout",
     "output_type": "stream",
     "text": [
      "[0.365 0.377 0.215 0.377 0.246 0.293 0.333 0.257]\n",
      "0.308\n"
     ]
    }
   ],
   "source": [
    "# calculation of the drag coefficient of the new car\n",
    "Cds_nn = np.zeros(K) # drag coefficients of the nearest neighbours\n",
    "for i in range(K):\n",
    "    Cds_nn[i] = Cds[knn_new[i]]\n",
    "print(Cds_nn)\n",
    "Cd_new = round(np.dot(w_new, Cds_nn),3)\n",
    "print(Cd_new)"
   ]
  },
  {
   "cell_type": "code",
   "execution_count": 115,
   "metadata": {},
   "outputs": [
    {
     "name": "stdout",
     "output_type": "stream",
     "text": [
      "38.55833333333333\n"
     ]
    }
   ],
   "source": [
    "print(661*7/12*6/60)"
   ]
  }
 ],
 "metadata": {
  "kernelspec": {
   "display_name": "Python 3",
   "language": "python",
   "name": "python3"
  },
  "language_info": {
   "codemirror_mode": {
    "name": "ipython",
    "version": 3
   },
   "file_extension": ".py",
   "mimetype": "text/x-python",
   "name": "python",
   "nbconvert_exporter": "python",
   "pygments_lexer": "ipython3",
   "version": "3.6.10"
  }
 },
 "nbformat": 4,
 "nbformat_minor": 2
}
