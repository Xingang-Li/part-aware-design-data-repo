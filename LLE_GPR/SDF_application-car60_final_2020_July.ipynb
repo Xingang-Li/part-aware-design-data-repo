{
 "cells": [
  {
   "cell_type": "code",
   "execution_count": 1,
   "metadata": {},
   "outputs": [],
   "source": [
    "import mesh_to_sdf\n",
    "import trimesh\n",
    "import pyrender\n",
    "import numpy as np\n",
    "import time\n",
    "import os"
   ]
  },
  {
   "cell_type": "markdown",
   "metadata": {},
   "source": [
    "# Construction of the matrix of 60 cars"
   ]
  },
  {
   "cell_type": "code",
   "execution_count": 2,
   "metadata": {},
   "outputs": [],
   "source": [
    "def sdf_binary(mesh):\n",
    "    '''calculate binary representation vector of a car shape\n",
    "       input: mesh\n",
    "       output: vector representation of a mesh'''\n",
    "    \n",
    "    start_time = time.time()\n",
    "    \n",
    "    #original mass center and bounding box\n",
    "#     print(mesh.center_mass)\n",
    "    bbx_ex = mesh.bounding_box.primitive.extents\n",
    "#     print(bbx_ex)#bounding box size\n",
    "\n",
    "    #set mass center to (0,0,0)\n",
    "    mesh.vertices -= mesh.center_mass\n",
    "#     print(mesh.center_mass)\n",
    "\n",
    "    #rescale the mesh to real scale in meters\n",
    "    mesh.vertices = mesh.vertices*5\n",
    "#     print(bbx_ex) #bounding box size\n",
    "    \n",
    "    #construct points matrix used to enclude the mesh\n",
    "    x_p = np.linspace(-2.5,2.5,50) \n",
    "    y_p = np.linspace(-1.0,1.0,20)\n",
    "    z_p = np.linspace(-1.0,1.0,20)\n",
    "    points = np.vstack(np.meshgrid(x_p,y_p,z_p)).reshape(3,-1).T\n",
    "    \n",
    "    #calculate the sdf of each point to the mesh\n",
    "    sd = mesh_to_sdf.mesh_to_sdf(mesh, points, \n",
    "                        surface_point_method='scan', sign_method='normal', \n",
    "                        bounding_radius=None, scan_count=100, scan_resolution=400, \n",
    "                        sample_point_count=10000000, normal_sample_count=11)\n",
    "    \n",
    "    #transform the sdf using a presence function\n",
    "    #outside the mesh is 0 and inside the mesh is 1\n",
    "    for i, sdf in enumerate(sd):\n",
    "        if sdf > 0: # outside the boundary\n",
    "            sdf = 0\n",
    "        else:       # on the boundary or inside the boundary\n",
    "            sdf = 1\n",
    "        sd[i] = sdf\n",
    "    \n",
    "    #show execution time\n",
    "    print(\"execution time: %s\" %(time.time() - start_time))\n",
    "    \n",
    "    return sd"
   ]
  },
  {
   "cell_type": "code",
   "execution_count": 3,
   "metadata": {
    "scrolled": false
   },
   "outputs": [
    {
     "name": "stdout",
     "output_type": "stream",
     "text": [
      "execution time: 16.348927974700928\n",
      "b01.obj\n",
      "execution time: 16.818251848220825\n",
      "b02.obj\n",
      "execution time: 17.59190082550049\n",
      "b03.obj\n",
      "execution time: 23.760118007659912\n",
      "b04.obj\n",
      "execution time: 16.036431074142456\n",
      "b05.obj\n",
      "execution time: 18.758228063583374\n",
      "b06.obj\n",
      "execution time: 20.650297164916992\n",
      "b07.obj\n",
      "execution time: 17.738977909088135\n",
      "b08.obj\n",
      "execution time: 16.987776041030884\n",
      "b09.obj\n",
      "execution time: 18.587809085845947\n",
      "b10.obj\n",
      "execution time: 17.16992688179016\n",
      "b11.obj\n",
      "execution time: 18.722342014312744\n",
      "b12.obj\n",
      "execution time: 17.658952951431274\n",
      "b13.obj\n",
      "execution time: 20.55295705795288\n",
      "b14.obj\n",
      "execution time: 16.968953132629395\n",
      "b15.obj\n",
      "execution time: 16.03374409675598\n",
      "b16.obj\n",
      "execution time: 26.86218500137329\n",
      "b17.obj\n",
      "execution time: 21.674726009368896\n",
      "b18.obj\n",
      "execution time: 16.237592220306396\n",
      "b19.obj\n",
      "execution time: 20.890460968017578\n",
      "c01.obj\n",
      "execution time: 20.95894503593445\n",
      "c02.obj\n",
      "execution time: 22.859715223312378\n",
      "c03.obj\n",
      "execution time: 17.8396999835968\n",
      "c04.obj\n",
      "execution time: 18.02364993095398\n",
      "c05.obj\n",
      "execution time: 16.022932052612305\n",
      "c06.obj\n",
      "execution time: 17.359323263168335\n",
      "c07.obj\n",
      "execution time: 18.451741933822632\n",
      "c08.obj\n",
      "execution time: 18.61325216293335\n",
      "s01.obj\n",
      "execution time: 25.89260697364807\n",
      "s02.obj\n",
      "execution time: 19.30786895751953\n",
      "s03.obj\n",
      "execution time: 19.256371021270752\n",
      "s04.obj\n",
      "execution time: 24.16260814666748\n",
      "s05.obj\n",
      "execution time: 28.802831172943115\n",
      "s06.obj\n",
      "execution time: 28.525502920150757\n",
      "s07.obj\n",
      "execution time: 22.909212827682495\n",
      "s08.obj\n",
      "execution time: 20.246851921081543\n",
      "s09.obj\n",
      "execution time: 24.431612968444824\n",
      "s10.obj\n",
      "execution time: 23.401993989944458\n",
      "s11.obj\n",
      "execution time: 27.71950387954712\n",
      "s12.obj\n",
      "execution time: 23.877142906188965\n",
      "s13.obj\n",
      "execution time: 23.11138105392456\n",
      "s14.obj\n",
      "execution time: 22.017077922821045\n",
      "s15.obj\n",
      "execution time: 22.329324960708618\n",
      "s16.obj\n",
      "execution time: 20.891233205795288\n",
      "s17.obj\n",
      "execution time: 25.05118417739868\n",
      "s18.obj\n",
      "execution time: 25.124094009399414\n",
      "s19.obj\n",
      "execution time: 26.44201397895813\n",
      "s20.obj\n",
      "execution time: 23.777272939682007\n",
      "sp01.obj\n",
      "execution time: 20.73578405380249\n",
      "sp02.obj\n",
      "execution time: 24.597548007965088\n",
      "sp03.obj\n",
      "execution time: 18.808479070663452\n",
      "sp04.obj\n",
      "execution time: 24.48378086090088\n",
      "sp05.obj\n",
      "execution time: 23.803956985473633\n",
      "sp06.obj\n",
      "execution time: 26.191834926605225\n",
      "sp07.obj\n",
      "execution time: 23.216086864471436\n",
      "sp08.obj\n",
      "execution time: 26.091068029403687\n",
      "sp09.obj\n",
      "execution time: 24.02457880973816\n",
      "sp10.obj\n",
      "execution time: 22.3851478099823\n",
      "sp11.obj\n",
      "execution time: 23.394629955291748\n",
      "sp12.obj\n",
      "execution time: 20.925102949142456\n",
      "sp13.obj\n"
     ]
    }
   ],
   "source": [
    "#Get a np.array holding all vector representations of 60 car models\n",
    "sd_list = []\n",
    "names = [f for f in os.listdir('./final_car60/')]\n",
    "for name in names:\n",
    "    directory = os.path.join('./final_car60/' + name)\n",
    "    mesh = trimesh.load(directory)\n",
    "    sd = sdf_binary(mesh)\n",
    "    print(name)\n",
    "    sd_list.append(sd)"
   ]
  },
  {
   "cell_type": "code",
   "execution_count": 4,
   "metadata": {
    "scrolled": false
   },
   "outputs": [
    {
     "name": "stdout",
     "output_type": "stream",
     "text": [
      "[[0. 0. 0. ... 0. 0. 0.]\n",
      " [0. 0. 0. ... 0. 0. 0.]\n",
      " [0. 0. 0. ... 0. 0. 0.]\n",
      " ...\n",
      " [0. 1. 1. ... 0. 0. 0.]\n",
      " [0. 0. 0. ... 0. 0. 0.]\n",
      " [0. 0. 0. ... 0. 0. 0.]]\n"
     ]
    }
   ],
   "source": [
    "sd_array = np.array(sd_list)\n",
    "print(sd_array)\n",
    "#np.savetxt('v_rep_car60',sd_array,newline=\" \")"
   ]
  },
  {
   "cell_type": "code",
   "execution_count": 5,
   "metadata": {},
   "outputs": [
    {
     "name": "stdout",
     "output_type": "stream",
     "text": [
      "60\n"
     ]
    }
   ],
   "source": [
    "print(len(sd_array))"
   ]
  },
  {
   "cell_type": "markdown",
   "metadata": {},
   "source": [
    "# Data visualization of the matrix of 60 cars"
   ]
  },
  {
   "cell_type": "code",
   "execution_count": 6,
   "metadata": {},
   "outputs": [],
   "source": [
    "from sklearn import neighbors, datasets, manifold\n",
    "from scipy import linalg\n",
    "from scipy.linalg import eigh\n",
    "import matplotlib\n",
    "import matplotlib.pyplot as plt\n",
    "from mpl_toolkits.mplot3d import Axes3D\n",
    "%matplotlib inline"
   ]
  },
  {
   "cell_type": "code",
   "execution_count": 7,
   "metadata": {},
   "outputs": [],
   "source": [
    "#### Neighbor search\n",
    "# we will implement K-nearest neighbor search\n",
    "def knn_Mat(X, K, t=2.0, dist_metric=\"euclidean\", algorithm=\"ball_tree\"):\n",
    "    \"\"\" compute the neighborhood matrix\n",
    "\n",
    "    Keyword arguments:\n",
    "        X: np.array of data, each row(not column) is associated with one car. (A car is represented by a vector)\n",
    "        K: number of neighbors to seek for each element (the element itself is excluded)\n",
    "        dist_metric: with which metric to compute the distances\n",
    "        algorithm: which which algorithm to use\n",
    "\n",
    "    return:\n",
    "        the neighborhood matrix\n",
    "    \"\"\"\n",
    "\n",
    "    n, p = X.shape  # n: number of elements, p: dimension (number of data per element)\n",
    "\n",
    "    knn = neighbors.NearestNeighbors(K + 1, metric=dist_metric, algorithm=algorithm).fit(X)\n",
    "    distances, nbors = knn.kneighbors(X)  # return k nearest neighbours of each member of X, nbors is array of indices \n",
    "\n",
    "    return (nbors[:, 1:])  # neighborhood matrix first one is the point itself, which should be excluded"
   ]
  },
  {
   "cell_type": "code",
   "execution_count": 8,
   "metadata": {},
   "outputs": [],
   "source": [
    "#### calculation of reconstruction weights\n",
    "def get_weights(X, nbors, reg, K):\n",
    "    \"\"\" compute the weight matrix\n",
    "\n",
    "    Keyword arguments:\n",
    "        X: np.array of data, each row is associated with one car\n",
    "        nbors; neighborhood matrix\n",
    "        regularized term: avoid the covariance matrix to be singular #regularizer\n",
    "        K: number of neighbours selected for each car\n",
    "\n",
    "    return:\n",
    "        the weight matrix\n",
    "    \"\"\"\n",
    "\n",
    "    n, p = X.shape  # n number of car shapes, n rows and p columns (60 rows and 112000 columns in our case)\n",
    "\n",
    "    Weights = np.zeros((n, n))\n",
    "\n",
    "    for i in range(n):\n",
    "\n",
    "        X_bors = X[nbors[i], :] - X[i]  # Gi in MLLE paper\n",
    "        cov_nbors = np.dot(X_bors, X_bors.T)\n",
    "\n",
    "        # regularization terms\n",
    "        trace = np.trace(cov_nbors)\n",
    "        if trace > 0:\n",
    "            R = reg * trace\n",
    "        else:\n",
    "            R = reg\n",
    "        cov_nbors.flat[::K + 1] += R  # [::K+1] -> every K+1 step. Allows adding only on trace\n",
    "        weights = linalg.solve(cov_nbors, np.ones(K).T, sym_pos=True)  # solution to cov_nbors*weights = 1\n",
    "        # optimal solution to min(cov_nbors*W)\n",
    "\n",
    "        # normalizing\n",
    "        weights = weights / weights.sum()\n",
    "        # only ponderable weights of neighbours should be different from zero\n",
    "        #Weights[i, nbors[i]] = weights # put all those weights into a matrix\n",
    "        Weights[i, nbors[i]] = weights\n",
    "\n",
    "    return (Weights)"
   ]
  },
  {
   "cell_type": "code",
   "execution_count": 9,
   "metadata": {},
   "outputs": [],
   "source": [
    "#### Calculate the embedded data using the weights\n",
    "# calculation of the new embedding\n",
    "def Y_(Weights, d):\n",
    "    \"\"\" reconstruct data into the low dimensional space\n",
    "\n",
    "    Keyword arguments:\n",
    "        Weights: weight matrix\n",
    "        d: number of dimension in which to project onto (2 in our case)\n",
    "\n",
    "    return:\n",
    "        the dataset projected onto d dimensions\n",
    "    \"\"\"\n",
    "    n, p = Weights.shape\n",
    "    I = np.eye(n)\n",
    "    m = (I - Weights)\n",
    "    M = m.T.dot(m)\n",
    "\n",
    "    eigvals, eigvecs = eigh(M, eigvals=(1, d), overwrite_a=True)\n",
    "    ind = np.argsort(np.abs(eigvals))\n",
    "\n",
    "    return (eigvecs[:, ind])  # we only keep the the most important vectors (?? xl)\n"
   ]
  },
  {
   "cell_type": "code",
   "execution_count": 10,
   "metadata": {},
   "outputs": [],
   "source": [
    "def LLE_(X, K, d, nbors):\n",
    "    \"\"\" proceed to various LLE steps\n",
    "\n",
    "    Keyword arguments:\n",
    "        X: dataset\n",
    "        K: number of neighbours to seek\n",
    "        d: on how many dimension to project the dataset\n",
    "\n",
    "    return:\n",
    "        the data set projected into d dimensions\n",
    "    \"\"\"\n",
    "    reg = 0.001 # regularized term\n",
    "\n",
    "    try:\n",
    "        if nbors == None:\n",
    "            nbors = knn_Mat(X, K)\n",
    "    except:\n",
    "        pass\n",
    "    Weights = get_weights(X, nbors, reg, K)\n",
    "\n",
    "    Y = Y_(Weights, d)\n",
    "    \n",
    "    return [Y, Weights, nbors]"
   ]
  },
  {
   "cell_type": "code",
   "execution_count": 11,
   "metadata": {
    "scrolled": true
   },
   "outputs": [
    {
     "name": "stdout",
     "output_type": "stream",
     "text": [
      "Reconstruction error: 0.0087597\n"
     ]
    }
   ],
   "source": [
    "X = sd_array\n",
    "n_sample, sample_dim = np.shape(X)\n",
    "K = 6 #in our case, K=6 gets the lowest reconstruction error\n",
    "d = 2\n",
    "nbors = None\n",
    "Y, Weights, nbors = LLE_(X, K, d, nbors)\n",
    "err = np.linalg.norm(Y - np.dot(Weights,Y),'fro')**2 # reconstruction error for Y (low dimensional data)\n",
    "\n",
    "# print(Y)\n",
    "# print(Weights)\n",
    "# print(nbors)\n",
    "# print(np.dot(Weights,Y))\n",
    "print(\"Reconstruction error: %g\" %err)"
   ]
  },
  {
   "cell_type": "code",
   "execution_count": 12,
   "metadata": {},
   "outputs": [],
   "source": [
    "# extracting the weights of neighbors for all shapes \n",
    "W_shapes = np.zeros((n_sample,K)) # W_shapes: weights extracted from Weight matrix\n",
    "for i in range(n_sample):\n",
    "    for j in range(K):\n",
    "        n = nbors[i,:][j]\n",
    "        W_shapes[i,j] = Weights[i,n]   \n",
    "# print(W_shapes)"
   ]
  },
  {
   "cell_type": "code",
   "execution_count": 13,
   "metadata": {},
   "outputs": [
    {
     "data": {
      "text/plain": [
       "Text(0.5, 1.0, 'Projected data')"
      ]
     },
     "execution_count": 13,
     "metadata": {},
     "output_type": "execute_result"
    },
    {
     "data": {
      "image/png": "[encoded data removed]",
      "text/plain": [
       "<Figure size 432x288 with 1 Axes>"
      ]
     },
     "metadata": {},
     "output_type": "display_data"
    }
   ],
   "source": [
    "# # Plot result\n",
    "# fig = plt.figure()\n",
    "# ax1 = fig.add_subplot(111)\n",
    "# y0 = Y[:, 0]\n",
    "# y1 = Y[:, 1]\n",
    "# ax1.scatter(y0,y1)\n",
    "# plt.axis('tight')\n",
    "# plt.xticks([]), plt.yticks([])\n",
    "# plt.title('Projected data') "
   ]
  },
  {
   "cell_type": "code",
   "execution_count": 74,
   "metadata": {},
   "outputs": [
    {
     "data": {
      "text/plain": [
       "Text(0.5, 1.0, 'Projected data')"
      ]
     },
     "execution_count": 74,
     "metadata": {},
     "output_type": "execute_result"
    },
    {
     "data": {
      "image/png": "[encoded data removed]",
      "text/plain": [
       "<Figure size 432x288 with 1 Axes>"
      ]
     },
     "metadata": {},
     "output_type": "display_data"
    }
   ],
   "source": [
    "# Plot result\n",
    "fig, ax = plt.subplots()\n",
    "#fig = plt.figure()\n",
    "# ax1 = fig.add_subplot(111)\n",
    "# ax2 = fig.add_subplot(112)\n",
    "# ax3 = fig.add_subplot(113)\n",
    "# ax4 = fig.add_subplot(114)\n",
    "x_b = Y[:19, 0]\n",
    "y_b = Y[:19, 1]\n",
    "x_c = Y[19:27, 0]\n",
    "y_c = Y[19:27, 1]\n",
    "x_s = Y[27:47, 0]\n",
    "y_s = Y[27:47, 1]\n",
    "x_sp = Y[47:, 0]\n",
    "y_sp = Y[47:, 1]\n",
    "# ax1.scatter(x_b,y_b)\n",
    "# ax2.scatter(x_c,y_c)\n",
    "# ax3.scatter(x_s,y_s)\n",
    "# ax4.scatter(x_sp,y_sp)\n",
    "plt.scatter(x_b,y_b, s=100, marker=\">\", label='big cars') #triangle \n",
    "plt.scatter(x_c,y_c, s=100, marker=(5,0), label='classic cars')#wubianxing\n",
    "plt.scatter(x_s,y_s, s=100, marker=\"+\", label='small cars')#plus\n",
    "plt.scatter(x_sp,y_sp, s=100, marker=(5,1), label='sports cars')#stars\n",
    "plt.legend(loc='lower right')\n",
    "plt.axis('tight')\n",
    "plt.xticks([]), plt.yticks([])\n",
    "plt.title('Projected data') "
   ]
  },
  {
   "cell_type": "markdown",
   "metadata": {},
   "source": [
    "# Get weights of a new car"
   ]
  },
  {
   "cell_type": "code",
   "execution_count": 48,
   "metadata": {},
   "outputs": [],
   "source": [
    "start_time_new = time.time()"
   ]
  },
  {
   "cell_type": "code",
   "execution_count": 49,
   "metadata": {},
   "outputs": [],
   "source": [
    "#### Neighbors search for a new added shape \n",
    "# we will implement K-nearest neighbor search\n",
    "def knn_new(X, K, x_new, t=2.0, dist_metric=\"euclidean\", algorithm=\"ball_tree\"):\n",
    "    \"\"\" compute the neighborhood matrix\n",
    "\n",
    "    Keyword arguments:\n",
    "        X: np.array of data, each row(not column) is associated with one car. (A car is represented by a vector)\n",
    "        K: number of neighbors to seek for each element (the element itself is excluded)\n",
    "        dist_metric: with which metric to compute the distances\n",
    "        algorithm: which which algorithm to use\n",
    "\n",
    "    return:\n",
    "        the neighborhood matrix\n",
    "    \"\"\"\n",
    "\n",
    "    n, p = X.shape  # n: number of elements, p: dimension (number of data per element)\n",
    "\n",
    "    knn = neighbors.NearestNeighbors(K + 1, metric=dist_metric, algorithm=algorithm).fit(X)\n",
    "    nbors = knn.kneighbors([x_new],K + 1, return_distance=False)  # return k nearest neighbours of each member of X, nbors is array of indices \n",
    "\n",
    "    return (nbors[:, 1:])  # neighborhood matrix first one is the point itself, which should be excluded"
   ]
  },
  {
   "cell_type": "code",
   "execution_count": 50,
   "metadata": {},
   "outputs": [],
   "source": [
    "#### calculation of reconstruction weights\n",
    "def get_weights_new(x_new, knn_new, K, reg=0.001):\n",
    "    \"\"\" compute the weight matrix\n",
    "\n",
    "    Keyword arguments:\n",
    "        x_new: a new vector representing a new car shape\n",
    "        knn_new: neighborhood of the new car shape\n",
    "        reg: avoid the covariance matrix to be singular #regularizer\n",
    "        K: number of neighbours selected for each car\n",
    "\n",
    "    return:\n",
    "        the vector of weights for neighboring data points\n",
    "    \"\"\"\n",
    "    \n",
    "    X_bors = X[knn_new[0:K], :] - x_new  # Gi in MLLE paper, X[i] = X[i,:] ith row of X\n",
    "    cov_nbors = np.dot(X_bors, X_bors.T)\n",
    "\n",
    "    # regularization terms\n",
    "    trace = np.trace(cov_nbors)\n",
    "    if trace > 0:\n",
    "        R = reg * trace\n",
    "    else:\n",
    "        R = reg\n",
    "    cov_nbors.flat[::K + 1] += R  # [::K+1] -> every K+1 step. Allows adding only on trace\n",
    "    weights = linalg.solve(cov_nbors, np.ones(K).T, sym_pos=True)  # solution to cov_nbors*weights = 1\n",
    "        # optimal solution to min(cov_nbors*W)\n",
    "\n",
    "        # normalizing\n",
    "    weights = weights / weights.sum()\n",
    "\n",
    "    return (weights)"
   ]
  },
  {
   "cell_type": "markdown",
   "metadata": {},
   "source": [
    "# Fast evaluation of the drag coefficient of a new car shape"
   ]
  },
  {
   "cell_type": "code",
   "execution_count": 52,
   "metadata": {
    "scrolled": true
   },
   "outputs": [
    {
     "name": "stdout",
     "output_type": "stream",
     "text": [
      "[0.58 0.68 0.45 0.52 0.4  0.37 0.45 0.49 0.39 0.55 0.44 0.44 0.52 0.52\n",
      " 0.35 0.41 0.34 0.4  0.32 0.24 0.43 0.65 0.45 0.44 0.64 0.67 0.41 0.35\n",
      " 0.39 0.29 0.33 0.34 0.34 0.54 0.39 0.38 0.31 0.33 0.29 0.28 0.34 0.33\n",
      " 0.25 0.32 0.36 0.3  0.3  0.33 0.35 0.72 0.48 0.37 0.51 0.49 0.61 0.6\n",
      " 0.49 0.71 0.53 0.34]\n"
     ]
    }
   ],
   "source": [
    "# Coefficents dataset of original 60 car models (new)\n",
    "Cds = np.array([0.58, 0.68, 0.45, 0.52, 0.4, 0.37, 0.45, 0.49, 0.39, 0.55,\n",
    "                0.44, 0.44, 0.52, 0.52, 0.35, 0.41, 0.34, 0.4, 0.32, 0.24,\n",
    "                0.43, 0.65, 0.45, 0.44, 0.64, 0.67, 0.41, 0.35, 0.39, 0.29, \n",
    "                0.33,0.34, 0.34, 0.54, 0.39, 0.38, 0.31, 0.33, 0.29, 0.28, \n",
    "                0.34,0.33, 0.25, 0.32, 0.36, 0.3, 0.3, 0.33, 0.35, 0.72, \n",
    "                0.48,0.37, 0.51, 0.49, 0.61, 0.6, 0.49, 0.71, 0.53, 0.34])\n",
    "print(Cds)"
   ]
  },
  {
   "cell_type": "code",
   "execution_count": 54,
   "metadata": {},
   "outputs": [
    {
     "name": "stdout",
     "output_type": "stream",
     "text": [
      "execution time: 21.728824853897095\n",
      "[31 30 43 28 36 52]\n"
     ]
    }
   ],
   "source": [
    "# example of a new car shape\n",
    "# knn_new: neighbors of the new shpae in the manifold space \n",
    "dir_new = os.path.join('./validation_20/' + '19.obj')\n",
    "mesh = trimesh.load(dir_new)\n",
    "x_new = sdf_binary(mesh)\n",
    "knn_new = knn_new(X,K,x_new)[0] #knn_new(X,K,x_new)is a tuple with one element an array\n",
    "print(knn_new)"
   ]
  },
  {
   "cell_type": "code",
   "execution_count": 55,
   "metadata": {},
   "outputs": [
    {
     "name": "stdout",
     "output_type": "stream",
     "text": [
      "[0.25614474 0.07628461 0.15386787 0.1892026  0.12501124 0.19948894]\n"
     ]
    }
   ],
   "source": [
    "w_new = get_weights_new(x_new, knn_new, K)\n",
    "print(w_new)"
   ]
  },
  {
   "cell_type": "code",
   "execution_count": 56,
   "metadata": {},
   "outputs": [
    {
     "name": "stdout",
     "output_type": "stream",
     "text": [
      "[0.34 0.33 0.32 0.39 0.31 0.51]\n",
      "[31 30 43 28 36 52]\n",
      "[0.25614474 0.07628461 0.15386787 0.1892026  0.12501124 0.19948894]\n",
      "./validation_20/19.obj 0.376\n"
     ]
    }
   ],
   "source": [
    "# Calculation of the drag coefficient of the new car\n",
    "Cds_nn = np.zeros(K) # drag coefficients of the nearest neighbours\n",
    "for i in range(K):\n",
    "    Cds_nn[i] = Cds[knn_new[i]]\n",
    "print(Cds_nn)\n",
    "Cd_new = round(np.dot(w_new, Cds_nn),3)\n",
    "print(knn_new)\n",
    "print(w_new)\n",
    "print(dir_new, Cd_new)"
   ]
  },
  {
   "cell_type": "code",
   "execution_count": 57,
   "metadata": {},
   "outputs": [
    {
     "name": "stdout",
     "output_type": "stream",
     "text": [
      "22.068267107009888\n"
     ]
    }
   ],
   "source": [
    "print(time.time() - start_time_new)"
   ]
  },
  {
   "cell_type": "code",
   "execution_count": 58,
   "metadata": {},
   "outputs": [],
   "source": [
    "# # validation of 10 cars\n",
    "# names_x_new = [f for f in os.listdir('./validation_10/')]\n",
    "# for name_x_new in names_x_new:\n",
    "#     directory = os.path.join('./validation_10/' + name_x_new)\n",
    "#     mesh = trimesh.load(directory)\n",
    "#     x_new = sdf_binary(mesh)\n",
    "#     knn_new = knn_new(X,K,x_new)[0]\n",
    "#     w_new = get_weights_new(x_new, knn_new, K)\n",
    "#     #print(w_new)\n",
    "#     Cds_nn = np.zeros(K) # drag coefficients of the nearest neighbours\n",
    "#     for i in range(K):\n",
    "#         Cds_nn[i] = Cds[knn_new[i]]\n",
    "#     #print(Cds_nn)\n",
    "#     Cd_new = round(np.dot(w_new, Cds_nn),3)\n",
    "#     print(name_x_new, Cd_new)"
   ]
  }
 ],
 "metadata": {
  "kernelspec": {
   "display_name": "Python 3",
   "language": "python",
   "name": "python3"
  },
  "language_info": {
   "codemirror_mode": {
    "name": "ipython",
    "version": 3
   },
   "file_extension": ".py",
   "mimetype": "text/x-python",
   "name": "python",
   "nbconvert_exporter": "python",
   "pygments_lexer": "ipython3",
   "version": "3.7.4"
  }
 },
 "nbformat": 4,
 "nbformat_minor": 2
}
